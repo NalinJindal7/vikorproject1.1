{
 "cells": [
  {
   "cell_type": "code",
   "execution_count": 26,
   "id": "grateful-victim",
   "metadata": {},
   "outputs": [],
   "source": [
    "from numpy import *\n",
    "import matplotlib.pyplot as plt\n",
    "import timeit"
   ]
  },
  {
   "cell_type": "code",
   "execution_count": 27,
   "id": "radical-statement",
   "metadata": {},
   "outputs": [],
   "source": [
    "# Step 1: determine the best and worst values for all\n",
    "# criteria functions\n",
    "def best_worst_fij(a, b):\n",
    "    \"\"\" a is the array with the performances and b is\n",
    "\tthe criteria min/max array \n",
    "\t\"\"\"\n",
    "    f = zeros((b.shape[0], 2))\n",
    "    for i in range(b.shape[0]):\n",
    "        if b[i] == 'max':\n",
    "            f[i, 0] = a.max(0)[i]\n",
    "            f[i, 1] = a.min(0)[i]\n",
    "        elif b[i] == 'min':\n",
    "            f[i, 0] = a.min(0)[i]\n",
    "            f[i, 1] = a.max(0)[i]\n",
    "    return f"
   ]
  },
  {
   "cell_type": "code",
   "execution_count": 28,
   "id": "separated-slave",
   "metadata": {},
   "outputs": [],
   "source": [
    "# Step 2: compute the values S_i and R_i\n",
    "def SR(a, b, c):\n",
    "    \"\"\" a is the array with the performances, b is the\n",
    "\tarray with the best and worst performances, and \n",
    "\tc is the criteria min/max array \n",
    "\t\"\"\"\n",
    "    s = zeros(a.shape[0])\n",
    "    r = zeros(a.shape[0])\n",
    "    for i in range(a.shape[0]):\n",
    "        k = 0\n",
    "        o = 0\n",
    "        for j in range(a.shape[1]):\n",
    "            k = k + c[j] * (b[j, 0] - a[i, j]) \\\n",
    "                    / (b[j, 0] - b[j, 1])\n",
    "            u = c[j] * (b[j, 0] - a[i, j]) \\\n",
    "                / (b[j, 0] - b[j, 1])\n",
    "            if u > o:\n",
    "                o = u\n",
    "                r[i] = round(o, 3)\n",
    "            else:\n",
    "                r[i] = round(o, 3)\n",
    "        s[i] = round(k, 3)\n",
    "    return s, r"
   ]
  },
  {
   "cell_type": "code",
   "execution_count": 29,
   "id": "awful-joint",
   "metadata": {},
   "outputs": [],
   "source": [
    "# Step 3: compute the values Q_i\n",
    "def Q(s, r, v):\n",
    "    \"\"\" s is the vector with the S_i values, r is\n",
    "\tthe vector with the R_i values, and v is the\n",
    "\tnumber of criteria \n",
    "\t\"\"\"\n",
    "    q = zeros(s.shape[0])\n",
    "    for i in range(s.shape[0]):\n",
    "        q[i] = round(((v) *\n",
    "            (s[i] - min(s)) / (max(s) - min(s)) +\n",
    "            (1 - v) *\n",
    "            (r[i] - min(r)) / (max(r) - min(r))), 3)\n",
    "    return q\n"
   ]
  },
  {
   "cell_type": "code",
   "execution_count": 30,
   "id": "suspended-quality",
   "metadata": {},
   "outputs": [
    {
     "name": "stdout",
     "output_type": "stream",
     "text": [
      "0.0010510300003261364\n"
     ]
    },
    {
     "data": {
      "image/png": "[encoded data removed]",
      "text/plain": [
       "<Figure size 432x288 with 1 Axes>"
      ]
     },
     "metadata": {
      "needs_background": "light"
     },
     "output_type": "display_data"
    },
    {
     "name": "stdout",
     "output_type": "stream",
     "text": [
      "S =  [0.67 0.33]\n",
      "R =  [0.34 0.33]\n",
      "Q =  [1. 0.]\n"
     ]
    },
    {
     "data": {
      "text/plain": [
       "<Figure size 432x288 with 0 Axes>"
      ]
     },
     "metadata": {},
     "output_type": "display_data"
    }
   ],
   "source": [
    "\n",
    "# VIKOR method: it calls the other functions\n",
    "def vikor(a, b, c, pl):\n",
    "    \"\"\" a is the decision matrix, b is the criteria\n",
    "\tmin/max array, c is the weights matrix, and pl \n",
    "\tis 'y' for plotting the results or any other \n",
    "\tstring for not \n",
    "\t\"\"\"\n",
    "    s, r = SR(a, best_worst_fij(a, b), c)\n",
    "    q = Q(s, r, len(c))\n",
    "    if pl == 'y':\n",
    "        e = [i + 1 for i in range(a.shape[0])]\n",
    "        plt.plot(e, s, 'p--', color = 'red', \n",
    "\t\t\tmarkeredgewidth = 2, markersize = 8)\n",
    "        plt.text(0.02, 0.5, '123', fontsize=14)\n",
    "\n",
    "        plt.plot(e, r, '*--',  color = 'blue', \n",
    "\t\t\tmarkeredgewidth = 2, markersize=8)\n",
    "        plt.plot(e, q, 'o--', color = 'green', \n",
    "\t\t\tmarkeredgewidth = 2, markersize = 8)\n",
    "        # plt.legend(['S', 'R', 'Q'])\n",
    "        plt.xticks(range(a.shape[0] + 2))\n",
    "        plt.axis([0, a.shape[0] + 1, 0, \n",
    "\t\t\tmax(maximum(maximum(s, r), q)) + 0.3])\n",
    "        plt.title(\"VIKOR results\")\n",
    "        text = \"Alternatives \\n s:{} \\n r:{}\\n q:{}\".format(s,r,q)\n",
    "        plt.xlabel(\"Alternatives\")\n",
    "        plt.legend(['S', 'R', 'Q'])\n",
    "        plt.grid(True)\n",
    "        plt.show()\n",
    "        plt.savefig('test_vikor.png')\n",
    "    return s, r, q \n",
    "\n",
    "# performances of the alternatives\n",
    "x = array([[0.25, 0.25, 0.27], [0.23, 0.29, 0.41]])\n",
    "\n",
    "# weights of the criteria\n",
    "w = array([0.33, 0.33, 0.34])\n",
    "\n",
    "# criteria max/min\n",
    "crit_max_min = array(['max', 'max', 'max'])\n",
    "\n",
    "# final results\n",
    "v=1\n",
    "start = timeit.default_timer()\n",
    "vikor(x, crit_max_min, w, v)\n",
    "stop = timeit.default_timer()\n",
    "print(stop - start)\n",
    "s, r, q = vikor(x, crit_max_min, w, 'y')\n",
    "print(\"S = \", s)\n",
    "print(\"R = \", r)\n",
    "print(\"Q = \", q)"
   ]
  },
  {
   "cell_type": "code",
   "execution_count": null,
   "id": "technical-romantic",
   "metadata": {},
   "outputs": [],
   "source": []
  },
  {
   "cell_type": "code",
   "execution_count": null,
   "id": "charged-sleep",
   "metadata": {},
   "outputs": [],
   "source": []
  },
  {
   "cell_type": "code",
   "execution_count": null,
   "id": "frozen-cinema",
   "metadata": {},
   "outputs": [],
   "source": []
  }
 ],
 "metadata": {
  "kernelspec": {
   "display_name": "Python 3",
   "language": "python",
   "name": "python3"
  },
  "language_info": {
   "codemirror_mode": {
    "name": "ipython",
    "version": 3
   },
   "file_extension": ".py",
   "mimetype": "text/x-python",
   "name": "python",
   "nbconvert_exporter": "python",
   "pygments_lexer": "ipython3",
   "version": "3.8.6"
  }
 },
 "nbformat": 4,
 "nbformat_minor": 5
}
