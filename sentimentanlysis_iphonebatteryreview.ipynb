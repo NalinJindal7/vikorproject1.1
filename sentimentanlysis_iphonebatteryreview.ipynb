{
 "cells": [
  {
   "cell_type": "code",
   "execution_count": 1,
   "id": "appreciated-retrieval",
   "metadata": {},
   "outputs": [],
   "source": [
    "import subprocess as sp\n",
    "import sys,os,shutil,pickle,time\n",
    "from os.path import join\n"
   ]
  },
  {
   "cell_type": "code",
   "execution_count": 2,
   "id": "foster-aviation",
   "metadata": {},
   "outputs": [],
   "source": [
    "import pandas as pd\n",
    "import numpy as np"
   ]
  },
  {
   "cell_type": "code",
   "execution_count": 3,
   "id": "binding-looking",
   "metadata": {},
   "outputs": [
    {
     "data": {
      "image/png": "[encoded data removed]",
      "text/plain": [
       "<Figure size 432x288 with 1 Axes>"
      ]
     },
     "metadata": {
      "needs_background": "light"
     },
     "output_type": "display_data"
    }
   ],
   "source": [
    "import matplotlib.pyplot as plt\n",
    "\n",
    "dataset=pd.read_csv(\"iphonebatteryreviews2.csv\")\n",
    "summarised_results = dataset[\"stars\"].value_counts()\n",
    "plt.bar(summarised_results.keys(), summarised_results.values)\n",
    "plt.show()"
   ]
  },
  {
   "cell_type": "code",
   "execution_count": 4,
   "id": "absent-thailand",
   "metadata": {},
   "outputs": [
    {
     "data": {
      "text/html": [
       "<div>\n",
       "<style scoped>\n",
       "    .dataframe tbody tr th:only-of-type {\n",
       "        vertical-align: middle;\n",
       "    }\n",
       "\n",
       "    .dataframe tbody tr th {\n",
       "        vertical-align: top;\n",
       "    }\n",
       "\n",
       "    .dataframe thead th {\n",
       "        text-align: right;\n",
       "    }\n",
       "</style>\n",
       "<table border=\"1\" class=\"dataframe\">\n",
       "  <thead>\n",
       "    <tr style=\"text-align: right;\">\n",
       "      <th></th>\n",
       "      <th>stars</th>\n",
       "      <th>comment</th>\n",
       "      <th>stopwords</th>\n",
       "      <th>punctuation</th>\n",
       "      <th>hastags</th>\n",
       "      <th>numerics</th>\n",
       "      <th>upper</th>\n",
       "      <th>word_count</th>\n",
       "      <th>char_count</th>\n",
       "      <th>avg_word</th>\n",
       "    </tr>\n",
       "  </thead>\n",
       "  <tbody>\n",
       "    <tr>\n",
       "      <th>0</th>\n",
       "      <td>5</td>\n",
       "      <td>opinion dont think much phone attaching nightm...</td>\n",
       "      <td>40</td>\n",
       "      <td>31</td>\n",
       "      <td>0</td>\n",
       "      <td>1</td>\n",
       "      <td>6</td>\n",
       "      <td>77</td>\n",
       "      <td>414</td>\n",
       "      <td>5.3</td>\n",
       "    </tr>\n",
       "    <tr>\n",
       "      <th>1</th>\n",
       "      <td>5</td>\n",
       "      <td>opinion dont think much phone attaching nightm...</td>\n",
       "      <td>40</td>\n",
       "      <td>31</td>\n",
       "      <td>0</td>\n",
       "      <td>1</td>\n",
       "      <td>6</td>\n",
       "      <td>77</td>\n",
       "      <td>414</td>\n",
       "      <td>5.3</td>\n",
       "    </tr>\n",
       "    <tr>\n",
       "      <th>2</th>\n",
       "      <td>4</td>\n",
       "      <td>mom got phone using oneplus years change wante...</td>\n",
       "      <td>158</td>\n",
       "      <td>48</td>\n",
       "      <td>0</td>\n",
       "      <td>1</td>\n",
       "      <td>9</td>\n",
       "      <td>201</td>\n",
       "      <td>1384</td>\n",
       "      <td>6.0</td>\n",
       "    </tr>\n",
       "    <tr>\n",
       "      <th>3</th>\n",
       "      <td>4</td>\n",
       "      <td>almost months using iphone gb apple known one ...</td>\n",
       "      <td>282</td>\n",
       "      <td>92</td>\n",
       "      <td>0</td>\n",
       "      <td>9</td>\n",
       "      <td>33</td>\n",
       "      <td>382</td>\n",
       "      <td>2635</td>\n",
       "      <td>6.2</td>\n",
       "    </tr>\n",
       "    <tr>\n",
       "      <th>4</th>\n",
       "      <td>5</td>\n",
       "      <td>proscamera quality life issue face heating iss...</td>\n",
       "      <td>9</td>\n",
       "      <td>12</td>\n",
       "      <td>0</td>\n",
       "      <td>1</td>\n",
       "      <td>2</td>\n",
       "      <td>31</td>\n",
       "      <td>209</td>\n",
       "      <td>6.6</td>\n",
       "    </tr>\n",
       "  </tbody>\n",
       "</table>\n",
       "</div>"
      ],
      "text/plain": [
       "   stars                                            comment  stopwords  \\\n",
       "0      5  opinion dont think much phone attaching nightm...         40   \n",
       "1      5  opinion dont think much phone attaching nightm...         40   \n",
       "2      4  mom got phone using oneplus years change wante...        158   \n",
       "3      4  almost months using iphone gb apple known one ...        282   \n",
       "4      5  proscamera quality life issue face heating iss...          9   \n",
       "\n",
       "   punctuation  hastags  numerics  upper  word_count  char_count  avg_word  \n",
       "0           31        0         1      6          77         414       5.3  \n",
       "1           31        0         1      6          77         414       5.3  \n",
       "2           48        0         1      9         201        1384       6.0  \n",
       "3           92        0         9     33         382        2635       6.2  \n",
       "4           12        0         1      2          31         209       6.6  "
      ]
     },
     "execution_count": 4,
     "metadata": {},
     "output_type": "execute_result"
    }
   ],
   "source": [
    "df = pd.read_csv('iphonebatteryreviews2.csv')\n",
    "df.head(5)"
   ]
  },
  {
   "cell_type": "code",
   "execution_count": 5,
   "id": "subjective-reconstruction",
   "metadata": {},
   "outputs": [
    {
     "name": "stderr",
     "output_type": "stream",
     "text": [
      "[nltk_data] Downloading package stopwords to\n",
      "[nltk_data]     /home/nalinjindal/nltk_data...\n",
      "[nltk_data]   Package stopwords is already up-to-date!\n",
      "[nltk_data] Downloading package wordnet to\n",
      "[nltk_data]     /home/nalinjindal/nltk_data...\n",
      "[nltk_data]   Package wordnet is already up-to-date!\n",
      "[nltk_data] Downloading package punkt to\n",
      "[nltk_data]     /home/nalinjindal/nltk_data...\n",
      "[nltk_data]   Package punkt is already up-to-date!\n",
      "[nltk_data] Downloading package averaged_perceptron_tagger to\n",
      "[nltk_data]     /home/nalinjindal/nltk_data...\n",
      "[nltk_data]   Package averaged_perceptron_tagger is already up-to-\n",
      "[nltk_data]       date!\n"
     ]
    },
    {
     "data": {
      "text/plain": [
       "True"
      ]
     },
     "execution_count": 5,
     "metadata": {},
     "output_type": "execute_result"
    }
   ],
   "source": [
    "import seaborn as sns\n",
    "import string\n",
    "import re\n",
    "!pip install -q wordcloud\n",
    "import wordcloud\n",
    "from nltk.corpus import stopwords\n",
    "import nltk\n",
    "nltk.download('stopwords')\n",
    "nltk.download('wordnet')\n",
    "nltk.download('punkt')\n",
    "nltk.download('averaged_perceptron_tagger')"
   ]
  },
  {
   "cell_type": "code",
   "execution_count": 6,
   "id": "major-riverside",
   "metadata": {},
   "outputs": [
    {
     "data": {
      "text/html": [
       "<div>\n",
       "<style scoped>\n",
       "    .dataframe tbody tr th:only-of-type {\n",
       "        vertical-align: middle;\n",
       "    }\n",
       "\n",
       "    .dataframe tbody tr th {\n",
       "        vertical-align: top;\n",
       "    }\n",
       "\n",
       "    .dataframe thead th {\n",
       "        text-align: right;\n",
       "    }\n",
       "</style>\n",
       "<table border=\"1\" class=\"dataframe\">\n",
       "  <thead>\n",
       "    <tr style=\"text-align: right;\">\n",
       "      <th></th>\n",
       "      <th>stars</th>\n",
       "      <th>comment</th>\n",
       "      <th>stopwords</th>\n",
       "      <th>punctuation</th>\n",
       "      <th>hastags</th>\n",
       "      <th>numerics</th>\n",
       "      <th>upper</th>\n",
       "      <th>word_count</th>\n",
       "      <th>char_count</th>\n",
       "      <th>avg_word</th>\n",
       "      <th>polarity</th>\n",
       "      <th>subjectivity</th>\n",
       "    </tr>\n",
       "  </thead>\n",
       "  <tbody>\n",
       "    <tr>\n",
       "      <th>0</th>\n",
       "      <td>5</td>\n",
       "      <td>opinion dont think much phone attaching nightm...</td>\n",
       "      <td>40</td>\n",
       "      <td>31</td>\n",
       "      <td>0</td>\n",
       "      <td>1</td>\n",
       "      <td>6</td>\n",
       "      <td>77</td>\n",
       "      <td>414</td>\n",
       "      <td>5.3</td>\n",
       "      <td>0.475758</td>\n",
       "      <td>0.394697</td>\n",
       "    </tr>\n",
       "    <tr>\n",
       "      <th>1</th>\n",
       "      <td>5</td>\n",
       "      <td>opinion dont think much phone attaching nightm...</td>\n",
       "      <td>40</td>\n",
       "      <td>31</td>\n",
       "      <td>0</td>\n",
       "      <td>1</td>\n",
       "      <td>6</td>\n",
       "      <td>77</td>\n",
       "      <td>414</td>\n",
       "      <td>5.3</td>\n",
       "      <td>0.475758</td>\n",
       "      <td>0.394697</td>\n",
       "    </tr>\n",
       "    <tr>\n",
       "      <th>2</th>\n",
       "      <td>4</td>\n",
       "      <td>mom got phone using oneplus years change wante...</td>\n",
       "      <td>158</td>\n",
       "      <td>48</td>\n",
       "      <td>0</td>\n",
       "      <td>1</td>\n",
       "      <td>9</td>\n",
       "      <td>201</td>\n",
       "      <td>1384</td>\n",
       "      <td>6.0</td>\n",
       "      <td>0.414143</td>\n",
       "      <td>0.635169</td>\n",
       "    </tr>\n",
       "    <tr>\n",
       "      <th>3</th>\n",
       "      <td>4</td>\n",
       "      <td>almost months using iphone gb apple known one ...</td>\n",
       "      <td>282</td>\n",
       "      <td>92</td>\n",
       "      <td>0</td>\n",
       "      <td>9</td>\n",
       "      <td>33</td>\n",
       "      <td>382</td>\n",
       "      <td>2635</td>\n",
       "      <td>6.2</td>\n",
       "      <td>0.204994</td>\n",
       "      <td>0.510737</td>\n",
       "    </tr>\n",
       "    <tr>\n",
       "      <th>4</th>\n",
       "      <td>5</td>\n",
       "      <td>proscamera quality life issue face heating iss...</td>\n",
       "      <td>9</td>\n",
       "      <td>12</td>\n",
       "      <td>0</td>\n",
       "      <td>1</td>\n",
       "      <td>2</td>\n",
       "      <td>31</td>\n",
       "      <td>209</td>\n",
       "      <td>6.6</td>\n",
       "      <td>-0.243750</td>\n",
       "      <td>0.450000</td>\n",
       "    </tr>\n",
       "    <tr>\n",
       "      <th>...</th>\n",
       "      <td>...</td>\n",
       "      <td>...</td>\n",
       "      <td>...</td>\n",
       "      <td>...</td>\n",
       "      <td>...</td>\n",
       "      <td>...</td>\n",
       "      <td>...</td>\n",
       "      <td>...</td>\n",
       "      <td>...</td>\n",
       "      <td>...</td>\n",
       "      <td>...</td>\n",
       "      <td>...</td>\n",
       "    </tr>\n",
       "    <tr>\n",
       "      <th>645</th>\n",
       "      <td>4</td>\n",
       "      <td>rating right nowbut want make one thing clear ...</td>\n",
       "      <td>66</td>\n",
       "      <td>27</td>\n",
       "      <td>0</td>\n",
       "      <td>0</td>\n",
       "      <td>2</td>\n",
       "      <td>98</td>\n",
       "      <td>686</td>\n",
       "      <td>6.0</td>\n",
       "      <td>0.063452</td>\n",
       "      <td>0.574286</td>\n",
       "    </tr>\n",
       "    <tr>\n",
       "      <th>646</th>\n",
       "      <td>5</td>\n",
       "      <td>awesome phone specially youre upgrading older ...</td>\n",
       "      <td>17</td>\n",
       "      <td>9</td>\n",
       "      <td>0</td>\n",
       "      <td>0</td>\n",
       "      <td>0</td>\n",
       "      <td>28</td>\n",
       "      <td>200</td>\n",
       "      <td>6.2</td>\n",
       "      <td>0.515476</td>\n",
       "      <td>0.613095</td>\n",
       "    </tr>\n",
       "    <tr>\n",
       "      <th>647</th>\n",
       "      <td>4</td>\n",
       "      <td>battery lifecant complain much pretty decent w...</td>\n",
       "      <td>71</td>\n",
       "      <td>27</td>\n",
       "      <td>0</td>\n",
       "      <td>2</td>\n",
       "      <td>4</td>\n",
       "      <td>81</td>\n",
       "      <td>541</td>\n",
       "      <td>5.9</td>\n",
       "      <td>0.320952</td>\n",
       "      <td>0.499286</td>\n",
       "    </tr>\n",
       "    <tr>\n",
       "      <th>648</th>\n",
       "      <td>3</td>\n",
       "      <td>moved phone samsung transition ios easy howeve...</td>\n",
       "      <td>36</td>\n",
       "      <td>12</td>\n",
       "      <td>0</td>\n",
       "      <td>0</td>\n",
       "      <td>2</td>\n",
       "      <td>42</td>\n",
       "      <td>270</td>\n",
       "      <td>5.6</td>\n",
       "      <td>0.270655</td>\n",
       "      <td>0.597578</td>\n",
       "    </tr>\n",
       "    <tr>\n",
       "      <th>649</th>\n",
       "      <td>4</td>\n",
       "      <td>time new iphone user decades android ownership...</td>\n",
       "      <td>237</td>\n",
       "      <td>152</td>\n",
       "      <td>0</td>\n",
       "      <td>11</td>\n",
       "      <td>19</td>\n",
       "      <td>387</td>\n",
       "      <td>2521</td>\n",
       "      <td>5.9</td>\n",
       "      <td>0.149427</td>\n",
       "      <td>0.553536</td>\n",
       "    </tr>\n",
       "  </tbody>\n",
       "</table>\n",
       "<p>650 rows × 12 columns</p>\n",
       "</div>"
      ],
      "text/plain": [
       "     stars                                            comment  stopwords  \\\n",
       "0        5  opinion dont think much phone attaching nightm...         40   \n",
       "1        5  opinion dont think much phone attaching nightm...         40   \n",
       "2        4  mom got phone using oneplus years change wante...        158   \n",
       "3        4  almost months using iphone gb apple known one ...        282   \n",
       "4        5  proscamera quality life issue face heating iss...          9   \n",
       "..     ...                                                ...        ...   \n",
       "645      4  rating right nowbut want make one thing clear ...         66   \n",
       "646      5  awesome phone specially youre upgrading older ...         17   \n",
       "647      4  battery lifecant complain much pretty decent w...         71   \n",
       "648      3  moved phone samsung transition ios easy howeve...         36   \n",
       "649      4  time new iphone user decades android ownership...        237   \n",
       "\n",
       "     punctuation  hastags  numerics  upper  word_count  char_count  avg_word  \\\n",
       "0             31        0         1      6          77         414       5.3   \n",
       "1             31        0         1      6          77         414       5.3   \n",
       "2             48        0         1      9         201        1384       6.0   \n",
       "3             92        0         9     33         382        2635       6.2   \n",
       "4             12        0         1      2          31         209       6.6   \n",
       "..           ...      ...       ...    ...         ...         ...       ...   \n",
       "645           27        0         0      2          98         686       6.0   \n",
       "646            9        0         0      0          28         200       6.2   \n",
       "647           27        0         2      4          81         541       5.9   \n",
       "648           12        0         0      2          42         270       5.6   \n",
       "649          152        0        11     19         387        2521       5.9   \n",
       "\n",
       "     polarity  subjectivity  \n",
       "0    0.475758      0.394697  \n",
       "1    0.475758      0.394697  \n",
       "2    0.414143      0.635169  \n",
       "3    0.204994      0.510737  \n",
       "4   -0.243750      0.450000  \n",
       "..        ...           ...  \n",
       "645  0.063452      0.574286  \n",
       "646  0.515476      0.613095  \n",
       "647  0.320952      0.499286  \n",
       "648  0.270655      0.597578  \n",
       "649  0.149427      0.553536  \n",
       "\n",
       "[650 rows x 12 columns]"
      ]
     },
     "execution_count": 6,
     "metadata": {},
     "output_type": "execute_result"
    }
   ],
   "source": [
    "from textblob import TextBlob\n",
    "\n",
    "df['comment']= df['comment'].astype(str)\n",
    "\n",
    "pol = lambda x: TextBlob(x).sentiment.polarity\n",
    "sub = lambda x: TextBlob(x).sentiment.subjectivity\n",
    "\n",
    "\n",
    "df['polarity'] = df['comment'].apply(pol)\n",
    "df['subjectivity'] = df['comment'].apply(sub)\n",
    "df"
   ]
  },
  {
   "cell_type": "code",
   "execution_count": 7,
   "id": "appreciated-brooks",
   "metadata": {},
   "outputs": [
    {
     "data": {
      "text/html": [
       "<div>\n",
       "<style scoped>\n",
       "    .dataframe tbody tr th:only-of-type {\n",
       "        vertical-align: middle;\n",
       "    }\n",
       "\n",
       "    .dataframe tbody tr th {\n",
       "        vertical-align: top;\n",
       "    }\n",
       "\n",
       "    .dataframe thead th {\n",
       "        text-align: right;\n",
       "    }\n",
       "</style>\n",
       "<table border=\"1\" class=\"dataframe\">\n",
       "  <thead>\n",
       "    <tr style=\"text-align: right;\">\n",
       "      <th></th>\n",
       "      <th>stars</th>\n",
       "      <th>comment</th>\n",
       "      <th>stopwords</th>\n",
       "      <th>punctuation</th>\n",
       "      <th>hastags</th>\n",
       "      <th>numerics</th>\n",
       "      <th>upper</th>\n",
       "      <th>word_count</th>\n",
       "      <th>char_count</th>\n",
       "      <th>avg_word</th>\n",
       "      <th>polarity</th>\n",
       "      <th>subjectivity</th>\n",
       "    </tr>\n",
       "  </thead>\n",
       "  <tbody>\n",
       "    <tr>\n",
       "      <th>173</th>\n",
       "      <td>5</td>\n",
       "      <td>proscamera quality life issue face heating iss...</td>\n",
       "      <td>9</td>\n",
       "      <td>12</td>\n",
       "      <td>0</td>\n",
       "      <td>1</td>\n",
       "      <td>2</td>\n",
       "      <td>31</td>\n",
       "      <td>209</td>\n",
       "      <td>6.6</td>\n",
       "      <td>-0.24</td>\n",
       "      <td>0.45</td>\n",
       "    </tr>\n",
       "    <tr>\n",
       "      <th>138</th>\n",
       "      <td>3</td>\n",
       "      <td>moved phone samsung transition ios easy howeve...</td>\n",
       "      <td>36</td>\n",
       "      <td>12</td>\n",
       "      <td>0</td>\n",
       "      <td>0</td>\n",
       "      <td>2</td>\n",
       "      <td>42</td>\n",
       "      <td>270</td>\n",
       "      <td>5.6</td>\n",
       "      <td>0.27</td>\n",
       "      <td>0.60</td>\n",
       "    </tr>\n",
       "    <tr>\n",
       "      <th>356</th>\n",
       "      <td>5</td>\n",
       "      <td>awesome phone specially youre upgrading older ...</td>\n",
       "      <td>17</td>\n",
       "      <td>9</td>\n",
       "      <td>0</td>\n",
       "      <td>0</td>\n",
       "      <td>0</td>\n",
       "      <td>28</td>\n",
       "      <td>200</td>\n",
       "      <td>6.2</td>\n",
       "      <td>0.52</td>\n",
       "      <td>0.61</td>\n",
       "    </tr>\n",
       "    <tr>\n",
       "      <th>153</th>\n",
       "      <td>5</td>\n",
       "      <td>proscamera quality life issue face heating iss...</td>\n",
       "      <td>9</td>\n",
       "      <td>12</td>\n",
       "      <td>0</td>\n",
       "      <td>1</td>\n",
       "      <td>2</td>\n",
       "      <td>31</td>\n",
       "      <td>209</td>\n",
       "      <td>6.6</td>\n",
       "      <td>-0.24</td>\n",
       "      <td>0.45</td>\n",
       "    </tr>\n",
       "    <tr>\n",
       "      <th>478</th>\n",
       "      <td>3</td>\n",
       "      <td>moved phone samsung transition ios easy howeve...</td>\n",
       "      <td>36</td>\n",
       "      <td>12</td>\n",
       "      <td>0</td>\n",
       "      <td>0</td>\n",
       "      <td>2</td>\n",
       "      <td>42</td>\n",
       "      <td>270</td>\n",
       "      <td>5.6</td>\n",
       "      <td>0.27</td>\n",
       "      <td>0.60</td>\n",
       "    </tr>\n",
       "  </tbody>\n",
       "</table>\n",
       "</div>"
      ],
      "text/plain": [
       "     stars                                            comment  stopwords  \\\n",
       "173      5  proscamera quality life issue face heating iss...          9   \n",
       "138      3  moved phone samsung transition ios easy howeve...         36   \n",
       "356      5  awesome phone specially youre upgrading older ...         17   \n",
       "153      5  proscamera quality life issue face heating iss...          9   \n",
       "478      3  moved phone samsung transition ios easy howeve...         36   \n",
       "\n",
       "     punctuation  hastags  numerics  upper  word_count  char_count  avg_word  \\\n",
       "173           12        0         1      2          31         209       6.6   \n",
       "138           12        0         0      2          42         270       5.6   \n",
       "356            9        0         0      0          28         200       6.2   \n",
       "153           12        0         1      2          31         209       6.6   \n",
       "478           12        0         0      2          42         270       5.6   \n",
       "\n",
       "     polarity  subjectivity  \n",
       "173     -0.24          0.45  \n",
       "138      0.27          0.60  \n",
       "356      0.52          0.61  \n",
       "153     -0.24          0.45  \n",
       "478      0.27          0.60  "
      ]
     },
     "execution_count": 7,
     "metadata": {},
     "output_type": "execute_result"
    }
   ],
   "source": [
    "df['polarity'] = df['polarity'].round(2)\n",
    "df['subjectivity'] = df['subjectivity'].round(2)\n",
    "df.sample(5)"
   ]
  },
  {
   "cell_type": "code",
   "execution_count": 8,
   "id": "parallel-juice",
   "metadata": {},
   "outputs": [],
   "source": [
    "df2= pd.DataFrame()"
   ]
  },
  {
   "cell_type": "code",
   "execution_count": 9,
   "id": "freelance-integrity",
   "metadata": {},
   "outputs": [],
   "source": [
    "for i in range (1,5):\n",
    "  df2.loc[i,'polarity']= (df.head(100000).loc[df.stars == i].polarity.mean())\n",
    "  df2.loc[i,'subjectivity']= (df.head(100000).loc[df.stars ==i].subjectivity.mean())"
   ]
  },
  {
   "cell_type": "code",
   "execution_count": 10,
   "id": "infinite-venezuela",
   "metadata": {},
   "outputs": [
    {
     "data": {
      "text/html": [
       "<div>\n",
       "<style scoped>\n",
       "    .dataframe tbody tr th:only-of-type {\n",
       "        vertical-align: middle;\n",
       "    }\n",
       "\n",
       "    .dataframe tbody tr th {\n",
       "        vertical-align: top;\n",
       "    }\n",
       "\n",
       "    .dataframe thead th {\n",
       "        text-align: right;\n",
       "    }\n",
       "</style>\n",
       "<table border=\"1\" class=\"dataframe\">\n",
       "  <thead>\n",
       "    <tr style=\"text-align: right;\">\n",
       "      <th></th>\n",
       "      <th>polarity</th>\n",
       "      <th>subjectivity</th>\n",
       "    </tr>\n",
       "  </thead>\n",
       "  <tbody>\n",
       "    <tr>\n",
       "      <th>1</th>\n",
       "      <td>NaN</td>\n",
       "      <td>NaN</td>\n",
       "    </tr>\n",
       "    <tr>\n",
       "      <th>2</th>\n",
       "      <td>NaN</td>\n",
       "      <td>NaN</td>\n",
       "    </tr>\n",
       "    <tr>\n",
       "      <th>3</th>\n",
       "      <td>0.270</td>\n",
       "      <td>0.600</td>\n",
       "    </tr>\n",
       "    <tr>\n",
       "      <th>4</th>\n",
       "      <td>0.228</td>\n",
       "      <td>0.554</td>\n",
       "    </tr>\n",
       "  </tbody>\n",
       "</table>\n",
       "</div>"
      ],
      "text/plain": [
       "   polarity  subjectivity\n",
       "1       NaN           NaN\n",
       "2       NaN           NaN\n",
       "3     0.270         0.600\n",
       "4     0.228         0.554"
      ]
     },
     "execution_count": 10,
     "metadata": {},
     "output_type": "execute_result"
    }
   ],
   "source": [
    "df2"
   ]
  },
  {
   "cell_type": "code",
   "execution_count": 28,
   "id": "secure-youth",
   "metadata": {},
   "outputs": [
    {
     "data": {
      "image/png": "[encoded data removed]",
      "text/plain": [
       "<Figure size 720x576 with 1 Axes>"
      ]
     },
     "metadata": {
      "needs_background": "light"
     },
     "output_type": "display_data"
    }
   ],
   "source": [
    "# Let's plot the results\n",
    "import matplotlib.pyplot as plt\n",
    "\n",
    "plt.rcParams['figure.figsize'] = [10, 8]\n",
    "\n",
    "for index in range(1,6):\n",
    "    x = df.polarity.loc[index]\n",
    "    y = df.subjectivity.loc[index]\n",
    "    plt.scatter(x, y, color='blue')\n",
    "    plt.text(x+.00001, y+.00001, index, fontsize=10)\n",
    "    plt.xlim(-1.0, 0.9) \n",
    "    plt.ylim(0.01, 0.9) \n",
    "    \n",
    "plt.title('Sentiment Analysis', fontsize=20)\n",
    "plt.xlabel('<-- Negative -------- Positive -->', fontsize=15)\n",
    "plt.ylabel('<-- Facts -------- Opinions -->', fontsize=15)\n",
    "\n",
    "plt.show()"
   ]
  },
  {
   "cell_type": "code",
   "execution_count": 14,
   "id": "sonic-denmark",
   "metadata": {},
   "outputs": [],
   "source": [
    "df2= df\n",
    "df2['word_count']= df2['word_count'] //50*50"
   ]
  },
  {
   "cell_type": "code",
   "execution_count": 15,
   "id": "simple-tobacco",
   "metadata": {},
   "outputs": [
    {
     "data": {
      "text/plain": [
       "<AxesSubplot:xlabel='word_count'>"
      ]
     },
     "execution_count": 15,
     "metadata": {},
     "output_type": "execute_result"
    },
    {
     "data": {
      "image/png": "[encoded data removed]",
      "text/plain": [
       "<Figure size 720x576 with 1 Axes>"
      ]
     },
     "metadata": {
      "needs_background": "light"
     },
     "output_type": "display_data"
    }
   ],
   "source": [
    "df.polarity.groupby(df.word_count // 50 * 50).count().plot(kind ='bar')"
   ]
  },
  {
   "cell_type": "code",
   "execution_count": 16,
   "id": "indie-coordinate",
   "metadata": {},
   "outputs": [],
   "source": [
    "df_sub= df.loc[df.word_count //10*10]"
   ]
  },
  {
   "cell_type": "code",
   "execution_count": 17,
   "id": "given-pathology",
   "metadata": {},
   "outputs": [
    {
     "data": {
      "image/png": "[encoded data removed]",
      "text/plain": [
       "<Figure size 1080x432 with 1 Axes>"
      ]
     },
     "metadata": {
      "needs_background": "light"
     },
     "output_type": "display_data"
    }
   ],
   "source": [
    "plt.figure(figsize=(15,6))\n",
    "sns.barplot(x='word_count', y='polarity', data=df_sub)\n",
    "plt.xlabel('Number of Words', fontsize=13)\n",
    "plt.ylabel('Polarity Score', fontsize=13)\n",
    "plt.title('Number of Words vs Polarity', fontsize=15)\n",
    "plt.show();"
   ]
  },
  {
   "cell_type": "code",
   "execution_count": 18,
   "id": "broadband-citation",
   "metadata": {},
   "outputs": [
    {
     "name": "stderr",
     "output_type": "stream",
     "text": [
      "/home/nalinjindal/.local/lib/python3.8/site-packages/seaborn/distributions.py:2557: FutureWarning: `distplot` is a deprecated function and will be removed in a future version. Please adapt your code to use either `displot` (a figure-level function with similar flexibility) or `histplot` (an axes-level function for histograms).\n",
      "  warnings.warn(msg, FutureWarning)\n"
     ]
    },
    {
     "data": {
      "text/plain": [
       "Text(0.5, 1.0, 'Distribution of Subjectivity Score')"
      ]
     },
     "execution_count": 18,
     "metadata": {},
     "output_type": "execute_result"
    },
    {
     "data": {
      "image/png": "[encoded data removed]",
      "text/plain": [
       "<Figure size 720x360 with 1 Axes>"
      ]
     },
     "metadata": {
      "needs_background": "light"
     },
     "output_type": "display_data"
    }
   ],
   "source": [
    "# Density Plot and Histogram of subjectivity\n",
    "plt.figure(figsize=(10,5))\n",
    "sns.distplot(df['subjectivity'], hist=True, kde=True, \n",
    "             bins=int(30), color = 'darkblue', \n",
    "             hist_kws={'edgecolor':'black'},\n",
    "             kde_kws={'linewidth': 4})\n",
    "plt.xlim([-0.001,1.001])\n",
    "plt.xlabel('Subjectivity', fontsize=13)\n",
    "plt.ylabel('Frequency', fontsize=13)\n",
    "plt.title('Distribution of Subjectivity Score', fontsize=15)"
   ]
  },
  {
   "cell_type": "code",
   "execution_count": null,
   "id": "attempted-terrace",
   "metadata": {},
   "outputs": [],
   "source": []
  },
  {
   "cell_type": "code",
   "execution_count": null,
   "id": "decent-screening",
   "metadata": {},
   "outputs": [],
   "source": []
  }
 ],
 "metadata": {
  "kernelspec": {
   "display_name": "Python 3",
   "language": "python",
   "name": "python3"
  },
  "language_info": {
   "codemirror_mode": {
    "name": "ipython",
    "version": 3
   },
   "file_extension": ".py",
   "mimetype": "text/x-python",
   "name": "python",
   "nbconvert_exporter": "python",
   "pygments_lexer": "ipython3",
   "version": "3.8.6"
  }
 },
 "nbformat": 4,
 "nbformat_minor": 5
}
