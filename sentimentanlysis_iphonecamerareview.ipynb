{
 "cells": [
  {
   "cell_type": "code",
   "execution_count": 1,
   "id": "appreciated-retrieval",
   "metadata": {},
   "outputs": [],
   "source": [
    "import subprocess as sp\n",
    "import sys,os,shutil,pickle,time\n",
    "from os.path import join\n"
   ]
  },
  {
   "cell_type": "code",
   "execution_count": 2,
   "id": "foster-aviation",
   "metadata": {},
   "outputs": [],
   "source": [
    "import pandas as pd\n",
    "import numpy as np"
   ]
  },
  {
   "cell_type": "code",
   "execution_count": 3,
   "id": "regulation-stream",
   "metadata": {},
   "outputs": [
    {
     "data": {
      "image/png": "[encoded data removed]",
      "text/plain": [
       "<Figure size 432x288 with 1 Axes>"
      ]
     },
     "metadata": {
      "needs_background": "light"
     },
     "output_type": "display_data"
    }
   ],
   "source": [
    "import matplotlib.pyplot as plt\n",
    "\n",
    "dataset=pd.read_csv(\"iphonecamerareviews2.csv\")\n",
    "summarised_results = dataset[\"stars\"].value_counts()\n",
    "plt.bar(summarised_results.keys(), summarised_results.values)\n",
    "plt.show()"
   ]
  },
  {
   "cell_type": "code",
   "execution_count": 4,
   "id": "absent-thailand",
   "metadata": {},
   "outputs": [
    {
     "data": {
      "text/html": [
       "<div>\n",
       "<style scoped>\n",
       "    .dataframe tbody tr th:only-of-type {\n",
       "        vertical-align: middle;\n",
       "    }\n",
       "\n",
       "    .dataframe tbody tr th {\n",
       "        vertical-align: top;\n",
       "    }\n",
       "\n",
       "    .dataframe thead th {\n",
       "        text-align: right;\n",
       "    }\n",
       "</style>\n",
       "<table border=\"1\" class=\"dataframe\">\n",
       "  <thead>\n",
       "    <tr style=\"text-align: right;\">\n",
       "      <th></th>\n",
       "      <th>stars</th>\n",
       "      <th>comment</th>\n",
       "      <th>stopwords</th>\n",
       "      <th>punctuation</th>\n",
       "      <th>hastags</th>\n",
       "      <th>numerics</th>\n",
       "      <th>upper</th>\n",
       "      <th>word_count</th>\n",
       "      <th>char_count</th>\n",
       "      <th>avg_word</th>\n",
       "    </tr>\n",
       "  </thead>\n",
       "  <tbody>\n",
       "    <tr>\n",
       "      <th>0</th>\n",
       "      <td>5</td>\n",
       "      <td>iphone design good camera quality awesome also...</td>\n",
       "      <td>56</td>\n",
       "      <td>33</td>\n",
       "      <td>0</td>\n",
       "      <td>0</td>\n",
       "      <td>10</td>\n",
       "      <td>97</td>\n",
       "      <td>591</td>\n",
       "      <td>5.8</td>\n",
       "    </tr>\n",
       "    <tr>\n",
       "      <th>1</th>\n",
       "      <td>5</td>\n",
       "      <td>second apple device havent sold kidney got avi...</td>\n",
       "      <td>152</td>\n",
       "      <td>61</td>\n",
       "      <td>0</td>\n",
       "      <td>4</td>\n",
       "      <td>10</td>\n",
       "      <td>223</td>\n",
       "      <td>1429</td>\n",
       "      <td>5.7</td>\n",
       "    </tr>\n",
       "    <tr>\n",
       "      <th>2</th>\n",
       "      <td>5</td>\n",
       "      <td>phone bit big hold good android usersas per de...</td>\n",
       "      <td>19</td>\n",
       "      <td>4</td>\n",
       "      <td>0</td>\n",
       "      <td>0</td>\n",
       "      <td>0</td>\n",
       "      <td>29</td>\n",
       "      <td>181</td>\n",
       "      <td>5.3</td>\n",
       "    </tr>\n",
       "    <tr>\n",
       "      <th>3</th>\n",
       "      <td>5</td>\n",
       "      <td>bought iphone red absolutely love design insan...</td>\n",
       "      <td>74</td>\n",
       "      <td>20</td>\n",
       "      <td>0</td>\n",
       "      <td>1</td>\n",
       "      <td>5</td>\n",
       "      <td>85</td>\n",
       "      <td>568</td>\n",
       "      <td>5.9</td>\n",
       "    </tr>\n",
       "    <tr>\n",
       "      <th>4</th>\n",
       "      <td>5</td>\n",
       "      <td>awesome phone great camera quali</td>\n",
       "      <td>0</td>\n",
       "      <td>1</td>\n",
       "      <td>0</td>\n",
       "      <td>0</td>\n",
       "      <td>0</td>\n",
       "      <td>5</td>\n",
       "      <td>34</td>\n",
       "      <td>6.0</td>\n",
       "    </tr>\n",
       "  </tbody>\n",
       "</table>\n",
       "</div>"
      ],
      "text/plain": [
       "   stars                                            comment  stopwords  \\\n",
       "0      5  iphone design good camera quality awesome also...         56   \n",
       "1      5  second apple device havent sold kidney got avi...        152   \n",
       "2      5  phone bit big hold good android usersas per de...         19   \n",
       "3      5  bought iphone red absolutely love design insan...         74   \n",
       "4      5                   awesome phone great camera quali          0   \n",
       "\n",
       "   punctuation  hastags  numerics  upper  word_count  char_count  avg_word  \n",
       "0           33        0         0     10          97         591       5.8  \n",
       "1           61        0         4     10         223        1429       5.7  \n",
       "2            4        0         0      0          29         181       5.3  \n",
       "3           20        0         1      5          85         568       5.9  \n",
       "4            1        0         0      0           5          34       6.0  "
      ]
     },
     "execution_count": 4,
     "metadata": {},
     "output_type": "execute_result"
    }
   ],
   "source": [
    "df = pd.read_csv('iphonecamerareviews2.csv')\n",
    "df.head(5)"
   ]
  },
  {
   "cell_type": "code",
   "execution_count": 5,
   "id": "subjective-reconstruction",
   "metadata": {},
   "outputs": [
    {
     "name": "stderr",
     "output_type": "stream",
     "text": [
      "[nltk_data] Downloading package stopwords to\n",
      "[nltk_data]     /home/nalinjindal/nltk_data...\n",
      "[nltk_data]   Package stopwords is already up-to-date!\n",
      "[nltk_data] Downloading package wordnet to\n",
      "[nltk_data]     /home/nalinjindal/nltk_data...\n",
      "[nltk_data]   Package wordnet is already up-to-date!\n",
      "[nltk_data] Downloading package punkt to\n",
      "[nltk_data]     /home/nalinjindal/nltk_data...\n",
      "[nltk_data]   Package punkt is already up-to-date!\n",
      "[nltk_data] Downloading package averaged_perceptron_tagger to\n",
      "[nltk_data]     /home/nalinjindal/nltk_data...\n",
      "[nltk_data]   Package averaged_perceptron_tagger is already up-to-\n",
      "[nltk_data]       date!\n"
     ]
    },
    {
     "data": {
      "text/plain": [
       "True"
      ]
     },
     "execution_count": 5,
     "metadata": {},
     "output_type": "execute_result"
    }
   ],
   "source": [
    "import seaborn as sns\n",
    "import string\n",
    "import re\n",
    "!pip install -q wordcloud\n",
    "import wordcloud\n",
    "from nltk.corpus import stopwords\n",
    "import nltk\n",
    "nltk.download('stopwords')\n",
    "nltk.download('wordnet')\n",
    "nltk.download('punkt')\n",
    "nltk.download('averaged_perceptron_tagger')"
   ]
  },
  {
   "cell_type": "code",
   "execution_count": 6,
   "id": "major-riverside",
   "metadata": {},
   "outputs": [
    {
     "data": {
      "text/html": [
       "<div>\n",
       "<style scoped>\n",
       "    .dataframe tbody tr th:only-of-type {\n",
       "        vertical-align: middle;\n",
       "    }\n",
       "\n",
       "    .dataframe tbody tr th {\n",
       "        vertical-align: top;\n",
       "    }\n",
       "\n",
       "    .dataframe thead th {\n",
       "        text-align: right;\n",
       "    }\n",
       "</style>\n",
       "<table border=\"1\" class=\"dataframe\">\n",
       "  <thead>\n",
       "    <tr style=\"text-align: right;\">\n",
       "      <th></th>\n",
       "      <th>stars</th>\n",
       "      <th>comment</th>\n",
       "      <th>stopwords</th>\n",
       "      <th>punctuation</th>\n",
       "      <th>hastags</th>\n",
       "      <th>numerics</th>\n",
       "      <th>upper</th>\n",
       "      <th>word_count</th>\n",
       "      <th>char_count</th>\n",
       "      <th>avg_word</th>\n",
       "      <th>polarity</th>\n",
       "      <th>subjectivity</th>\n",
       "    </tr>\n",
       "  </thead>\n",
       "  <tbody>\n",
       "    <tr>\n",
       "      <th>0</th>\n",
       "      <td>5</td>\n",
       "      <td>iphone design good camera quality awesome also...</td>\n",
       "      <td>56</td>\n",
       "      <td>33</td>\n",
       "      <td>0</td>\n",
       "      <td>0</td>\n",
       "      <td>10</td>\n",
       "      <td>97</td>\n",
       "      <td>591</td>\n",
       "      <td>5.8</td>\n",
       "      <td>0.319318</td>\n",
       "      <td>0.606061</td>\n",
       "    </tr>\n",
       "    <tr>\n",
       "      <th>1</th>\n",
       "      <td>5</td>\n",
       "      <td>second apple device havent sold kidney got avi...</td>\n",
       "      <td>152</td>\n",
       "      <td>61</td>\n",
       "      <td>0</td>\n",
       "      <td>4</td>\n",
       "      <td>10</td>\n",
       "      <td>223</td>\n",
       "      <td>1429</td>\n",
       "      <td>5.7</td>\n",
       "      <td>0.184994</td>\n",
       "      <td>0.507269</td>\n",
       "    </tr>\n",
       "    <tr>\n",
       "      <th>2</th>\n",
       "      <td>5</td>\n",
       "      <td>phone bit big hold good android usersas per de...</td>\n",
       "      <td>19</td>\n",
       "      <td>4</td>\n",
       "      <td>0</td>\n",
       "      <td>0</td>\n",
       "      <td>0</td>\n",
       "      <td>29</td>\n",
       "      <td>181</td>\n",
       "      <td>5.3</td>\n",
       "      <td>0.444215</td>\n",
       "      <td>0.559504</td>\n",
       "    </tr>\n",
       "    <tr>\n",
       "      <th>3</th>\n",
       "      <td>5</td>\n",
       "      <td>bought iphone red absolutely love design insan...</td>\n",
       "      <td>74</td>\n",
       "      <td>20</td>\n",
       "      <td>0</td>\n",
       "      <td>1</td>\n",
       "      <td>5</td>\n",
       "      <td>85</td>\n",
       "      <td>568</td>\n",
       "      <td>5.9</td>\n",
       "      <td>0.025758</td>\n",
       "      <td>0.600649</td>\n",
       "    </tr>\n",
       "    <tr>\n",
       "      <th>4</th>\n",
       "      <td>5</td>\n",
       "      <td>awesome phone great camera quali</td>\n",
       "      <td>0</td>\n",
       "      <td>1</td>\n",
       "      <td>0</td>\n",
       "      <td>0</td>\n",
       "      <td>0</td>\n",
       "      <td>5</td>\n",
       "      <td>34</td>\n",
       "      <td>6.0</td>\n",
       "      <td>0.900000</td>\n",
       "      <td>0.875000</td>\n",
       "    </tr>\n",
       "    <tr>\n",
       "      <th>...</th>\n",
       "      <td>...</td>\n",
       "      <td>...</td>\n",
       "      <td>...</td>\n",
       "      <td>...</td>\n",
       "      <td>...</td>\n",
       "      <td>...</td>\n",
       "      <td>...</td>\n",
       "      <td>...</td>\n",
       "      <td>...</td>\n",
       "      <td>...</td>\n",
       "      <td>...</td>\n",
       "      <td>...</td>\n",
       "    </tr>\n",
       "    <tr>\n",
       "      <th>905</th>\n",
       "      <td>3</td>\n",
       "      <td>iphone good phone every thing fine budget phon...</td>\n",
       "      <td>54</td>\n",
       "      <td>6</td>\n",
       "      <td>0</td>\n",
       "      <td>4</td>\n",
       "      <td>0</td>\n",
       "      <td>61</td>\n",
       "      <td>343</td>\n",
       "      <td>5.0</td>\n",
       "      <td>0.156061</td>\n",
       "      <td>0.381818</td>\n",
       "    </tr>\n",
       "    <tr>\n",
       "      <th>906</th>\n",
       "      <td>4</td>\n",
       "      <td>almost months using iphone gb apple known one ...</td>\n",
       "      <td>282</td>\n",
       "      <td>92</td>\n",
       "      <td>0</td>\n",
       "      <td>9</td>\n",
       "      <td>33</td>\n",
       "      <td>382</td>\n",
       "      <td>2635</td>\n",
       "      <td>6.2</td>\n",
       "      <td>0.204994</td>\n",
       "      <td>0.510737</td>\n",
       "    </tr>\n",
       "    <tr>\n",
       "      <th>907</th>\n",
       "      <td>5</td>\n",
       "      <td>proscamera quality life issue face heating iss...</td>\n",
       "      <td>9</td>\n",
       "      <td>12</td>\n",
       "      <td>0</td>\n",
       "      <td>1</td>\n",
       "      <td>2</td>\n",
       "      <td>31</td>\n",
       "      <td>209</td>\n",
       "      <td>6.6</td>\n",
       "      <td>-0.243750</td>\n",
       "      <td>0.450000</td>\n",
       "    </tr>\n",
       "    <tr>\n",
       "      <th>908</th>\n",
       "      <td>5</td>\n",
       "      <td>last months waiting best possible phone every ...</td>\n",
       "      <td>143</td>\n",
       "      <td>31</td>\n",
       "      <td>0</td>\n",
       "      <td>7</td>\n",
       "      <td>3</td>\n",
       "      <td>178</td>\n",
       "      <td>1085</td>\n",
       "      <td>5.5</td>\n",
       "      <td>0.355914</td>\n",
       "      <td>0.499462</td>\n",
       "    </tr>\n",
       "    <tr>\n",
       "      <th>909</th>\n",
       "      <td>5</td>\n",
       "      <td>years iphone finally decided take upgrade ipho...</td>\n",
       "      <td>30</td>\n",
       "      <td>11</td>\n",
       "      <td>0</td>\n",
       "      <td>3</td>\n",
       "      <td>2</td>\n",
       "      <td>47</td>\n",
       "      <td>276</td>\n",
       "      <td>5.6</td>\n",
       "      <td>0.165000</td>\n",
       "      <td>0.794722</td>\n",
       "    </tr>\n",
       "  </tbody>\n",
       "</table>\n",
       "<p>910 rows × 12 columns</p>\n",
       "</div>"
      ],
      "text/plain": [
       "     stars                                            comment  stopwords  \\\n",
       "0        5  iphone design good camera quality awesome also...         56   \n",
       "1        5  second apple device havent sold kidney got avi...        152   \n",
       "2        5  phone bit big hold good android usersas per de...         19   \n",
       "3        5  bought iphone red absolutely love design insan...         74   \n",
       "4        5                   awesome phone great camera quali          0   \n",
       "..     ...                                                ...        ...   \n",
       "905      3  iphone good phone every thing fine budget phon...         54   \n",
       "906      4  almost months using iphone gb apple known one ...        282   \n",
       "907      5  proscamera quality life issue face heating iss...          9   \n",
       "908      5  last months waiting best possible phone every ...        143   \n",
       "909      5  years iphone finally decided take upgrade ipho...         30   \n",
       "\n",
       "     punctuation  hastags  numerics  upper  word_count  char_count  avg_word  \\\n",
       "0             33        0         0     10          97         591       5.8   \n",
       "1             61        0         4     10         223        1429       5.7   \n",
       "2              4        0         0      0          29         181       5.3   \n",
       "3             20        0         1      5          85         568       5.9   \n",
       "4              1        0         0      0           5          34       6.0   \n",
       "..           ...      ...       ...    ...         ...         ...       ...   \n",
       "905            6        0         4      0          61         343       5.0   \n",
       "906           92        0         9     33         382        2635       6.2   \n",
       "907           12        0         1      2          31         209       6.6   \n",
       "908           31        0         7      3         178        1085       5.5   \n",
       "909           11        0         3      2          47         276       5.6   \n",
       "\n",
       "     polarity  subjectivity  \n",
       "0    0.319318      0.606061  \n",
       "1    0.184994      0.507269  \n",
       "2    0.444215      0.559504  \n",
       "3    0.025758      0.600649  \n",
       "4    0.900000      0.875000  \n",
       "..        ...           ...  \n",
       "905  0.156061      0.381818  \n",
       "906  0.204994      0.510737  \n",
       "907 -0.243750      0.450000  \n",
       "908  0.355914      0.499462  \n",
       "909  0.165000      0.794722  \n",
       "\n",
       "[910 rows x 12 columns]"
      ]
     },
     "execution_count": 6,
     "metadata": {},
     "output_type": "execute_result"
    }
   ],
   "source": [
    "from textblob import TextBlob\n",
    "\n",
    "df['comment']= df['comment'].astype(str)\n",
    "\n",
    "pol = lambda x: TextBlob(x).sentiment.polarity\n",
    "sub = lambda x: TextBlob(x).sentiment.subjectivity\n",
    "\n",
    "\n",
    "df['polarity'] = df['comment'].apply(pol)\n",
    "df['subjectivity'] = df['comment'].apply(sub)\n",
    "df"
   ]
  },
  {
   "cell_type": "code",
   "execution_count": 7,
   "id": "appreciated-brooks",
   "metadata": {},
   "outputs": [
    {
     "data": {
      "text/html": [
       "<div>\n",
       "<style scoped>\n",
       "    .dataframe tbody tr th:only-of-type {\n",
       "        vertical-align: middle;\n",
       "    }\n",
       "\n",
       "    .dataframe tbody tr th {\n",
       "        vertical-align: top;\n",
       "    }\n",
       "\n",
       "    .dataframe thead th {\n",
       "        text-align: right;\n",
       "    }\n",
       "</style>\n",
       "<table border=\"1\" class=\"dataframe\">\n",
       "  <thead>\n",
       "    <tr style=\"text-align: right;\">\n",
       "      <th></th>\n",
       "      <th>stars</th>\n",
       "      <th>comment</th>\n",
       "      <th>stopwords</th>\n",
       "      <th>punctuation</th>\n",
       "      <th>hastags</th>\n",
       "      <th>numerics</th>\n",
       "      <th>upper</th>\n",
       "      <th>word_count</th>\n",
       "      <th>char_count</th>\n",
       "      <th>avg_word</th>\n",
       "      <th>polarity</th>\n",
       "      <th>subjectivity</th>\n",
       "    </tr>\n",
       "  </thead>\n",
       "  <tbody>\n",
       "    <tr>\n",
       "      <th>422</th>\n",
       "      <td>5</td>\n",
       "      <td>phone bit big hold good android usersas per de...</td>\n",
       "      <td>19</td>\n",
       "      <td>4</td>\n",
       "      <td>0</td>\n",
       "      <td>0</td>\n",
       "      <td>0</td>\n",
       "      <td>29</td>\n",
       "      <td>181</td>\n",
       "      <td>5.3</td>\n",
       "      <td>0.44</td>\n",
       "      <td>0.56</td>\n",
       "    </tr>\n",
       "    <tr>\n",
       "      <th>66</th>\n",
       "      <td>4</td>\n",
       "      <td>almost months using iphone gb apple known one ...</td>\n",
       "      <td>282</td>\n",
       "      <td>92</td>\n",
       "      <td>0</td>\n",
       "      <td>9</td>\n",
       "      <td>33</td>\n",
       "      <td>382</td>\n",
       "      <td>2635</td>\n",
       "      <td>6.2</td>\n",
       "      <td>0.20</td>\n",
       "      <td>0.51</td>\n",
       "    </tr>\n",
       "    <tr>\n",
       "      <th>340</th>\n",
       "      <td>5</td>\n",
       "      <td>iphone design good camera quality awesome also...</td>\n",
       "      <td>56</td>\n",
       "      <td>33</td>\n",
       "      <td>0</td>\n",
       "      <td>0</td>\n",
       "      <td>10</td>\n",
       "      <td>97</td>\n",
       "      <td>591</td>\n",
       "      <td>5.8</td>\n",
       "      <td>0.32</td>\n",
       "      <td>0.61</td>\n",
       "    </tr>\n",
       "    <tr>\n",
       "      <th>456</th>\n",
       "      <td>4</td>\n",
       "      <td>almost months using iphone gb apple known one ...</td>\n",
       "      <td>282</td>\n",
       "      <td>92</td>\n",
       "      <td>0</td>\n",
       "      <td>9</td>\n",
       "      <td>33</td>\n",
       "      <td>382</td>\n",
       "      <td>2635</td>\n",
       "      <td>6.2</td>\n",
       "      <td>0.20</td>\n",
       "      <td>0.51</td>\n",
       "    </tr>\n",
       "    <tr>\n",
       "      <th>281</th>\n",
       "      <td>5</td>\n",
       "      <td>second apple device havent sold kidney got avi...</td>\n",
       "      <td>152</td>\n",
       "      <td>61</td>\n",
       "      <td>0</td>\n",
       "      <td>4</td>\n",
       "      <td>10</td>\n",
       "      <td>223</td>\n",
       "      <td>1429</td>\n",
       "      <td>5.7</td>\n",
       "      <td>0.18</td>\n",
       "      <td>0.51</td>\n",
       "    </tr>\n",
       "  </tbody>\n",
       "</table>\n",
       "</div>"
      ],
      "text/plain": [
       "     stars                                            comment  stopwords  \\\n",
       "422      5  phone bit big hold good android usersas per de...         19   \n",
       "66       4  almost months using iphone gb apple known one ...        282   \n",
       "340      5  iphone design good camera quality awesome also...         56   \n",
       "456      4  almost months using iphone gb apple known one ...        282   \n",
       "281      5  second apple device havent sold kidney got avi...        152   \n",
       "\n",
       "     punctuation  hastags  numerics  upper  word_count  char_count  avg_word  \\\n",
       "422            4        0         0      0          29         181       5.3   \n",
       "66            92        0         9     33         382        2635       6.2   \n",
       "340           33        0         0     10          97         591       5.8   \n",
       "456           92        0         9     33         382        2635       6.2   \n",
       "281           61        0         4     10         223        1429       5.7   \n",
       "\n",
       "     polarity  subjectivity  \n",
       "422      0.44          0.56  \n",
       "66       0.20          0.51  \n",
       "340      0.32          0.61  \n",
       "456      0.20          0.51  \n",
       "281      0.18          0.51  "
      ]
     },
     "execution_count": 7,
     "metadata": {},
     "output_type": "execute_result"
    }
   ],
   "source": [
    "df['polarity'] = df['polarity'].round(2)\n",
    "df['subjectivity'] = df['subjectivity'].round(2)\n",
    "df.sample(5)"
   ]
  },
  {
   "cell_type": "code",
   "execution_count": 8,
   "id": "parallel-juice",
   "metadata": {},
   "outputs": [],
   "source": [
    "df2= pd.DataFrame()"
   ]
  },
  {
   "cell_type": "code",
   "execution_count": 9,
   "id": "freelance-integrity",
   "metadata": {},
   "outputs": [],
   "source": [
    "for i in range (1,5):\n",
    "  df2.loc[i,'polarity']= (df.head(100000).loc[df.stars == i].polarity.mean())\n",
    "  df2.loc[i,'subjectivity']= (df.head(100000).loc[df.stars ==i].subjectivity.mean())"
   ]
  },
  {
   "cell_type": "code",
   "execution_count": 10,
   "id": "infinite-venezuela",
   "metadata": {},
   "outputs": [
    {
     "data": {
      "text/html": [
       "<div>\n",
       "<style scoped>\n",
       "    .dataframe tbody tr th:only-of-type {\n",
       "        vertical-align: middle;\n",
       "    }\n",
       "\n",
       "    .dataframe tbody tr th {\n",
       "        vertical-align: top;\n",
       "    }\n",
       "\n",
       "    .dataframe thead th {\n",
       "        text-align: right;\n",
       "    }\n",
       "</style>\n",
       "<table border=\"1\" class=\"dataframe\">\n",
       "  <thead>\n",
       "    <tr style=\"text-align: right;\">\n",
       "      <th></th>\n",
       "      <th>polarity</th>\n",
       "      <th>subjectivity</th>\n",
       "    </tr>\n",
       "  </thead>\n",
       "  <tbody>\n",
       "    <tr>\n",
       "      <th>1</th>\n",
       "      <td>NaN</td>\n",
       "      <td>NaN</td>\n",
       "    </tr>\n",
       "    <tr>\n",
       "      <th>2</th>\n",
       "      <td>NaN</td>\n",
       "      <td>NaN</td>\n",
       "    </tr>\n",
       "    <tr>\n",
       "      <th>3</th>\n",
       "      <td>0.16</td>\n",
       "      <td>0.38</td>\n",
       "    </tr>\n",
       "    <tr>\n",
       "      <th>4</th>\n",
       "      <td>0.20</td>\n",
       "      <td>0.51</td>\n",
       "    </tr>\n",
       "  </tbody>\n",
       "</table>\n",
       "</div>"
      ],
      "text/plain": [
       "   polarity  subjectivity\n",
       "1       NaN           NaN\n",
       "2       NaN           NaN\n",
       "3      0.16          0.38\n",
       "4      0.20          0.51"
      ]
     },
     "execution_count": 10,
     "metadata": {},
     "output_type": "execute_result"
    }
   ],
   "source": [
    "df2"
   ]
  },
  {
   "cell_type": "code",
   "execution_count": 15,
   "id": "secure-youth",
   "metadata": {},
   "outputs": [
    {
     "data": {
      "image/png": "[encoded data removed]",
      "text/plain": [
       "<Figure size 720x576 with 1 Axes>"
      ]
     },
     "metadata": {
      "needs_background": "light"
     },
     "output_type": "display_data"
    }
   ],
   "source": [
    "# Let's plot the results\n",
    "import matplotlib.pyplot as plt\n",
    "\n",
    "plt.rcParams['figure.figsize'] = [10, 8]\n",
    "\n",
    "for index in range(1,6):\n",
    "    x = df.polarity.loc[index]\n",
    "    y = df.subjectivity.loc[index]\n",
    "    plt.scatter(x, y, color='blue')\n",
    "    plt.text(x+.0001, y+.0001, index, fontsize=10)\n",
    "    plt.xlim(-0.4, 1.01) \n",
    "    plt.ylim(0.1, 1.01) \n",
    "    \n",
    "plt.title('Sentiment Analysis', fontsize=20)\n",
    "plt.xlabel('<-- Negative -------- Positive -->', fontsize=15)\n",
    "plt.ylabel('<-- Facts -------- Opinions -->', fontsize=15)\n",
    "\n",
    "plt.show()"
   ]
  },
  {
   "cell_type": "code",
   "execution_count": 12,
   "id": "proud-purchase",
   "metadata": {},
   "outputs": [],
   "source": [
    "#At here, it looks I created a new column called reviews and gave values 'Good Reviews' and 'Bad Reviews'\n",
    "#But then I deleted it.  It needs to be recreated.      \n",
    "\n",
    "#Probably the code I use was this:\n",
    "#df3= pd.DataFrame()\n",
    "#df3['review']= df.index\n",
    "#df3.rename(comment={0:'Bad Reviews',1:'Good Reviews'}, inplace=True)"
   ]
  },
  {
   "cell_type": "code",
   "execution_count": 13,
   "id": "public-killer",
   "metadata": {},
   "outputs": [],
   "source": [
    "# df3= pd.DataFrame()\n",
    "#for i in range (0,2):\n",
    " #  df3.loc[i,'polarity']= (df.head(100000).loc[df.Good_reviews == i].polarity.mean())\n",
    " #  df3.loc[i,'subjectivity']= (df.head(100000).loc[df.Good_reviews == i].subjectivity.mean())\n",
    "  \n",
    "# df3"
   ]
  },
  {
   "cell_type": "code",
   "execution_count": 14,
   "id": "pharmaceutical-packaging",
   "metadata": {},
   "outputs": [],
   "source": [
    "#import matplotlib.pyplot as plt\n",
    "\n",
    "#plt.rcParams['figure.figsize'] = [10, 8]\n",
    "#\n",
    "#for index, reviews in enumerate(df3.index):\n",
    "#    x = df3.polarity.loc[reviews]\n",
    "#    y = df3.subjectivity.loc[reviews]\n",
    "#    plt.scatter(x, y, color='blue')\n",
    "#    plt.text(x+.001, y+.001, df3['reviews'][index], fontsize=10)\n",
    "#    plt.xlim(-.01, .4) \n",
    "#    plt.ylim(.5, .6) \n",
    "#    \n",
    "#plt.title('Sentiment Analysis', fontsize=20)\n",
    "#plt.xlabel('<-- Negative -------- Positive -->', fontsize=15)\n",
    "#plt.ylabel('<-- Facts -------- Opinions -->', fontsize=15)\n",
    "\n",
    "#plt.show()\n"
   ]
  },
  {
   "cell_type": "code",
   "execution_count": 15,
   "id": "valued-freeze",
   "metadata": {},
   "outputs": [],
   "source": [
    "#a = df.groupby(['Good_reviews'])['Id'].count()\n",
    "#a = a.reset_index()\n",
    "#a = a.rename(columns={'Id': 'number of samples'})\n",
    "#fig, ax = plt.subplots(figsize=(4, 6))\n",
    "\n",
    "#sns.barplot(x='Good_reviews', y='number of samples', data=a)"
   ]
  },
  {
   "cell_type": "code",
   "execution_count": 16,
   "id": "sonic-denmark",
   "metadata": {},
   "outputs": [],
   "source": [
    "df2= df\n",
    "df2['word_count']= df2['word_count'] //50*50"
   ]
  },
  {
   "cell_type": "code",
   "execution_count": 17,
   "id": "simple-tobacco",
   "metadata": {},
   "outputs": [
    {
     "data": {
      "text/plain": [
       "<AxesSubplot:xlabel='word_count'>"
      ]
     },
     "execution_count": 17,
     "metadata": {},
     "output_type": "execute_result"
    },
    {
     "data": {
      "image/png": "[encoded data removed]",
      "text/plain": [
       "<Figure size 720x576 with 1 Axes>"
      ]
     },
     "metadata": {
      "needs_background": "light"
     },
     "output_type": "display_data"
    }
   ],
   "source": [
    "df.polarity.groupby(df.word_count // 50 * 50).count().plot(kind ='bar')"
   ]
  },
  {
   "cell_type": "code",
   "execution_count": 18,
   "id": "indie-coordinate",
   "metadata": {},
   "outputs": [],
   "source": [
    "df_sub= df.loc[df.word_count //10*10]"
   ]
  },
  {
   "cell_type": "code",
   "execution_count": 19,
   "id": "given-pathology",
   "metadata": {},
   "outputs": [
    {
     "data": {
      "image/png": "[encoded data removed]",
      "text/plain": [
       "<Figure size 1080x432 with 1 Axes>"
      ]
     },
     "metadata": {
      "needs_background": "light"
     },
     "output_type": "display_data"
    }
   ],
   "source": [
    "plt.figure(figsize=(15,6))\n",
    "sns.barplot(x='word_count', y='polarity', data=df_sub)\n",
    "plt.xlabel('Number of Words', fontsize=13)\n",
    "plt.ylabel('Polarity Score', fontsize=13)\n",
    "plt.title('Number of Words vs Polarity', fontsize=15)\n",
    "plt.show();"
   ]
  },
  {
   "cell_type": "code",
   "execution_count": 20,
   "id": "broadband-citation",
   "metadata": {},
   "outputs": [
    {
     "name": "stderr",
     "output_type": "stream",
     "text": [
      "/home/nalinjindal/.local/lib/python3.8/site-packages/seaborn/distributions.py:2557: FutureWarning: `distplot` is a deprecated function and will be removed in a future version. Please adapt your code to use either `displot` (a figure-level function with similar flexibility) or `histplot` (an axes-level function for histograms).\n",
      "  warnings.warn(msg, FutureWarning)\n"
     ]
    },
    {
     "data": {
      "text/plain": [
       "Text(0.5, 1.0, 'Distribution of Subjectivity Score')"
      ]
     },
     "execution_count": 20,
     "metadata": {},
     "output_type": "execute_result"
    },
    {
     "data": {
      "image/png": "[encoded data removed]",
      "text/plain": [
       "<Figure size 720x360 with 1 Axes>"
      ]
     },
     "metadata": {
      "needs_background": "light"
     },
     "output_type": "display_data"
    }
   ],
   "source": [
    "# Density Plot and Histogram of subjectivity\n",
    "plt.figure(figsize=(10,5))\n",
    "sns.distplot(df['subjectivity'], hist=True, kde=True, \n",
    "             bins=int(30), color = 'darkblue', \n",
    "             hist_kws={'edgecolor':'black'},\n",
    "             kde_kws={'linewidth': 4})\n",
    "plt.xlim([-0.001,1.001])\n",
    "plt.xlabel('Subjectivity', fontsize=13)\n",
    "plt.ylabel('Frequency', fontsize=13)\n",
    "plt.title('Distribution of Subjectivity Score', fontsize=15)"
   ]
  },
  {
   "cell_type": "code",
   "execution_count": null,
   "id": "attempted-terrace",
   "metadata": {},
   "outputs": [],
   "source": []
  },
  {
   "cell_type": "code",
   "execution_count": null,
   "id": "decent-screening",
   "metadata": {},
   "outputs": [],
   "source": []
  }
 ],
 "metadata": {
  "kernelspec": {
   "display_name": "Python 3",
   "language": "python",
   "name": "python3"
  },
  "language_info": {
   "codemirror_mode": {
    "name": "ipython",
    "version": 3
   },
   "file_extension": ".py",
   "mimetype": "text/x-python",
   "name": "python",
   "nbconvert_exporter": "python",
   "pygments_lexer": "ipython3",
   "version": "3.8.6"
  }
 },
 "nbformat": 4,
 "nbformat_minor": 5
}
