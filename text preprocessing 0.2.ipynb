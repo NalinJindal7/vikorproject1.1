{
 "cells": [
  {
   "cell_type": "code",
   "execution_count": 1,
   "id": "martial-figure",
   "metadata": {},
   "outputs": [
    {
     "name": "stderr",
     "output_type": "stream",
     "text": [
      "[nltk_data] Downloading package stopwords to\n",
      "[nltk_data]     /home/nalinjindal/nltk_data...\n",
      "[nltk_data]   Package stopwords is already up-to-date!\n"
     ]
    }
   ],
   "source": [
    "import pandas as pd\n",
    "import numpy as np\n",
    "import nltk\n",
    "nltk.download('stopwords')\n",
    "import re\n",
    "from nltk.corpus import stopwords\n",
    "from nltk.stem import snowball\n",
    "from bs4 import BeautifulSoup\n",
    "from sklearn.feature_extraction.text import TfidfTransformer\n",
    "from sklearn.feature_extraction.text import CountVectorizer\n",
    "from sklearn.feature_extraction.text import TfidfVectorizer"
   ]
  },
  {
   "cell_type": "code",
   "execution_count": 2,
   "id": "loose-grace",
   "metadata": {},
   "outputs": [],
   "source": [
    "data=pd.read_csv('ScrapingreviewsSamsung.csv')"
   ]
  },
  {
   "cell_type": "code",
   "execution_count": 3,
   "id": "sonic-evaluation",
   "metadata": {},
   "outputs": [
    {
     "data": {
      "text/html": [
       "<div>\n",
       "<style scoped>\n",
       "    .dataframe tbody tr th:only-of-type {\n",
       "        vertical-align: middle;\n",
       "    }\n",
       "\n",
       "    .dataframe tbody tr th {\n",
       "        vertical-align: top;\n",
       "    }\n",
       "\n",
       "    .dataframe thead th {\n",
       "        text-align: right;\n",
       "    }\n",
       "</style>\n",
       "<table border=\"1\" class=\"dataframe\">\n",
       "  <thead>\n",
       "    <tr style=\"text-align: right;\">\n",
       "      <th></th>\n",
       "      <th>reviews</th>\n",
       "    </tr>\n",
       "  </thead>\n",
       "  <tbody>\n",
       "    <tr>\n",
       "      <th>0</th>\n",
       "      <td>\\n\\n  Dont go by the negative reviews! If you ...</td>\n",
       "    </tr>\n",
       "    <tr>\n",
       "      <th>1</th>\n",
       "      <td>\\n\\n  After analyzing for many months, finally...</td>\n",
       "    </tr>\n",
       "    <tr>\n",
       "      <th>2</th>\n",
       "      <td>\\n\\n  First of all,, a huge shoutout to the se...</td>\n",
       "    </tr>\n",
       "    <tr>\n",
       "      <th>3</th>\n",
       "      <td>\\n\\n  Do not purchase iPhone from AmazonI purc...</td>\n",
       "    </tr>\n",
       "    <tr>\n",
       "      <th>4</th>\n",
       "      <td>\\n\\n\\n  Your browser does not support HTML5 vi...</td>\n",
       "    </tr>\n",
       "  </tbody>\n",
       "</table>\n",
       "</div>"
      ],
      "text/plain": [
       "                                             reviews\n",
       "0  \\n\\n  Dont go by the negative reviews! If you ...\n",
       "1  \\n\\n  After analyzing for many months, finally...\n",
       "2  \\n\\n  First of all,, a huge shoutout to the se...\n",
       "3  \\n\\n  Do not purchase iPhone from AmazonI purc...\n",
       "4  \\n\\n\\n  Your browser does not support HTML5 vi..."
      ]
     },
     "execution_count": 3,
     "metadata": {},
     "output_type": "execute_result"
    }
   ],
   "source": [
    "data.head() "
   ]
  },
  {
   "cell_type": "code",
   "execution_count": 4,
   "id": "numeric-measurement",
   "metadata": {},
   "outputs": [
    {
     "data": {
      "text/plain": [
       "(16815, 1)"
      ]
     },
     "execution_count": 4,
     "metadata": {},
     "output_type": "execute_result"
    }
   ],
   "source": [
    "data.shape\n"
   ]
  },
  {
   "cell_type": "code",
   "execution_count": 5,
   "id": "covered-commissioner",
   "metadata": {},
   "outputs": [
    {
     "name": "stdout",
     "output_type": "stream",
     "text": [
      "{\"you'll\", 'what', 'have', \"don't\", 'up', \"wasn't\", 'before', 'until', 'they', 'at', 'too', 'on', 'yourselves', 'should', 'ourselves', 'why', 'him', 'himself', 'were', 'down', 'in', 't', 're', 'as', 'each', 'them', 'that', 'here', \"she's\", 'now', 'because', \"aren't\", 'where', 'other', 'does', 'not', 'whom', 'between', 'ours', 'only', 'needn', 'he', 'be', 'than', 'haven', 'it', 'mustn', 'the', 'are', 'after', 'once', 'their', \"you'd\", 'had', 'isn', 'll', 'below', 'of', 'off', 'then', 'hasn', 'few', 'when', \"you're\", 'no', 'about', 'she', 'further', 'mightn', 'yours', \"shouldn't\", 'with', 'under', \"that'll\", 'its', \"it's\", 'theirs', 'we', 'some', 'herself', 'having', \"didn't\", 'who', 'these', 'ma', 'a', 'hadn', \"couldn't\", 'over', 'your', 'my', 'was', 'more', 'for', 'own', 'from', 'weren', 'both', 's', 'doing', 'm', 'been', 'y', 'don', \"mustn't\", 'did', 'yourself', \"won't\", \"shan't\", 'shouldn', 'themselves', 'most', 'you', 'if', 'which', 'against', 'our', 'o', 'me', 'his', 'i', 'couldn', 'nor', \"mightn't\", 'didn', 'itself', 'is', 'ain', 'very', \"hadn't\", 'can', 'so', \"you've\", 'd', 'being', 'all', \"haven't\", \"should've\", 'wasn', 'am', \"wouldn't\", 'to', 'or', 'doesn', 'how', \"isn't\", \"hasn't\", 'hers', 'but', 'through', \"doesn't\", 'again', 'and', 'this', 'such', 'any', 'an', \"needn't\", 'there', 'will', 'just', 'above', 'out', \"weren't\", 'during', 'aren', 'her', 'while', 'shan', 'same', 'those', 'do', 'won', 've', 'wouldn', 'myself', 'into', 'has', 'by'}\n"
     ]
    }
   ],
   "source": [
    "stop=set(stopwords.words('english'))\n",
    "print(stop)"
   ]
  },
  {
   "cell_type": "code",
   "execution_count": 6,
   "id": "atlantic-drill",
   "metadata": {},
   "outputs": [],
   "source": [
    "import nltk\n",
    "from nltk.corpus import stopwords\n",
    "from nltk.stem import SnowballStemmer\n",
    "import numpy\n",
    "import re\n",
    "from bs4 import BeautifulSoup\n",
    "stop=set(stopwords.words('english'))\n",
    "snow = nltk.stem.SnowballStemmer('english')\n",
    "stop\n",
    "def decontracted(phrase):\n",
    "    phrase=re.sub(r\"won't\",\"will not\",phrase)\n",
    "    phrase=re.sub(r\"can't\",\"can not\",phrase)\n",
    "    phrase=re.sub(r\"n\\'t\",\"not\",phrase)\n",
    "    phrase=re.sub(r\"\\'re\",\"are\",phrase)\n",
    "    phrase=re.sub(r\"\\'s\",\"is\",phrase)\n",
    "    phrase=re.sub(r\"\\'d\",\"would\",phrase)\n",
    "    phrase=re.sub(r\"\\'ll\",\"will\",phrase)    \n",
    "    phrase=re.sub(r\"\\'t\",\"not\",sentence)\n",
    "    phrase=re.sub(r\"\\'ve\",\"have\",sentence)\n",
    "    phrase=re.sub(r\"\\'m\",\"am\",sentence)\n",
    "    return phrase\n",
    "preprocessed_reviews=[]\n",
    "for sentence in data['reviews'].values:\n",
    "    sentence=re.sub(r\"http\\S+\",\" \",sentence)\n",
    "    sentence=BeautifulSoup(sentence,'lxml').get_text()\n",
    "    cleanr=re.compile('<.*?>')\n",
    "    sentence=re.sub(cleanr,' ',sentence)\n",
    "    sentence=decontracted(sentence)\n",
    "    sentence=re.sub(\"\\S\\*\\d\\S*\",\" \",sentence)\n",
    "    sentence=re.sub(\"[^A-Za-z]+\",\" \",sentence)\n",
    "    sentence=re.sub(r'[?|!|\\'|\"|#]',r' ',sentence)\n",
    "    sentence=re.sub(r'[.|,|)|(|\\|/]',r' ',sentence)\n",
    "    sentence='  '.join(snow.stem(e.lower()) for e in sentence.split() if e.lower() not in stop)\n",
    "    preprocessed_reviews.append(sentence.strip())"
   ]
  },
  {
   "cell_type": "code",
   "execution_count": 7,
   "id": "monetary-taxation",
   "metadata": {},
   "outputs": [
    {
     "data": {
      "text/plain": [
       "'though  saw  review  phone  buy  general  review  posit  look  phone  good  batteri  audio  display  expect  much  yeah  phone  featur  turn  quit  help  phone  support  ar  good  face  track  amaz  realli  expect  much  better  expect  price  samsung  smart  thing  app  turn  quit  use  use  phone  fulli  control  samsung  qled  setup  simpl  connect  multipl  smart  product  home  app  control  anywher  includ  light  secur  system  refriger  mani  applianc  electron  one  featur  realli  like  bixbi  vision  app  translat  text  exampl  newspap  text  unknown  languag  understand  travel  point  phone  toward  start  bixbi  vision  show  translat  text  display  realtim  search  product  imag  see  onlin  exampl  focus  speaker  headphon  show  detail  price  etc  phone  mani  featur  use  yet  general  use  great  see  review'"
      ]
     },
     "execution_count": 7,
     "metadata": {},
     "output_type": "execute_result"
    }
   ],
   "source": [
    "preprocessed_reviews[2000]\n"
   ]
  },
  {
   "cell_type": "code",
   "execution_count": 8,
   "id": "indoor-glucose",
   "metadata": {},
   "outputs": [
    {
     "name": "stdout",
     "output_type": "stream",
     "text": [
      "  (0, 8561)\t1\n",
      "  (0, 5110)\t2\n",
      "  (0, 403)\t1\n",
      "  (0, 7365)\t3\n",
      "  (0, 10828)\t4\n",
      "  (0, 6379)\t2\n",
      "  (0, 1051)\t1\n",
      "  (0, 895)\t1\n",
      "  (0, 5525)\t1\n",
      "  (0, 1703)\t1\n",
      "  (0, 2402)\t1\n",
      "  (0, 3603)\t1\n",
      "  (0, 4815)\t1\n",
      "  (0, 386)\t1\n",
      "  (0, 5962)\t1\n",
      "  (0, 3655)\t1\n",
      "  (0, 10382)\t1\n",
      "  (0, 2480)\t1\n",
      "  (0, 1437)\t1\n",
      "  (0, 3709)\t1\n",
      "  (0, 319)\t2\n",
      "  (0, 5468)\t1\n",
      "  (0, 8999)\t1\n",
      "  (0, 2537)\t2\n",
      "  (0, 7188)\t1\n",
      "  :\t:\n",
      "  (0, 10826)\t2\n",
      "  (0, 4691)\t1\n",
      "  (0, 5620)\t1\n",
      "  (0, 9246)\t2\n",
      "  (0, 1458)\t1\n",
      "  (0, 1569)\t1\n",
      "  (0, 6255)\t1\n",
      "  (0, 5247)\t1\n",
      "  (0, 878)\t1\n",
      "  (0, 4534)\t2\n",
      "  (0, 6590)\t1\n",
      "  (0, 1195)\t1\n",
      "  (0, 5673)\t1\n",
      "  (0, 7619)\t1\n",
      "  (0, 2114)\t1\n",
      "  (0, 7262)\t1\n",
      "  (0, 3381)\t1\n",
      "  (0, 11411)\t1\n",
      "  (0, 2510)\t1\n",
      "  (0, 8311)\t1\n",
      "  (0, 8972)\t1\n",
      "  (0, 7638)\t1\n",
      "  (0, 6239)\t1\n",
      "  (0, 8367)\t1\n",
      "  (0, 351)\t1\n"
     ]
    }
   ],
   "source": [
    "from sklearn.feature_extraction.text import CountVectorizer\n",
    "count=CountVectorizer()\n",
    "Reviews_BOW=count.fit_transform(preprocessed_reviews)\n",
    "print(Reviews_BOW[1])"
   ]
  },
  {
   "cell_type": "code",
   "execution_count": 9,
   "id": "criminal-battlefield",
   "metadata": {},
   "outputs": [
    {
     "name": "stdout",
     "output_type": "stream",
     "text": [
      "  (0, 118490)\t1\n",
      "  (0, 69533)\t2\n",
      "  (0, 5063)\t1\n",
      "  (0, 100222)\t3\n",
      "  (0, 147312)\t4\n",
      "  (0, 86833)\t2\n",
      "  (0, 13629)\t1\n",
      "  (0, 11543)\t1\n",
      "  (0, 73234)\t1\n",
      "  (0, 23007)\t1\n",
      "  (0, 32749)\t1\n",
      "  (0, 48859)\t1\n",
      "  (0, 65981)\t1\n",
      "  (0, 23425)\t1\n",
      "  (0, 5026)\t1\n",
      "  (0, 80835)\t1\n",
      "  (0, 49628)\t1\n",
      "  (0, 142390)\t1\n",
      "  (0, 34039)\t1\n",
      "  (0, 18505)\t1\n",
      "  (0, 50617)\t1\n",
      "  (0, 4158)\t2\n",
      "  (0, 72634)\t1\n",
      "  (0, 124822)\t1\n",
      "  (0, 34812)\t2\n",
      "  :\t:\n",
      "  (0, 70919)\t1\n",
      "  (0, 11316)\t1\n",
      "  (0, 62498)\t1\n",
      "  (0, 89352)\t1\n",
      "  (0, 15511)\t1\n",
      "  (0, 62494)\t1\n",
      "  (0, 75676)\t1\n",
      "  (0, 105109)\t1\n",
      "  (0, 29389)\t1\n",
      "  (0, 98883)\t1\n",
      "  (0, 45671)\t1\n",
      "  (0, 155408)\t1\n",
      "  (0, 34460)\t1\n",
      "  (0, 115313)\t1\n",
      "  (0, 69838)\t1\n",
      "  (0, 128479)\t1\n",
      "  (0, 124075)\t1\n",
      "  (0, 105404)\t1\n",
      "  (0, 28621)\t1\n",
      "  (0, 84512)\t1\n",
      "  (0, 66004)\t1\n",
      "  (0, 115936)\t1\n",
      "  (0, 4810)\t1\n",
      "  (0, 123102)\t1\n",
      "  (0, 147928)\t1\n"
     ]
    }
   ],
   "source": [
    "count=CountVectorizer(ngram_range=(1,2))\n",
    "Bigram_Counts=count.fit_transform(preprocessed_reviews)\n",
    "print(Bigram_Counts[1])"
   ]
  },
  {
   "cell_type": "code",
   "execution_count": 10,
   "id": "lesbian-buffalo",
   "metadata": {},
   "outputs": [
    {
     "name": "stdout",
     "output_type": "stream",
     "text": [
      "  (0, 351)\t0.06329089236558405\n",
      "  (0, 8367)\t0.09297921614162245\n",
      "  (0, 6239)\t0.07691496560671032\n",
      "  (0, 7638)\t0.12555503986577962\n",
      "  (0, 8972)\t0.06819167530912794\n",
      "  (0, 8311)\t0.06764165238518023\n",
      "  (0, 2510)\t0.08008150677438258\n",
      "  (0, 11411)\t0.06148100425221823\n",
      "  (0, 3381)\t0.05733617403007745\n",
      "  (0, 7262)\t0.08107515471553518\n",
      "  (0, 2114)\t0.12555503986577962\n",
      "  (0, 7619)\t0.10453893892596691\n",
      "  (0, 5673)\t0.1363106603288613\n",
      "  (0, 1195)\t0.09021745058544717\n",
      "  (0, 6590)\t0.057747296989820174\n",
      "  (0, 4534)\t0.19997156571034266\n",
      "  (0, 878)\t0.0945548996830767\n",
      "  (0, 5247)\t0.09030244904615183\n",
      "  (0, 6255)\t0.09422751939723312\n",
      "  (0, 1569)\t0.08218443538185027\n",
      "  (0, 1458)\t0.08558910546320685\n",
      "  (0, 9246)\t0.1391344721206015\n",
      "  (0, 5620)\t0.14776988332535557\n",
      "  (0, 4691)\t0.09021745058544717\n",
      "  (0, 10826)\t0.19308698065407473\n",
      "  :\t:\n",
      "  (0, 7188)\t0.14301387606921198\n",
      "  (0, 2537)\t0.14573171682699698\n",
      "  (0, 8999)\t0.08996504622942263\n",
      "  (0, 5468)\t0.11144500585166563\n",
      "  (0, 319)\t0.10540486746610342\n",
      "  (0, 3709)\t0.06122950339188685\n",
      "  (0, 1437)\t0.0465518269495342\n",
      "  (0, 2480)\t0.09743733850634667\n",
      "  (0, 10382)\t0.08671598160825403\n",
      "  (0, 3655)\t0.08282241155278745\n",
      "  (0, 5962)\t0.06284782025575372\n",
      "  (0, 386)\t0.15922910632184986\n",
      "  (0, 4815)\t0.09477681125912642\n",
      "  (0, 3603)\t0.056422188114367076\n",
      "  (0, 2402)\t0.03990914648073659\n",
      "  (0, 1703)\t0.04331359717147727\n",
      "  (0, 5525)\t0.053218827638843294\n",
      "  (0, 895)\t0.03154677870891112\n",
      "  (0, 1051)\t0.050171530143633285\n",
      "  (0, 6379)\t0.11551838982692791\n",
      "  (0, 10828)\t0.147000250348575\n",
      "  (0, 7365)\t0.08292359642969412\n",
      "  (0, 403)\t0.06934986334841094\n",
      "  (0, 5110)\t0.13140812802848806\n",
      "  (0, 8561)\t0.05537994460404571\n"
     ]
    }
   ],
   "source": [
    "counts=TfidfVectorizer()\n",
    "cnt=counts.fit_transform(preprocessed_reviews)\n",
    "print(cnt[1])"
   ]
  },
  {
   "cell_type": "code",
   "execution_count": 11,
   "id": "complimentary-catch",
   "metadata": {},
   "outputs": [
    {
     "name": "stdout",
     "output_type": "stream",
     "text": [
      "16815\n",
      "[ 0.22908117 -0.40358543 -0.41954489  0.04201995 -0.24549514  0.12271201\n",
      " -0.22107275  0.3111343   0.15914767 -0.42862171 -0.55195909 -0.01980197\n",
      " -0.07854822  0.33728177 -0.40875333  0.11353669 -0.37351379  0.22524993\n",
      "  0.38726242  0.02289482 -0.10947227 -0.16547889  0.46760895 -0.40983175\n",
      "  0.24967761  0.09591446 -0.56811977  0.05880337 -0.67523104 -0.06026219\n",
      " -0.11149815 -0.72533712 -0.11004393 -0.43555183  0.35005147  0.38296839\n",
      " -0.17905188  0.08335581  0.14535047  0.11257472  0.38741881  0.23836171\n",
      " -0.3777567   0.31111552 -0.38701358  0.05475055 -0.10458671  0.28628897\n",
      " -0.01475829  0.0353666 ]\n"
     ]
    }
   ],
   "source": [
    "from gensim.models import Word2Vec\n",
    "list_of_sentences=[]\n",
    "for sentence in preprocessed_reviews:\n",
    "    list_of_sentences.append(sentence.split())\n",
    "w2v_model=Word2Vec(list_of_sentences,min_count=5,size=50,workers=4)\n",
    "w2v_words=list(w2v_model.wv.vocab)\n",
    "sent_vectors=[]\n",
    "for sent in list_of_sentences:\n",
    "    sent_vec=np.zeros(50)\n",
    "    cnt_words=0\n",
    "    for word in sent:\n",
    "        if word in w2v_words:\n",
    "            vec=w2v_model.wv[word]\n",
    "            sent_vec=sent_vec+vec\n",
    "            cnt_words=cnt_words+1\n",
    "    if cnt_words!=0:\n",
    "        sent_vec=sent_vec/cnt_words\n",
    "    sent_vectors.append(sent_vec)\n",
    "print(len(sent_vectors))   \n",
    "print(sent_vectors[0])"
   ]
  },
  {
   "cell_type": "code",
   "execution_count": 14,
   "id": "sufficient-crawford",
   "metadata": {},
   "outputs": [],
   "source": [
    "data.to_csv('Preprocessing_2.csv',index=False)"
   ]
  },
  {
   "cell_type": "code",
   "execution_count": null,
   "id": "secret-defense",
   "metadata": {},
   "outputs": [],
   "source": []
  }
 ],
 "metadata": {
  "kernelspec": {
   "display_name": "Python 3",
   "language": "python",
   "name": "python3"
  },
  "language_info": {
   "codemirror_mode": {
    "name": "ipython",
    "version": 3
   },
   "file_extension": ".py",
   "mimetype": "text/x-python",
   "name": "python",
   "nbconvert_exporter": "python",
   "pygments_lexer": "ipython3",
   "version": "3.8.6"
  }
 },
 "nbformat": 4,
 "nbformat_minor": 5
}
