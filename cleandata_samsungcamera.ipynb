{
 "cells": [
  {
   "cell_type": "code",
   "execution_count": 1,
   "id": "unavailable-research",
   "metadata": {},
   "outputs": [],
   "source": [
    "import subprocess as sp\n",
    "import sys,os,shutil,pickle,time\n",
    "from os.path import join\n",
    "from os.path import expanduser\n"
   ]
  },
  {
   "cell_type": "code",
   "execution_count": 2,
   "id": "representative-malta",
   "metadata": {},
   "outputs": [],
   "source": [
    "import pandas as pd\n",
    "import numpy as np"
   ]
  },
  {
   "cell_type": "code",
   "execution_count": 3,
   "id": "induced-survivor",
   "metadata": {},
   "outputs": [
    {
     "data": {
      "text/html": [
       "<div>\n",
       "<style scoped>\n",
       "    .dataframe tbody tr th:only-of-type {\n",
       "        vertical-align: middle;\n",
       "    }\n",
       "\n",
       "    .dataframe tbody tr th {\n",
       "        vertical-align: top;\n",
       "    }\n",
       "\n",
       "    .dataframe thead th {\n",
       "        text-align: right;\n",
       "    }\n",
       "</style>\n",
       "<table border=\"1\" class=\"dataframe\">\n",
       "  <thead>\n",
       "    <tr style=\"text-align: right;\">\n",
       "      <th></th>\n",
       "      <th>stars</th>\n",
       "      <th>comment</th>\n",
       "    </tr>\n",
       "  </thead>\n",
       "  <tbody>\n",
       "    <tr>\n",
       "      <th>0</th>\n",
       "      <td>5</td>\n",
       "      <td>\\n\\n\\n\\n\\n\\n\\n\\n\\n\\n  \\n  \\n    \\n  This is my...</td>\n",
       "    </tr>\n",
       "    <tr>\n",
       "      <th>1</th>\n",
       "      <td>5</td>\n",
       "      <td>Product delievery was late by one day but no i...</td>\n",
       "    </tr>\n",
       "    <tr>\n",
       "      <th>2</th>\n",
       "      <td>5</td>\n",
       "      <td>I was in a confusion to buy this or go for one...</td>\n",
       "    </tr>\n",
       "    <tr>\n",
       "      <th>3</th>\n",
       "      <td>5</td>\n",
       "      <td>This time Samsung really try to do some thing ...</td>\n",
       "    </tr>\n",
       "    <tr>\n",
       "      <th>4</th>\n",
       "      <td>5</td>\n",
       "      <td>1.Do not remove the pre applied screen protect...</td>\n",
       "    </tr>\n",
       "  </tbody>\n",
       "</table>\n",
       "</div>"
      ],
      "text/plain": [
       "   stars                                            comment\n",
       "0      5  \\n\\n\\n\\n\\n\\n\\n\\n\\n\\n  \\n  \\n    \\n  This is my...\n",
       "1      5  Product delievery was late by one day but no i...\n",
       "2      5  I was in a confusion to buy this or go for one...\n",
       "3      5  This time Samsung really try to do some thing ...\n",
       "4      5  1.Do not remove the pre applied screen protect..."
      ]
     },
     "execution_count": 3,
     "metadata": {},
     "output_type": "execute_result"
    }
   ],
   "source": [
    "df = pd.read_csv('samsungcamera.csv')\n",
    "df.head(5)"
   ]
  },
  {
   "cell_type": "code",
   "execution_count": 4,
   "id": "transsexual-airfare",
   "metadata": {},
   "outputs": [
    {
     "name": "stdout",
     "output_type": "stream",
     "text": [
      "<class 'pandas.core.frame.DataFrame'>\n",
      "RangeIndex: 990 entries, 0 to 989\n",
      "Data columns (total 2 columns):\n",
      " #   Column   Non-Null Count  Dtype \n",
      "---  ------   --------------  ----- \n",
      " 0   stars    990 non-null    int64 \n",
      " 1   comment  990 non-null    object\n",
      "dtypes: int64(1), object(1)\n",
      "memory usage: 15.6+ KB\n"
     ]
    }
   ],
   "source": [
    "df.info()"
   ]
  },
  {
   "cell_type": "code",
   "execution_count": 5,
   "id": "dominant-department",
   "metadata": {},
   "outputs": [
    {
     "data": {
      "text/html": [
       "<div>\n",
       "<style scoped>\n",
       "    .dataframe tbody tr th:only-of-type {\n",
       "        vertical-align: middle;\n",
       "    }\n",
       "\n",
       "    .dataframe tbody tr th {\n",
       "        vertical-align: top;\n",
       "    }\n",
       "\n",
       "    .dataframe thead th {\n",
       "        text-align: right;\n",
       "    }\n",
       "</style>\n",
       "<table border=\"1\" class=\"dataframe\">\n",
       "  <thead>\n",
       "    <tr style=\"text-align: right;\">\n",
       "      <th></th>\n",
       "      <th>stars</th>\n",
       "    </tr>\n",
       "  </thead>\n",
       "  <tbody>\n",
       "    <tr>\n",
       "      <th>count</th>\n",
       "      <td>990.0</td>\n",
       "    </tr>\n",
       "    <tr>\n",
       "      <th>mean</th>\n",
       "      <td>4.5</td>\n",
       "    </tr>\n",
       "    <tr>\n",
       "      <th>std</th>\n",
       "      <td>1.2</td>\n",
       "    </tr>\n",
       "    <tr>\n",
       "      <th>min</th>\n",
       "      <td>1.0</td>\n",
       "    </tr>\n",
       "    <tr>\n",
       "      <th>25%</th>\n",
       "      <td>5.0</td>\n",
       "    </tr>\n",
       "    <tr>\n",
       "      <th>50%</th>\n",
       "      <td>5.0</td>\n",
       "    </tr>\n",
       "    <tr>\n",
       "      <th>75%</th>\n",
       "      <td>5.0</td>\n",
       "    </tr>\n",
       "    <tr>\n",
       "      <th>max</th>\n",
       "      <td>5.0</td>\n",
       "    </tr>\n",
       "  </tbody>\n",
       "</table>\n",
       "</div>"
      ],
      "text/plain": [
       "       stars\n",
       "count  990.0\n",
       "mean     4.5\n",
       "std      1.2\n",
       "min      1.0\n",
       "25%      5.0\n",
       "50%      5.0\n",
       "75%      5.0\n",
       "max      5.0"
      ]
     },
     "execution_count": 5,
     "metadata": {},
     "output_type": "execute_result"
    }
   ],
   "source": [
    "df.describe().round(1)"
   ]
  },
  {
   "cell_type": "code",
   "execution_count": 6,
   "id": "studied-vocabulary",
   "metadata": {},
   "outputs": [
    {
     "data": {
      "text/html": [
       "<div>\n",
       "<style scoped>\n",
       "    .dataframe tbody tr th:only-of-type {\n",
       "        vertical-align: middle;\n",
       "    }\n",
       "\n",
       "    .dataframe tbody tr th {\n",
       "        vertical-align: top;\n",
       "    }\n",
       "\n",
       "    .dataframe thead th {\n",
       "        text-align: right;\n",
       "    }\n",
       "</style>\n",
       "<table border=\"1\" class=\"dataframe\">\n",
       "  <thead>\n",
       "    <tr style=\"text-align: right;\">\n",
       "      <th></th>\n",
       "      <th>null</th>\n",
       "      <th>percent</th>\n",
       "    </tr>\n",
       "  </thead>\n",
       "  <tbody>\n",
       "    <tr>\n",
       "      <th>stars</th>\n",
       "      <td>0</td>\n",
       "      <td>0.0</td>\n",
       "    </tr>\n",
       "    <tr>\n",
       "      <th>comment</th>\n",
       "      <td>0</td>\n",
       "      <td>0.0</td>\n",
       "    </tr>\n",
       "  </tbody>\n",
       "</table>\n",
       "</div>"
      ],
      "text/plain": [
       "         null  percent\n",
       "stars       0      0.0\n",
       "comment     0      0.0"
      ]
     },
     "execution_count": 6,
     "metadata": {},
     "output_type": "execute_result"
    }
   ],
   "source": [
    "# Determine how many missing values exist in the collection, in which case you can use .sum() chained onto is.na()\n",
    "null_values=df.isna().sum()\n",
    "null_values=pd.DataFrame(null_values,columns=['null'])\n",
    "sum_tot=len(df)\n",
    "null_values['percent']=null_values['null']/sum_tot*100\n",
    "round(null_values,3).sort_values('percent',ascending=False)"
   ]
  },
  {
   "cell_type": "code",
   "execution_count": 7,
   "id": "related-bishop",
   "metadata": {},
   "outputs": [
    {
     "data": {
      "text/plain": [
       "(990, 2)"
      ]
     },
     "execution_count": 7,
     "metadata": {},
     "output_type": "execute_result"
    }
   ],
   "source": [
    "df= df.dropna()\n",
    "df.shape"
   ]
  },
  {
   "cell_type": "code",
   "execution_count": 8,
   "id": "minute-plymouth",
   "metadata": {},
   "outputs": [
    {
     "name": "stderr",
     "output_type": "stream",
     "text": [
      "[nltk_data] Downloading package stopwords to\n",
      "[nltk_data]     /home/nalinjindal/nltk_data...\n",
      "[nltk_data]   Package stopwords is already up-to-date!\n",
      "[nltk_data] Downloading package wordnet to\n",
      "[nltk_data]     /home/nalinjindal/nltk_data...\n",
      "[nltk_data]   Package wordnet is already up-to-date!\n",
      "[nltk_data] Downloading package punkt to\n",
      "[nltk_data]     /home/nalinjindal/nltk_data...\n",
      "[nltk_data]   Package punkt is already up-to-date!\n",
      "[nltk_data] Downloading package averaged_perceptron_tagger to\n",
      "[nltk_data]     /home/nalinjindal/nltk_data...\n",
      "[nltk_data]   Package averaged_perceptron_tagger is already up-to-\n",
      "[nltk_data]       date!\n"
     ]
    }
   ],
   "source": [
    "#pip install -q wordcloud\n",
    "import wordcloud\n",
    "from nltk.corpus import stopwords\n",
    "import nltk\n",
    "import string\n",
    "nltk.download('stopwords')\n",
    "nltk.download('wordnet')\n",
    "nltk.download('punkt')\n",
    "nltk.download('averaged_perceptron_tagger')\n",
    "stop = stopwords.words('english')"
   ]
  },
  {
   "cell_type": "code",
   "execution_count": 9,
   "id": "agreed-value",
   "metadata": {},
   "outputs": [
    {
     "data": {
      "text/html": [
       "<div>\n",
       "<style scoped>\n",
       "    .dataframe tbody tr th:only-of-type {\n",
       "        vertical-align: middle;\n",
       "    }\n",
       "\n",
       "    .dataframe tbody tr th {\n",
       "        vertical-align: top;\n",
       "    }\n",
       "\n",
       "    .dataframe thead th {\n",
       "        text-align: right;\n",
       "    }\n",
       "</style>\n",
       "<table border=\"1\" class=\"dataframe\">\n",
       "  <thead>\n",
       "    <tr style=\"text-align: right;\">\n",
       "      <th></th>\n",
       "      <th>comment</th>\n",
       "      <th>stopwords</th>\n",
       "    </tr>\n",
       "  </thead>\n",
       "  <tbody>\n",
       "    <tr>\n",
       "      <th>0</th>\n",
       "      <td>\\n\\n\\n\\n\\n\\n\\n\\n\\n\\n  \\n  \\n    \\n  This is my...</td>\n",
       "      <td>19</td>\n",
       "    </tr>\n",
       "    <tr>\n",
       "      <th>1</th>\n",
       "      <td>Product delievery was late by one day but no i...</td>\n",
       "      <td>151</td>\n",
       "    </tr>\n",
       "    <tr>\n",
       "      <th>2</th>\n",
       "      <td>I was in a confusion to buy this or go for one...</td>\n",
       "      <td>194</td>\n",
       "    </tr>\n",
       "    <tr>\n",
       "      <th>3</th>\n",
       "      <td>This time Samsung really try to do some thing ...</td>\n",
       "      <td>46</td>\n",
       "    </tr>\n",
       "    <tr>\n",
       "      <th>4</th>\n",
       "      <td>1.Do not remove the pre applied screen protect...</td>\n",
       "      <td>58</td>\n",
       "    </tr>\n",
       "  </tbody>\n",
       "</table>\n",
       "</div>"
      ],
      "text/plain": [
       "                                             comment  stopwords\n",
       "0  \\n\\n\\n\\n\\n\\n\\n\\n\\n\\n  \\n  \\n    \\n  This is my...         19\n",
       "1  Product delievery was late by one day but no i...        151\n",
       "2  I was in a confusion to buy this or go for one...        194\n",
       "3  This time Samsung really try to do some thing ...         46\n",
       "4  1.Do not remove the pre applied screen protect...         58"
      ]
     },
     "execution_count": 9,
     "metadata": {},
     "output_type": "execute_result"
    }
   ],
   "source": [
    "df['stopwords'] = df['comment'].apply(lambda x: len([x for x in x.split() if x in stop]))\n",
    "df[['comment','stopwords']].head()"
   ]
  },
  {
   "cell_type": "code",
   "execution_count": 10,
   "id": "center-digit",
   "metadata": {},
   "outputs": [],
   "source": [
    "def count_punct(text):\n",
    "    count = sum([1 for char in text if char in string.punctuation])\n",
    "    return count\n",
    "\n",
    "df['punctuation'] = df['comment'].apply(lambda x: count_punct(x))"
   ]
  },
  {
   "cell_type": "code",
   "execution_count": 11,
   "id": "written-evaluation",
   "metadata": {},
   "outputs": [
    {
     "data": {
      "text/html": [
       "<div>\n",
       "<style scoped>\n",
       "    .dataframe tbody tr th:only-of-type {\n",
       "        vertical-align: middle;\n",
       "    }\n",
       "\n",
       "    .dataframe tbody tr th {\n",
       "        vertical-align: top;\n",
       "    }\n",
       "\n",
       "    .dataframe thead th {\n",
       "        text-align: right;\n",
       "    }\n",
       "</style>\n",
       "<table border=\"1\" class=\"dataframe\">\n",
       "  <thead>\n",
       "    <tr style=\"text-align: right;\">\n",
       "      <th></th>\n",
       "      <th>comment</th>\n",
       "      <th>punctuation</th>\n",
       "    </tr>\n",
       "  </thead>\n",
       "  <tbody>\n",
       "    <tr>\n",
       "      <th>0</th>\n",
       "      <td>\\n\\n\\n\\n\\n\\n\\n\\n\\n\\n  \\n  \\n    \\n  This is my...</td>\n",
       "      <td>2</td>\n",
       "    </tr>\n",
       "    <tr>\n",
       "      <th>1</th>\n",
       "      <td>Product delievery was late by one day but no i...</td>\n",
       "      <td>59</td>\n",
       "    </tr>\n",
       "    <tr>\n",
       "      <th>2</th>\n",
       "      <td>I was in a confusion to buy this or go for one...</td>\n",
       "      <td>75</td>\n",
       "    </tr>\n",
       "    <tr>\n",
       "      <th>3</th>\n",
       "      <td>This time Samsung really try to do some thing ...</td>\n",
       "      <td>16</td>\n",
       "    </tr>\n",
       "    <tr>\n",
       "      <th>4</th>\n",
       "      <td>1.Do not remove the pre applied screen protect...</td>\n",
       "      <td>37</td>\n",
       "    </tr>\n",
       "  </tbody>\n",
       "</table>\n",
       "</div>"
      ],
      "text/plain": [
       "                                             comment  punctuation\n",
       "0  \\n\\n\\n\\n\\n\\n\\n\\n\\n\\n  \\n  \\n    \\n  This is my...            2\n",
       "1  Product delievery was late by one day but no i...           59\n",
       "2  I was in a confusion to buy this or go for one...           75\n",
       "3  This time Samsung really try to do some thing ...           16\n",
       "4  1.Do not remove the pre applied screen protect...           37"
      ]
     },
     "execution_count": 11,
     "metadata": {},
     "output_type": "execute_result"
    }
   ],
   "source": [
    "df[['comment','punctuation']].head()"
   ]
  },
  {
   "cell_type": "code",
   "execution_count": 12,
   "id": "antique-cincinnati",
   "metadata": {},
   "outputs": [
    {
     "data": {
      "text/html": [
       "<div>\n",
       "<style scoped>\n",
       "    .dataframe tbody tr th:only-of-type {\n",
       "        vertical-align: middle;\n",
       "    }\n",
       "\n",
       "    .dataframe tbody tr th {\n",
       "        vertical-align: top;\n",
       "    }\n",
       "\n",
       "    .dataframe thead th {\n",
       "        text-align: right;\n",
       "    }\n",
       "</style>\n",
       "<table border=\"1\" class=\"dataframe\">\n",
       "  <thead>\n",
       "    <tr style=\"text-align: right;\">\n",
       "      <th></th>\n",
       "      <th>comment</th>\n",
       "      <th>hastags</th>\n",
       "    </tr>\n",
       "  </thead>\n",
       "  <tbody>\n",
       "    <tr>\n",
       "      <th>0</th>\n",
       "      <td>\\n\\n\\n\\n\\n\\n\\n\\n\\n\\n  \\n  \\n    \\n  This is my...</td>\n",
       "      <td>0</td>\n",
       "    </tr>\n",
       "    <tr>\n",
       "      <th>1</th>\n",
       "      <td>Product delievery was late by one day but no i...</td>\n",
       "      <td>0</td>\n",
       "    </tr>\n",
       "    <tr>\n",
       "      <th>2</th>\n",
       "      <td>I was in a confusion to buy this or go for one...</td>\n",
       "      <td>0</td>\n",
       "    </tr>\n",
       "    <tr>\n",
       "      <th>3</th>\n",
       "      <td>This time Samsung really try to do some thing ...</td>\n",
       "      <td>0</td>\n",
       "    </tr>\n",
       "    <tr>\n",
       "      <th>4</th>\n",
       "      <td>1.Do not remove the pre applied screen protect...</td>\n",
       "      <td>0</td>\n",
       "    </tr>\n",
       "  </tbody>\n",
       "</table>\n",
       "</div>"
      ],
      "text/plain": [
       "                                             comment  hastags\n",
       "0  \\n\\n\\n\\n\\n\\n\\n\\n\\n\\n  \\n  \\n    \\n  This is my...        0\n",
       "1  Product delievery was late by one day but no i...        0\n",
       "2  I was in a confusion to buy this or go for one...        0\n",
       "3  This time Samsung really try to do some thing ...        0\n",
       "4  1.Do not remove the pre applied screen protect...        0"
      ]
     },
     "execution_count": 12,
     "metadata": {},
     "output_type": "execute_result"
    }
   ],
   "source": [
    "df['hastags'] = df['comment'].apply(lambda x: len([x for x in x.split() if x.startswith('#')]))\n",
    "df[['comment','hastags']].head()"
   ]
  },
  {
   "cell_type": "code",
   "execution_count": 13,
   "id": "heavy-impact",
   "metadata": {},
   "outputs": [
    {
     "data": {
      "text/plain": [
       "0"
      ]
     },
     "execution_count": 13,
     "metadata": {},
     "output_type": "execute_result"
    }
   ],
   "source": [
    "df.hastags.loc[df.hastags != 0].count()"
   ]
  },
  {
   "cell_type": "code",
   "execution_count": 14,
   "id": "resistant-laser",
   "metadata": {},
   "outputs": [
    {
     "data": {
      "text/html": [
       "<div>\n",
       "<style scoped>\n",
       "    .dataframe tbody tr th:only-of-type {\n",
       "        vertical-align: middle;\n",
       "    }\n",
       "\n",
       "    .dataframe tbody tr th {\n",
       "        vertical-align: top;\n",
       "    }\n",
       "\n",
       "    .dataframe thead th {\n",
       "        text-align: right;\n",
       "    }\n",
       "</style>\n",
       "<table border=\"1\" class=\"dataframe\">\n",
       "  <thead>\n",
       "    <tr style=\"text-align: right;\">\n",
       "      <th></th>\n",
       "      <th>comment</th>\n",
       "      <th>numerics</th>\n",
       "    </tr>\n",
       "  </thead>\n",
       "  <tbody>\n",
       "    <tr>\n",
       "      <th>0</th>\n",
       "      <td>\\n\\n\\n\\n\\n\\n\\n\\n\\n\\n  \\n  \\n    \\n  This is my...</td>\n",
       "      <td>0</td>\n",
       "    </tr>\n",
       "    <tr>\n",
       "      <th>1</th>\n",
       "      <td>Product delievery was late by one day but no i...</td>\n",
       "      <td>8</td>\n",
       "    </tr>\n",
       "    <tr>\n",
       "      <th>2</th>\n",
       "      <td>I was in a confusion to buy this or go for one...</td>\n",
       "      <td>3</td>\n",
       "    </tr>\n",
       "    <tr>\n",
       "      <th>3</th>\n",
       "      <td>This time Samsung really try to do some thing ...</td>\n",
       "      <td>2</td>\n",
       "    </tr>\n",
       "    <tr>\n",
       "      <th>4</th>\n",
       "      <td>1.Do not remove the pre applied screen protect...</td>\n",
       "      <td>0</td>\n",
       "    </tr>\n",
       "  </tbody>\n",
       "</table>\n",
       "</div>"
      ],
      "text/plain": [
       "                                             comment  numerics\n",
       "0  \\n\\n\\n\\n\\n\\n\\n\\n\\n\\n  \\n  \\n    \\n  This is my...         0\n",
       "1  Product delievery was late by one day but no i...         8\n",
       "2  I was in a confusion to buy this or go for one...         3\n",
       "3  This time Samsung really try to do some thing ...         2\n",
       "4  1.Do not remove the pre applied screen protect...         0"
      ]
     },
     "execution_count": 14,
     "metadata": {},
     "output_type": "execute_result"
    }
   ],
   "source": [
    "df['numerics'] = df['comment'].apply(lambda x: len([x for x in x.split() if x.isdigit()]))\n",
    "df[['comment','numerics']].head()"
   ]
  },
  {
   "cell_type": "code",
   "execution_count": 15,
   "id": "fossil-slave",
   "metadata": {},
   "outputs": [
    {
     "data": {
      "text/html": [
       "<div>\n",
       "<style scoped>\n",
       "    .dataframe tbody tr th:only-of-type {\n",
       "        vertical-align: middle;\n",
       "    }\n",
       "\n",
       "    .dataframe tbody tr th {\n",
       "        vertical-align: top;\n",
       "    }\n",
       "\n",
       "    .dataframe thead th {\n",
       "        text-align: right;\n",
       "    }\n",
       "</style>\n",
       "<table border=\"1\" class=\"dataframe\">\n",
       "  <thead>\n",
       "    <tr style=\"text-align: right;\">\n",
       "      <th></th>\n",
       "      <th>comment</th>\n",
       "      <th>upper</th>\n",
       "    </tr>\n",
       "  </thead>\n",
       "  <tbody>\n",
       "    <tr>\n",
       "      <th>0</th>\n",
       "      <td>\\n\\n\\n\\n\\n\\n\\n\\n\\n\\n  \\n  \\n    \\n  This is my...</td>\n",
       "      <td>1</td>\n",
       "    </tr>\n",
       "    <tr>\n",
       "      <th>1</th>\n",
       "      <td>Product delievery was late by one day but no i...</td>\n",
       "      <td>2</td>\n",
       "    </tr>\n",
       "    <tr>\n",
       "      <th>2</th>\n",
       "      <td>I was in a confusion to buy this or go for one...</td>\n",
       "      <td>29</td>\n",
       "    </tr>\n",
       "    <tr>\n",
       "      <th>3</th>\n",
       "      <td>This time Samsung really try to do some thing ...</td>\n",
       "      <td>1</td>\n",
       "    </tr>\n",
       "    <tr>\n",
       "      <th>4</th>\n",
       "      <td>1.Do not remove the pre applied screen protect...</td>\n",
       "      <td>0</td>\n",
       "    </tr>\n",
       "  </tbody>\n",
       "</table>\n",
       "</div>"
      ],
      "text/plain": [
       "                                             comment  upper\n",
       "0  \\n\\n\\n\\n\\n\\n\\n\\n\\n\\n  \\n  \\n    \\n  This is my...      1\n",
       "1  Product delievery was late by one day but no i...      2\n",
       "2  I was in a confusion to buy this or go for one...     29\n",
       "3  This time Samsung really try to do some thing ...      1\n",
       "4  1.Do not remove the pre applied screen protect...      0"
      ]
     },
     "execution_count": 15,
     "metadata": {},
     "output_type": "execute_result"
    }
   ],
   "source": [
    "df['upper'] = df['comment'].apply(lambda x: len([x for x in x.split() if x.isupper()]))\n",
    "df[['comment','upper']].head()"
   ]
  },
  {
   "cell_type": "code",
   "execution_count": 16,
   "id": "brave-nickel",
   "metadata": {},
   "outputs": [
    {
     "data": {
      "text/plain": [
       "0    this is my first phone from samsung after appl...\n",
       "1    product delievery was late by one day but no i...\n",
       "2    i was in a confusion to buy this or go for one...\n",
       "3    this time samsung really try to do some thing ...\n",
       "4    1.do not remove the pre applied screen protect...\n",
       "Name: comment, dtype: object"
      ]
     },
     "execution_count": 16,
     "metadata": {},
     "output_type": "execute_result"
    }
   ],
   "source": [
    "df['comment'] = df['comment'].apply(lambda x: \" \".join(x.lower() for x in x.split()))\n",
    "df['comment'].head()"
   ]
  },
  {
   "cell_type": "code",
   "execution_count": 17,
   "id": "hybrid-florist",
   "metadata": {},
   "outputs": [
    {
     "name": "stderr",
     "output_type": "stream",
     "text": [
      "<ipython-input-17-66a30b7fedcd>:1: FutureWarning: The default value of regex will change from True to False in a future version.\n",
      "  df['comment'] = df['comment'].str.replace('[^\\w\\s]','')\n"
     ]
    },
    {
     "data": {
      "text/plain": [
       "0    this is my first phone from samsung after appl...\n",
       "1    product delievery was late by one day but no i...\n",
       "2    i was in a confusion to buy this or go for one...\n",
       "3    this time samsung really try to do some thing ...\n",
       "4    1do not remove the pre applied screen protecto...\n",
       "Name: comment, dtype: object"
      ]
     },
     "execution_count": 17,
     "metadata": {},
     "output_type": "execute_result"
    }
   ],
   "source": [
    "df['comment'] = df['comment'].str.replace('[^\\w\\s]','')\n",
    "df['comment'].head()"
   ]
  },
  {
   "cell_type": "code",
   "execution_count": 18,
   "id": "attached-mattress",
   "metadata": {},
   "outputs": [
    {
     "data": {
      "text/plain": [
       "438                    good somehow camera disappointing\n",
       "85     worth money price high waste money camera qual...\n",
       "288                    good somehow camera disappointing\n",
       "95     1do remove pre applied screen protector doesnt...\n",
       "401    product delievery late one day issues thanks a...\n",
       "563    time samsung really try thing new special seri...\n",
       "492    confusion buy go oneplus 88pro confusion im sh...\n",
       "602    confusion buy go oneplus 88pro confusion im sh...\n",
       "756    guys lets cut crap lets get straight onto revi...\n",
       "510    first phone samsung apple x phone great compar...\n",
       "Name: comment, dtype: object"
      ]
     },
     "execution_count": 18,
     "metadata": {},
     "output_type": "execute_result"
    }
   ],
   "source": [
    "from nltk.corpus import stopwords\n",
    "stop = stopwords.words('english')\n",
    "df['comment'] = df['comment'].apply(lambda x: \" \".join(x for x in x.split() if x not in stop))\n",
    "df['comment'].sample(10)"
   ]
  },
  {
   "cell_type": "code",
   "execution_count": 19,
   "id": "attempted-teens",
   "metadata": {},
   "outputs": [],
   "source": [
    "def remove_url(text):\n",
    "    url = re.compile(r'https?://\\S+|www\\.\\S+')\n",
    "    return url.sub(r'', text)"
   ]
  },
  {
   "cell_type": "code",
   "execution_count": 20,
   "id": "superb-advantage",
   "metadata": {},
   "outputs": [],
   "source": [
    "# remove all urls from df\n",
    "import re\n",
    "import string\n",
    "\n",
    "df['comment'] = df['comment'].apply(lambda x: remove_url(x))"
   ]
  },
  {
   "cell_type": "code",
   "execution_count": 21,
   "id": "everyday-reality",
   "metadata": {},
   "outputs": [],
   "source": [
    "def remove_html(text):\n",
    "    html=re.compile(r'<.*?>')\n",
    "    return html.sub(r'',text)"
   ]
  },
  {
   "cell_type": "code",
   "execution_count": 22,
   "id": "better-cambridge",
   "metadata": {},
   "outputs": [],
   "source": [
    "# remove all html tags from df\n",
    "df['comment'] = df['comment'].apply(lambda x: remove_html(x))"
   ]
  },
  {
   "cell_type": "code",
   "execution_count": 23,
   "id": "obvious-geography",
   "metadata": {},
   "outputs": [],
   "source": [
    "# Reference : https://gist.github.com/slowkow/7a7f61f495e3dbb7e3d767f97bd7304b\n",
    "def remove_emoji(text):\n",
    "    emoji_pattern = re.compile(\"[\"\n",
    "                           u\"\\U0001F600-\\U0001F64F\"  # emoticons\n",
    "                           u\"\\U0001F300-\\U0001F5FF\"  # symbols & pictographs\n",
    "                           u\"\\U0001F680-\\U0001F6FF\"  # transport & map symbols\n",
    "                           u\"\\U0001F1E0-\\U0001F1FF\"  # flags \n",
    "                           u\"\\U00002702-\\U000027B0\"\n",
    "                           u\"\\U000024C2-\\U0001F251\"\n",
    "                           \"]+\", flags=re.UNICODE)\n",
    "    return emoji_pattern.sub(r'', text)"
   ]
  },
  {
   "cell_type": "code",
   "execution_count": 24,
   "id": "boxed-yukon",
   "metadata": {},
   "outputs": [
    {
     "data": {
      "text/plain": [
       "'Omg another Earthquake '"
      ]
     },
     "execution_count": 24,
     "metadata": {},
     "output_type": "execute_result"
    }
   ],
   "source": [
    "#Example\n",
    "remove_emoji(\"Omg another Earthquake 😔😔\")"
   ]
  },
  {
   "cell_type": "code",
   "execution_count": 25,
   "id": "cathedral-jonathan",
   "metadata": {},
   "outputs": [],
   "source": [
    "# remove all emojis from df\n",
    "df['comment'] = df['comment'].apply(lambda x: remove_emoji(x))"
   ]
  },
  {
   "cell_type": "code",
   "execution_count": 26,
   "id": "intermediate-music",
   "metadata": {},
   "outputs": [
    {
     "name": "stdout",
     "output_type": "stream",
     "text": [
      "Defaulting to user installation because normal site-packages is not writeable\n",
      "Requirement already satisfied: emot in ./.local/lib/python3.8/site-packages (2.1)\n"
     ]
    }
   ],
   "source": [
    "!pip install emot"
   ]
  },
  {
   "cell_type": "code",
   "execution_count": 27,
   "id": "parliamentary-divide",
   "metadata": {},
   "outputs": [],
   "source": [
    "from emot.emo_unicode import UNICODE_EMO, EMOTICONS\n",
    "\n",
    "# Function for removing emoticons\n",
    "def remove_emoticons(text):\n",
    "    emoticon_pattern = re.compile(u'(' + u'|'.join(k for k in EMOTICONS) + u')')\n",
    "    return emoticon_pattern.sub(r'', text)"
   ]
  },
  {
   "cell_type": "code",
   "execution_count": 28,
   "id": "instrumental-migration",
   "metadata": {},
   "outputs": [
    {
     "data": {
      "text/plain": [
       "'Hello '"
      ]
     },
     "execution_count": 28,
     "metadata": {},
     "output_type": "execute_result"
    }
   ],
   "source": [
    "#Example\n",
    "remove_emoticons(\"Hello :-)\")"
   ]
  },
  {
   "cell_type": "code",
   "execution_count": 29,
   "id": "automotive-chrome",
   "metadata": {},
   "outputs": [],
   "source": [
    "df['comment'] = df['comment'].apply(lambda x: remove_emoticons(x))"
   ]
  },
  {
   "cell_type": "code",
   "execution_count": 30,
   "id": "silent-boost",
   "metadata": {},
   "outputs": [
    {
     "data": {
      "text/plain": [
       "0    first phone samson apple x phone great compare...\n",
       "1    product delivery late one day issues thanks am...\n",
       "2    confusion buy go onerous pro confusion in shar...\n",
       "3    time samson really try thing new special serie...\n",
       "4    do remove pre applied screen protector doesn c...\n",
       "Name: comment, dtype: object"
      ]
     },
     "execution_count": 30,
     "metadata": {},
     "output_type": "execute_result"
    }
   ],
   "source": [
    "from textblob import TextBlob\n",
    "df['comment'][:5].apply(lambda x: str(TextBlob(x).correct()))"
   ]
  },
  {
   "cell_type": "code",
   "execution_count": 31,
   "id": "incorrect-health",
   "metadata": {},
   "outputs": [],
   "source": [
    "# We could do some of the cleaning steps as a sum of opreation like this:\n",
    "\n",
    "# Apply a first round of text cleaning techniques\n",
    "import re\n",
    "import string\n",
    "\n",
    "def clean_text_round1(text):\n",
    "    '''Make text lowercase, remove text in square brackets, remove punctuation and remove words containing numbers.'''\n",
    "    text = text.lower()\n",
    "    text = re.sub('\\[.*?\\]', '', text)\n",
    "    text = re.sub('[%s]' % re.escape(string.punctuation), '', text)\n",
    "    text = re.sub('\\w*\\d\\w*', '', text)\n",
    "    return text\n",
    "\n",
    "round1 = lambda x: clean_text_round1(x)"
   ]
  },
  {
   "cell_type": "code",
   "execution_count": 32,
   "id": "living-advantage",
   "metadata": {},
   "outputs": [
    {
     "data": {
      "text/plain": [
       "0      first phone samsung apple x phone great compar...\n",
       "1      product delievery late one day issues thanks a...\n",
       "2      confusion buy go oneplus  confusion im sharing...\n",
       "3      time samsung really try thing new special seri...\n",
       "4       remove pre applied screen protector doesnt co...\n",
       "                             ...                        \n",
       "985    worth money price high waste money camera qual...\n",
       "986    guys lets cut crap lets get straight onto revi...\n",
       "987     perfect smartphone  reasonable price point ph...\n",
       "988                    good somehow camera disappointing\n",
       "989    awesome product samsungprosvery good audio qua...\n",
       "Name: comment, Length: 990, dtype: object"
      ]
     },
     "execution_count": 32,
     "metadata": {},
     "output_type": "execute_result"
    }
   ],
   "source": [
    "df['comment'] = df.comment.apply(round1)\n",
    "df.comment"
   ]
  },
  {
   "cell_type": "code",
   "execution_count": 33,
   "id": "aggregate-acoustic",
   "metadata": {},
   "outputs": [],
   "source": [
    "# Apply a second round of cleaning\n",
    "def clean_text_round2(text):\n",
    "    '''Get rid of some additional punctuation and non-sensical text that was missed the first time around.'''\n",
    "    text = re.sub('[‘’“”…]', '', text)\n",
    "    text = re.sub('\\n', '', text)\n",
    "    return text\n",
    "\n",
    "round2 = lambda x: clean_text_round2(x)"
   ]
  },
  {
   "cell_type": "code",
   "execution_count": 34,
   "id": "posted-quantity",
   "metadata": {},
   "outputs": [
    {
     "data": {
      "text/plain": [
       "0      first phone samsung apple x phone great compar...\n",
       "1      product delievery late one day issues thanks a...\n",
       "2      confusion buy go oneplus  confusion im sharing...\n",
       "3      time samsung really try thing new special seri...\n",
       "4       remove pre applied screen protector doesnt co...\n",
       "                             ...                        \n",
       "985    worth money price high waste money camera qual...\n",
       "986    guys lets cut crap lets get straight onto revi...\n",
       "987     perfect smartphone  reasonable price point ph...\n",
       "988                    good somehow camera disappointing\n",
       "989    awesome product samsungprosvery good audio qua...\n",
       "Name: comment, Length: 990, dtype: object"
      ]
     },
     "execution_count": 34,
     "metadata": {},
     "output_type": "execute_result"
    }
   ],
   "source": [
    "df['comment'] = df.comment.apply(round2)\n",
    "df.comment"
   ]
  },
  {
   "cell_type": "code",
   "execution_count": 35,
   "id": "irish-surgeon",
   "metadata": {},
   "outputs": [
    {
     "data": {
      "text/plain": [
       "samsung    2079\n",
       "one        1980\n",
       "battery    1881\n",
       "phone      1881\n",
       "camera     1485\n",
       "quality    1386\n",
       "screen     1287\n",
       "get         792\n",
       "day         792\n",
       "plus        792\n",
       "good        792\n",
       "best        693\n",
       "fast        693\n",
       "great       693\n",
       "display     594\n",
       "rate        594\n",
       "like        495\n",
       "exynos      495\n",
       "size        495\n",
       "price       495\n",
       "dtype: int64"
      ]
     },
     "execution_count": 35,
     "metadata": {},
     "output_type": "execute_result"
    }
   ],
   "source": [
    "freq = pd.Series(' '.join(df['comment']).split()).value_counts()[:20]\n",
    "freq"
   ]
  },
  {
   "cell_type": "code",
   "execution_count": 36,
   "id": "critical-wallet",
   "metadata": {},
   "outputs": [
    {
     "data": {
      "text/html": [
       "<div>\n",
       "<style scoped>\n",
       "    .dataframe tbody tr th:only-of-type {\n",
       "        vertical-align: middle;\n",
       "    }\n",
       "\n",
       "    .dataframe tbody tr th {\n",
       "        vertical-align: top;\n",
       "    }\n",
       "\n",
       "    .dataframe thead th {\n",
       "        text-align: right;\n",
       "    }\n",
       "</style>\n",
       "<table border=\"1\" class=\"dataframe\">\n",
       "  <thead>\n",
       "    <tr style=\"text-align: right;\">\n",
       "      <th></th>\n",
       "      <th>comment</th>\n",
       "      <th>word_count</th>\n",
       "    </tr>\n",
       "  </thead>\n",
       "  <tbody>\n",
       "    <tr>\n",
       "      <th>0</th>\n",
       "      <td>first phone samsung apple x phone great compar...</td>\n",
       "      <td>26</td>\n",
       "    </tr>\n",
       "    <tr>\n",
       "      <th>1</th>\n",
       "      <td>product delievery late one day issues thanks a...</td>\n",
       "      <td>252</td>\n",
       "    </tr>\n",
       "    <tr>\n",
       "      <th>2</th>\n",
       "      <td>confusion buy go oneplus  confusion im sharing...</td>\n",
       "      <td>249</td>\n",
       "    </tr>\n",
       "    <tr>\n",
       "      <th>3</th>\n",
       "      <td>time samsung really try thing new special seri...</td>\n",
       "      <td>85</td>\n",
       "    </tr>\n",
       "    <tr>\n",
       "      <th>4</th>\n",
       "      <td>remove pre applied screen protector doesnt co...</td>\n",
       "      <td>102</td>\n",
       "    </tr>\n",
       "  </tbody>\n",
       "</table>\n",
       "</div>"
      ],
      "text/plain": [
       "                                             comment  word_count\n",
       "0  first phone samsung apple x phone great compar...          26\n",
       "1  product delievery late one day issues thanks a...         252\n",
       "2  confusion buy go oneplus  confusion im sharing...         249\n",
       "3  time samsung really try thing new special seri...          85\n",
       "4   remove pre applied screen protector doesnt co...         102"
      ]
     },
     "execution_count": 36,
     "metadata": {},
     "output_type": "execute_result"
    }
   ],
   "source": [
    "df['word_count'] = df['comment'].apply(lambda x: len(str(x).split(\" \")))\n",
    "df[['comment','word_count']].head()"
   ]
  },
  {
   "cell_type": "code",
   "execution_count": 37,
   "id": "lesbian-graduate",
   "metadata": {},
   "outputs": [
    {
     "data": {
      "text/html": [
       "<div>\n",
       "<style scoped>\n",
       "    .dataframe tbody tr th:only-of-type {\n",
       "        vertical-align: middle;\n",
       "    }\n",
       "\n",
       "    .dataframe tbody tr th {\n",
       "        vertical-align: top;\n",
       "    }\n",
       "\n",
       "    .dataframe thead th {\n",
       "        text-align: right;\n",
       "    }\n",
       "</style>\n",
       "<table border=\"1\" class=\"dataframe\">\n",
       "  <thead>\n",
       "    <tr style=\"text-align: right;\">\n",
       "      <th></th>\n",
       "      <th>null</th>\n",
       "      <th>percent</th>\n",
       "    </tr>\n",
       "  </thead>\n",
       "  <tbody>\n",
       "    <tr>\n",
       "      <th>stars</th>\n",
       "      <td>0</td>\n",
       "      <td>0.0</td>\n",
       "    </tr>\n",
       "    <tr>\n",
       "      <th>comment</th>\n",
       "      <td>0</td>\n",
       "      <td>0.0</td>\n",
       "    </tr>\n",
       "    <tr>\n",
       "      <th>stopwords</th>\n",
       "      <td>0</td>\n",
       "      <td>0.0</td>\n",
       "    </tr>\n",
       "    <tr>\n",
       "      <th>punctuation</th>\n",
       "      <td>0</td>\n",
       "      <td>0.0</td>\n",
       "    </tr>\n",
       "    <tr>\n",
       "      <th>hastags</th>\n",
       "      <td>0</td>\n",
       "      <td>0.0</td>\n",
       "    </tr>\n",
       "    <tr>\n",
       "      <th>numerics</th>\n",
       "      <td>0</td>\n",
       "      <td>0.0</td>\n",
       "    </tr>\n",
       "    <tr>\n",
       "      <th>upper</th>\n",
       "      <td>0</td>\n",
       "      <td>0.0</td>\n",
       "    </tr>\n",
       "    <tr>\n",
       "      <th>word_count</th>\n",
       "      <td>0</td>\n",
       "      <td>0.0</td>\n",
       "    </tr>\n",
       "  </tbody>\n",
       "</table>\n",
       "</div>"
      ],
      "text/plain": [
       "             null  percent\n",
       "stars           0      0.0\n",
       "comment         0      0.0\n",
       "stopwords       0      0.0\n",
       "punctuation     0      0.0\n",
       "hastags         0      0.0\n",
       "numerics        0      0.0\n",
       "upper           0      0.0\n",
       "word_count      0      0.0"
      ]
     },
     "execution_count": 37,
     "metadata": {},
     "output_type": "execute_result"
    }
   ],
   "source": [
    "null_values=df.isna().sum()\n",
    "null_values=pd.DataFrame(null_values,columns=['null'])\n",
    "sum_tot=len(df)\n",
    "null_values['percent']=null_values['null']/sum_tot*100\n",
    "round(null_values,3).sort_values('percent',ascending=False)"
   ]
  },
  {
   "cell_type": "code",
   "execution_count": 38,
   "id": "pleasant-delay",
   "metadata": {},
   "outputs": [
    {
     "data": {
      "text/html": [
       "<div>\n",
       "<style scoped>\n",
       "    .dataframe tbody tr th:only-of-type {\n",
       "        vertical-align: middle;\n",
       "    }\n",
       "\n",
       "    .dataframe tbody tr th {\n",
       "        vertical-align: top;\n",
       "    }\n",
       "\n",
       "    .dataframe thead th {\n",
       "        text-align: right;\n",
       "    }\n",
       "</style>\n",
       "<table border=\"1\" class=\"dataframe\">\n",
       "  <thead>\n",
       "    <tr style=\"text-align: right;\">\n",
       "      <th></th>\n",
       "      <th>comment</th>\n",
       "      <th>char_count</th>\n",
       "    </tr>\n",
       "  </thead>\n",
       "  <tbody>\n",
       "    <tr>\n",
       "      <th>0</th>\n",
       "      <td>first phone samsung apple x phone great compar...</td>\n",
       "      <td>177</td>\n",
       "    </tr>\n",
       "    <tr>\n",
       "      <th>1</th>\n",
       "      <td>product delievery late one day issues thanks a...</td>\n",
       "      <td>1530</td>\n",
       "    </tr>\n",
       "    <tr>\n",
       "      <th>2</th>\n",
       "      <td>confusion buy go oneplus  confusion im sharing...</td>\n",
       "      <td>1535</td>\n",
       "    </tr>\n",
       "    <tr>\n",
       "      <th>3</th>\n",
       "      <td>time samsung really try thing new special seri...</td>\n",
       "      <td>516</td>\n",
       "    </tr>\n",
       "    <tr>\n",
       "      <th>4</th>\n",
       "      <td>remove pre applied screen protector doesnt co...</td>\n",
       "      <td>564</td>\n",
       "    </tr>\n",
       "  </tbody>\n",
       "</table>\n",
       "</div>"
      ],
      "text/plain": [
       "                                             comment  char_count\n",
       "0  first phone samsung apple x phone great compar...         177\n",
       "1  product delievery late one day issues thanks a...        1530\n",
       "2  confusion buy go oneplus  confusion im sharing...        1535\n",
       "3  time samsung really try thing new special seri...         516\n",
       "4   remove pre applied screen protector doesnt co...         564"
      ]
     },
     "execution_count": 38,
     "metadata": {},
     "output_type": "execute_result"
    }
   ],
   "source": [
    "df['char_count'] = df['comment'].str.len() ## this also includes spaces\n",
    "df[['comment','char_count']].head()"
   ]
  },
  {
   "cell_type": "code",
   "execution_count": 39,
   "id": "medium-andorra",
   "metadata": {},
   "outputs": [],
   "source": [
    "def avg_word(sentence):\n",
    "  words = sentence.split()\n",
    "  return (sum(len(word) for word in words)/(len(words)+0.000001))"
   ]
  },
  {
   "cell_type": "code",
   "execution_count": 40,
   "id": "awful-bulgarian",
   "metadata": {},
   "outputs": [
    {
     "data": {
      "text/html": [
       "<div>\n",
       "<style scoped>\n",
       "    .dataframe tbody tr th:only-of-type {\n",
       "        vertical-align: middle;\n",
       "    }\n",
       "\n",
       "    .dataframe tbody tr th {\n",
       "        vertical-align: top;\n",
       "    }\n",
       "\n",
       "    .dataframe thead th {\n",
       "        text-align: right;\n",
       "    }\n",
       "</style>\n",
       "<table border=\"1\" class=\"dataframe\">\n",
       "  <thead>\n",
       "    <tr style=\"text-align: right;\">\n",
       "      <th></th>\n",
       "      <th>comment</th>\n",
       "      <th>avg_word</th>\n",
       "    </tr>\n",
       "  </thead>\n",
       "  <tbody>\n",
       "    <tr>\n",
       "      <th>0</th>\n",
       "      <td>first phone samsung apple x phone great compar...</td>\n",
       "      <td>5.8</td>\n",
       "    </tr>\n",
       "    <tr>\n",
       "      <th>1</th>\n",
       "      <td>product delievery late one day issues thanks a...</td>\n",
       "      <td>5.4</td>\n",
       "    </tr>\n",
       "    <tr>\n",
       "      <th>2</th>\n",
       "      <td>confusion buy go oneplus  confusion im sharing...</td>\n",
       "      <td>5.6</td>\n",
       "    </tr>\n",
       "    <tr>\n",
       "      <th>3</th>\n",
       "      <td>time samsung really try thing new special seri...</td>\n",
       "      <td>5.6</td>\n",
       "    </tr>\n",
       "    <tr>\n",
       "      <th>4</th>\n",
       "      <td>remove pre applied screen protector doesnt co...</td>\n",
       "      <td>5.2</td>\n",
       "    </tr>\n",
       "  </tbody>\n",
       "</table>\n",
       "</div>"
      ],
      "text/plain": [
       "                                             comment  avg_word\n",
       "0  first phone samsung apple x phone great compar...       5.8\n",
       "1  product delievery late one day issues thanks a...       5.4\n",
       "2  confusion buy go oneplus  confusion im sharing...       5.6\n",
       "3  time samsung really try thing new special seri...       5.6\n",
       "4   remove pre applied screen protector doesnt co...       5.2"
      ]
     },
     "execution_count": 40,
     "metadata": {},
     "output_type": "execute_result"
    }
   ],
   "source": [
    "df['avg_word'] = df['comment'].apply(lambda x: avg_word(x)).round(1)\n",
    "df[['comment','avg_word']].head()"
   ]
  },
  {
   "cell_type": "code",
   "execution_count": 41,
   "id": "liable-progressive",
   "metadata": {},
   "outputs": [
    {
     "data": {
      "text/html": [
       "<div>\n",
       "<style scoped>\n",
       "    .dataframe tbody tr th:only-of-type {\n",
       "        vertical-align: middle;\n",
       "    }\n",
       "\n",
       "    .dataframe tbody tr th {\n",
       "        vertical-align: top;\n",
       "    }\n",
       "\n",
       "    .dataframe thead th {\n",
       "        text-align: right;\n",
       "    }\n",
       "</style>\n",
       "<table border=\"1\" class=\"dataframe\">\n",
       "  <thead>\n",
       "    <tr style=\"text-align: right;\">\n",
       "      <th></th>\n",
       "      <th>stars</th>\n",
       "      <th>comment</th>\n",
       "      <th>stopwords</th>\n",
       "      <th>punctuation</th>\n",
       "      <th>hastags</th>\n",
       "      <th>numerics</th>\n",
       "      <th>upper</th>\n",
       "      <th>word_count</th>\n",
       "      <th>char_count</th>\n",
       "      <th>avg_word</th>\n",
       "    </tr>\n",
       "  </thead>\n",
       "  <tbody>\n",
       "    <tr>\n",
       "      <th>4</th>\n",
       "      <td>5</td>\n",
       "      <td>remove pre applied screen protector doesnt co...</td>\n",
       "      <td>58</td>\n",
       "      <td>37</td>\n",
       "      <td>0</td>\n",
       "      <td>0</td>\n",
       "      <td>0</td>\n",
       "      <td>102</td>\n",
       "      <td>564</td>\n",
       "      <td>5.2</td>\n",
       "    </tr>\n",
       "    <tr>\n",
       "      <th>350</th>\n",
       "      <td>5</td>\n",
       "      <td>first phone samsung apple x phone great compar...</td>\n",
       "      <td>19</td>\n",
       "      <td>2</td>\n",
       "      <td>0</td>\n",
       "      <td>0</td>\n",
       "      <td>1</td>\n",
       "      <td>26</td>\n",
       "      <td>177</td>\n",
       "      <td>5.8</td>\n",
       "    </tr>\n",
       "  </tbody>\n",
       "</table>\n",
       "</div>"
      ],
      "text/plain": [
       "     stars                                            comment  stopwords  \\\n",
       "4        5   remove pre applied screen protector doesnt co...         58   \n",
       "350      5  first phone samsung apple x phone great compar...         19   \n",
       "\n",
       "     punctuation  hastags  numerics  upper  word_count  char_count  avg_word  \n",
       "4             37        0         0      0         102         564       5.2  \n",
       "350            2        0         0      1          26         177       5.8  "
      ]
     },
     "execution_count": 41,
     "metadata": {},
     "output_type": "execute_result"
    }
   ],
   "source": [
    "df.sample(2)"
   ]
  },
  {
   "cell_type": "code",
   "execution_count": 42,
   "id": "infrared-instruction",
   "metadata": {},
   "outputs": [
    {
     "data": {
      "text/plain": [
       "['stars',\n",
       " 'comment',\n",
       " 'stopwords',\n",
       " 'punctuation',\n",
       " 'hastags',\n",
       " 'numerics',\n",
       " 'upper',\n",
       " 'word_count',\n",
       " 'char_count',\n",
       " 'avg_word']"
      ]
     },
     "execution_count": 42,
     "metadata": {},
     "output_type": "execute_result"
    }
   ],
   "source": [
    "list(df)"
   ]
  },
  {
   "cell_type": "code",
   "execution_count": 43,
   "id": "immediate-natural",
   "metadata": {},
   "outputs": [
    {
     "data": {
      "text/html": [
       "<div>\n",
       "<style scoped>\n",
       "    .dataframe tbody tr th:only-of-type {\n",
       "        vertical-align: middle;\n",
       "    }\n",
       "\n",
       "    .dataframe tbody tr th {\n",
       "        vertical-align: top;\n",
       "    }\n",
       "\n",
       "    .dataframe thead th {\n",
       "        text-align: right;\n",
       "    }\n",
       "</style>\n",
       "<table border=\"1\" class=\"dataframe\">\n",
       "  <thead>\n",
       "    <tr style=\"text-align: right;\">\n",
       "      <th></th>\n",
       "      <th>stars</th>\n",
       "      <th>comment</th>\n",
       "      <th>stopwords</th>\n",
       "      <th>punctuation</th>\n",
       "      <th>hastags</th>\n",
       "      <th>numerics</th>\n",
       "      <th>upper</th>\n",
       "      <th>word_count</th>\n",
       "      <th>char_count</th>\n",
       "      <th>avg_word</th>\n",
       "    </tr>\n",
       "  </thead>\n",
       "  <tbody>\n",
       "    <tr>\n",
       "      <th>449</th>\n",
       "      <td>5</td>\n",
       "      <td>awesome product samsungprosvery good audio qua...</td>\n",
       "      <td>42</td>\n",
       "      <td>12</td>\n",
       "      <td>0</td>\n",
       "      <td>0</td>\n",
       "      <td>0</td>\n",
       "      <td>68</td>\n",
       "      <td>557</td>\n",
       "      <td>7.4</td>\n",
       "    </tr>\n",
       "    <tr>\n",
       "      <th>139</th>\n",
       "      <td>5</td>\n",
       "      <td>awesome product samsungprosvery good audio qua...</td>\n",
       "      <td>42</td>\n",
       "      <td>12</td>\n",
       "      <td>0</td>\n",
       "      <td>0</td>\n",
       "      <td>0</td>\n",
       "      <td>68</td>\n",
       "      <td>557</td>\n",
       "      <td>7.4</td>\n",
       "    </tr>\n",
       "    <tr>\n",
       "      <th>311</th>\n",
       "      <td>5</td>\n",
       "      <td>product delievery late one day issues thanks a...</td>\n",
       "      <td>151</td>\n",
       "      <td>59</td>\n",
       "      <td>0</td>\n",
       "      <td>8</td>\n",
       "      <td>2</td>\n",
       "      <td>252</td>\n",
       "      <td>1530</td>\n",
       "      <td>5.4</td>\n",
       "    </tr>\n",
       "    <tr>\n",
       "      <th>365</th>\n",
       "      <td>1</td>\n",
       "      <td>worth money price high waste money camera qual...</td>\n",
       "      <td>5</td>\n",
       "      <td>7</td>\n",
       "      <td>0</td>\n",
       "      <td>0</td>\n",
       "      <td>0</td>\n",
       "      <td>12</td>\n",
       "      <td>77</td>\n",
       "      <td>5.5</td>\n",
       "    </tr>\n",
       "    <tr>\n",
       "      <th>398</th>\n",
       "      <td>4</td>\n",
       "      <td>good somehow camera disappointing</td>\n",
       "      <td>3</td>\n",
       "      <td>0</td>\n",
       "      <td>0</td>\n",
       "      <td>0</td>\n",
       "      <td>0</td>\n",
       "      <td>4</td>\n",
       "      <td>33</td>\n",
       "      <td>7.5</td>\n",
       "    </tr>\n",
       "  </tbody>\n",
       "</table>\n",
       "</div>"
      ],
      "text/plain": [
       "     stars                                            comment  stopwords  \\\n",
       "449      5  awesome product samsungprosvery good audio qua...         42   \n",
       "139      5  awesome product samsungprosvery good audio qua...         42   \n",
       "311      5  product delievery late one day issues thanks a...        151   \n",
       "365      1  worth money price high waste money camera qual...          5   \n",
       "398      4                  good somehow camera disappointing          3   \n",
       "\n",
       "     punctuation  hastags  numerics  upper  word_count  char_count  avg_word  \n",
       "449           12        0         0      0          68         557       7.4  \n",
       "139           12        0         0      0          68         557       7.4  \n",
       "311           59        0         8      2         252        1530       5.4  \n",
       "365            7        0         0      0          12          77       5.5  \n",
       "398            0        0         0      0           4          33       7.5  "
      ]
     },
     "execution_count": 43,
     "metadata": {},
     "output_type": "execute_result"
    }
   ],
   "source": [
    "df.sample(5)"
   ]
  },
  {
   "cell_type": "code",
   "execution_count": 55,
   "id": "manufactured-cisco",
   "metadata": {},
   "outputs": [],
   "source": [
    "add_words = [\"get\",     \n",
    "\"use\",     \n",
    "\"first\",      \n",
    "\"like\",\"u\",\"goes\",\"im\",\"exynos\"     \n",
    "]\n",
    "\n",
    "stop_words = set(stopwords.words(\"english\"))\n",
    "stop_added = stop_words.union(add_words)"
   ]
  },
  {
   "cell_type": "code",
   "execution_count": 56,
   "id": "white-scanning",
   "metadata": {},
   "outputs": [
    {
     "data": {
      "text/plain": [
       "465    worth money price high waste money camera qual...\n",
       "931    product delievery late one day issues thanks a...\n",
       "923    time samsung really try thing new special seri...\n",
       "85     worth money price high waste money camera qual...\n",
       "886    guys lets cut crap lets straight onto review d...\n",
       "113    time samsung really try thing new special seri...\n",
       "697    perfect smartphone reasonable price point phon...\n",
       "769    awesome product samsungprosvery good audio qua...\n",
       "6      guys lets cut crap lets straight onto review d...\n",
       "308                    good somehow camera disappointing\n",
       "Name: comment, dtype: object"
      ]
     },
     "execution_count": 56,
     "metadata": {},
     "output_type": "execute_result"
    }
   ],
   "source": [
    "df['comment'] = df['comment'].apply(lambda x: \" \".join(x for x in x.split() if x not in stop_added))\n",
    "df['comment'].sample(10)"
   ]
  },
  {
   "cell_type": "code",
   "execution_count": 57,
   "id": "prescription-baptist",
   "metadata": {},
   "outputs": [],
   "source": [
    "df1= df"
   ]
  },
  {
   "cell_type": "code",
   "execution_count": 58,
   "id": "immune-finance",
   "metadata": {},
   "outputs": [],
   "source": [
    "mask = df1.comment.str.endswith('br') \n",
    "df1.loc[mask, 'comment'] = df1.loc[mask, 'comment'].str[:-2]"
   ]
  },
  {
   "cell_type": "code",
   "execution_count": 59,
   "id": "direct-richardson",
   "metadata": {},
   "outputs": [],
   "source": [
    "df1['comment'] = df1['comment'].str.rstrip('tty')"
   ]
  },
  {
   "cell_type": "code",
   "execution_count": 60,
   "id": "possible-basketball",
   "metadata": {},
   "outputs": [
    {
     "data": {
      "text/plain": [
       "0      phone samsung apple x phone great compared dis...\n",
       "1      product delievery late one day issues thanks a...\n",
       "2      confusion buy go oneplus confusion sharing rev...\n",
       "3      time samsung really try thing new special seri...\n",
       "4      remove pre applied screen protector doesnt com...\n",
       "                             ...                        \n",
       "985    worth money price high waste money camera qual...\n",
       "986    guys lets cut crap lets straight onto review d...\n",
       "987    perfect smartphone reasonable price point phon...\n",
       "988                    good somehow camera disappointing\n",
       "989    awesome product samsungprosvery good audio qua...\n",
       "Name: comment, Length: 990, dtype: object"
      ]
     },
     "execution_count": 60,
     "metadata": {},
     "output_type": "execute_result"
    }
   ],
   "source": [
    "df1['comment'].apply(lambda x: x[:-2] if x.endswith('tty') else x)"
   ]
  },
  {
   "cell_type": "code",
   "execution_count": 61,
   "id": "corresponding-identity",
   "metadata": {},
   "outputs": [
    {
     "data": {
      "text/plain": [
       "Series([], Name: comment, dtype: object)"
      ]
     },
     "execution_count": 61,
     "metadata": {},
     "output_type": "execute_result"
    }
   ],
   "source": [
    "df1.loc[df1.comment.str.endswith('br'), 'comment']\n"
   ]
  },
  {
   "cell_type": "code",
   "execution_count": 62,
   "id": "distant-myanmar",
   "metadata": {},
   "outputs": [
    {
     "data": {
      "text/plain": [
       "[]"
      ]
     },
     "execution_count": 62,
     "metadata": {},
     "output_type": "execute_result"
    }
   ],
   "source": [
    "df1.loc[df1.punctuation >= 1000].comment.tolist()"
   ]
  },
  {
   "cell_type": "code",
   "execution_count": 63,
   "id": "atlantic-representative",
   "metadata": {},
   "outputs": [
    {
     "data": {
      "text/plain": [
       "[]"
      ]
     },
     "execution_count": 63,
     "metadata": {},
     "output_type": "execute_result"
    }
   ],
   "source": [
    "df.loc[df.punctuation >= 1000].comment.tolist()\n"
   ]
  },
  {
   "cell_type": "code",
   "execution_count": 64,
   "id": "interesting-rogers",
   "metadata": {},
   "outputs": [
    {
     "data": {
      "text/plain": [
       "samsung        2079\n",
       "one            1980\n",
       "battery        1881\n",
       "phone          1881\n",
       "camera         1485\n",
       "quality        1386\n",
       "screen         1287\n",
       "day             792\n",
       "plus            792\n",
       "good            792\n",
       "best            693\n",
       "great           693\n",
       "display         594\n",
       "rate            594\n",
       "fast            594\n",
       "still           495\n",
       "charging        495\n",
       "wireless        495\n",
       "fingerprint     495\n",
       "price           495\n",
       "better          495\n",
       "apple           495\n",
       "size            495\n",
       "refresh         495\n",
       "hours           396\n",
       "updates         396\n",
       "option          396\n",
       "think           396\n",
       "cloud           396\n",
       "sensor          396\n",
       "series          396\n",
       "say             396\n",
       "features        396\n",
       "much            396\n",
       "life            396\n",
       "heating         396\n",
       "market          396\n",
       "os              396\n",
       "even            396\n",
       "feel            396\n",
       "people          396\n",
       "using           396\n",
       "last            396\n",
       "year            396\n",
       "dont            396\n",
       "nice            396\n",
       "full            396\n",
       "really          396\n",
       "look            297\n",
       "light           297\n",
       "dtype: int64"
      ]
     },
     "execution_count": 64,
     "metadata": {},
     "output_type": "execute_result"
    }
   ],
   "source": [
    "freq = pd.Series(' '.join(df['comment']).split()).value_counts()[:50]\n",
    "freq"
   ]
  },
  {
   "cell_type": "code",
   "execution_count": 65,
   "id": "junior-aberdeen",
   "metadata": {},
   "outputs": [],
   "source": [
    "df.to_csv('samsungcamera2.csv', index=False)"
   ]
  },
  {
   "cell_type": "code",
   "execution_count": null,
   "id": "biblical-dressing",
   "metadata": {},
   "outputs": [],
   "source": []
  },
  {
   "cell_type": "code",
   "execution_count": null,
   "id": "express-notification",
   "metadata": {},
   "outputs": [],
   "source": []
  }
 ],
 "metadata": {
  "kernelspec": {
   "display_name": "Python 3",
   "language": "python",
   "name": "python3"
  },
  "language_info": {
   "codemirror_mode": {
    "name": "ipython",
    "version": 3
   },
   "file_extension": ".py",
   "mimetype": "text/x-python",
   "name": "python",
   "nbconvert_exporter": "python",
   "pygments_lexer": "ipython3",
   "version": "3.8.6"
  }
 },
 "nbformat": 4,
 "nbformat_minor": 5
}
