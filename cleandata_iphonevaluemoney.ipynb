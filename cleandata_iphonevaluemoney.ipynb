{
 "cells": [
  {
   "cell_type": "code",
   "execution_count": 1,
   "id": "unavailable-research",
   "metadata": {},
   "outputs": [],
   "source": [
    "import subprocess as sp\n",
    "import sys,os,shutil,pickle,time\n",
    "from os.path import join\n",
    "# mount Google Drive\n",
    "from os.path import expanduser\n"
   ]
  },
  {
   "cell_type": "code",
   "execution_count": 2,
   "id": "representative-malta",
   "metadata": {},
   "outputs": [],
   "source": [
    "import pandas as pd\n",
    "import numpy as np"
   ]
  },
  {
   "cell_type": "code",
   "execution_count": 3,
   "id": "induced-survivor",
   "metadata": {},
   "outputs": [
    {
     "data": {
      "text/html": [
       "<div>\n",
       "<style scoped>\n",
       "    .dataframe tbody tr th:only-of-type {\n",
       "        vertical-align: middle;\n",
       "    }\n",
       "\n",
       "    .dataframe tbody tr th {\n",
       "        vertical-align: top;\n",
       "    }\n",
       "\n",
       "    .dataframe thead th {\n",
       "        text-align: right;\n",
       "    }\n",
       "</style>\n",
       "<table border=\"1\" class=\"dataframe\">\n",
       "  <thead>\n",
       "    <tr style=\"text-align: right;\">\n",
       "      <th></th>\n",
       "      <th>stars</th>\n",
       "      <th>comment</th>\n",
       "    </tr>\n",
       "  </thead>\n",
       "  <tbody>\n",
       "    <tr>\n",
       "      <th>0</th>\n",
       "      <td>5</td>\n",
       "      <td>If you are an Android user who wants to move t...</td>\n",
       "    </tr>\n",
       "    <tr>\n",
       "      <th>1</th>\n",
       "      <td>5</td>\n",
       "      <td>After 3 years with iPhone 7 I finally decided ...</td>\n",
       "    </tr>\n",
       "    <tr>\n",
       "      <th>2</th>\n",
       "      <td>5</td>\n",
       "      <td>\\n\\n\\n\\n\\n\\n\\n\\n\\n\\n  \\n  \\n    \\n  Awesome ph...</td>\n",
       "    </tr>\n",
       "    <tr>\n",
       "      <th>3</th>\n",
       "      <td>4</td>\n",
       "      <td>Battery Life-Can't Complain much on this, pret...</td>\n",
       "    </tr>\n",
       "    <tr>\n",
       "      <th>4</th>\n",
       "      <td>5</td>\n",
       "      <td>\\n\\n\\n\\n\\n\\n\\n\\n\\n\\n  \\n  \\n    \\n  The apple ...</td>\n",
       "    </tr>\n",
       "  </tbody>\n",
       "</table>\n",
       "</div>"
      ],
      "text/plain": [
       "   stars                                            comment\n",
       "0      5  If you are an Android user who wants to move t...\n",
       "1      5  After 3 years with iPhone 7 I finally decided ...\n",
       "2      5  \\n\\n\\n\\n\\n\\n\\n\\n\\n\\n  \\n  \\n    \\n  Awesome ph...\n",
       "3      4  Battery Life-Can't Complain much on this, pret...\n",
       "4      5  \\n\\n\\n\\n\\n\\n\\n\\n\\n\\n  \\n  \\n    \\n  The apple ..."
      ]
     },
     "execution_count": 3,
     "metadata": {},
     "output_type": "execute_result"
    }
   ],
   "source": [
    "df = pd.read_csv('iphonevaluemoney.csv')\n",
    "df.head(5)"
   ]
  },
  {
   "cell_type": "code",
   "execution_count": 4,
   "id": "transsexual-airfare",
   "metadata": {},
   "outputs": [
    {
     "name": "stdout",
     "output_type": "stream",
     "text": [
      "<class 'pandas.core.frame.DataFrame'>\n",
      "RangeIndex: 1100 entries, 0 to 1099\n",
      "Data columns (total 2 columns):\n",
      " #   Column   Non-Null Count  Dtype \n",
      "---  ------   --------------  ----- \n",
      " 0   stars    1100 non-null   int64 \n",
      " 1   comment  1100 non-null   object\n",
      "dtypes: int64(1), object(1)\n",
      "memory usage: 17.3+ KB\n"
     ]
    }
   ],
   "source": [
    "df.info()"
   ]
  },
  {
   "cell_type": "code",
   "execution_count": 5,
   "id": "dominant-department",
   "metadata": {},
   "outputs": [
    {
     "data": {
      "text/html": [
       "<div>\n",
       "<style scoped>\n",
       "    .dataframe tbody tr th:only-of-type {\n",
       "        vertical-align: middle;\n",
       "    }\n",
       "\n",
       "    .dataframe tbody tr th {\n",
       "        vertical-align: top;\n",
       "    }\n",
       "\n",
       "    .dataframe thead th {\n",
       "        text-align: right;\n",
       "    }\n",
       "</style>\n",
       "<table border=\"1\" class=\"dataframe\">\n",
       "  <thead>\n",
       "    <tr style=\"text-align: right;\">\n",
       "      <th></th>\n",
       "      <th>stars</th>\n",
       "    </tr>\n",
       "  </thead>\n",
       "  <tbody>\n",
       "    <tr>\n",
       "      <th>count</th>\n",
       "      <td>1100.0</td>\n",
       "    </tr>\n",
       "    <tr>\n",
       "      <th>mean</th>\n",
       "      <td>4.4</td>\n",
       "    </tr>\n",
       "    <tr>\n",
       "      <th>std</th>\n",
       "      <td>0.7</td>\n",
       "    </tr>\n",
       "    <tr>\n",
       "      <th>min</th>\n",
       "      <td>3.0</td>\n",
       "    </tr>\n",
       "    <tr>\n",
       "      <th>25%</th>\n",
       "      <td>4.0</td>\n",
       "    </tr>\n",
       "    <tr>\n",
       "      <th>50%</th>\n",
       "      <td>4.5</td>\n",
       "    </tr>\n",
       "    <tr>\n",
       "      <th>75%</th>\n",
       "      <td>5.0</td>\n",
       "    </tr>\n",
       "    <tr>\n",
       "      <th>max</th>\n",
       "      <td>5.0</td>\n",
       "    </tr>\n",
       "  </tbody>\n",
       "</table>\n",
       "</div>"
      ],
      "text/plain": [
       "        stars\n",
       "count  1100.0\n",
       "mean      4.4\n",
       "std       0.7\n",
       "min       3.0\n",
       "25%       4.0\n",
       "50%       4.5\n",
       "75%       5.0\n",
       "max       5.0"
      ]
     },
     "execution_count": 5,
     "metadata": {},
     "output_type": "execute_result"
    }
   ],
   "source": [
    "df.describe().round(1)"
   ]
  },
  {
   "cell_type": "code",
   "execution_count": 6,
   "id": "studied-vocabulary",
   "metadata": {},
   "outputs": [
    {
     "data": {
      "text/html": [
       "<div>\n",
       "<style scoped>\n",
       "    .dataframe tbody tr th:only-of-type {\n",
       "        vertical-align: middle;\n",
       "    }\n",
       "\n",
       "    .dataframe tbody tr th {\n",
       "        vertical-align: top;\n",
       "    }\n",
       "\n",
       "    .dataframe thead th {\n",
       "        text-align: right;\n",
       "    }\n",
       "</style>\n",
       "<table border=\"1\" class=\"dataframe\">\n",
       "  <thead>\n",
       "    <tr style=\"text-align: right;\">\n",
       "      <th></th>\n",
       "      <th>null</th>\n",
       "      <th>percent</th>\n",
       "    </tr>\n",
       "  </thead>\n",
       "  <tbody>\n",
       "    <tr>\n",
       "      <th>stars</th>\n",
       "      <td>0</td>\n",
       "      <td>0.0</td>\n",
       "    </tr>\n",
       "    <tr>\n",
       "      <th>comment</th>\n",
       "      <td>0</td>\n",
       "      <td>0.0</td>\n",
       "    </tr>\n",
       "  </tbody>\n",
       "</table>\n",
       "</div>"
      ],
      "text/plain": [
       "         null  percent\n",
       "stars       0      0.0\n",
       "comment     0      0.0"
      ]
     },
     "execution_count": 6,
     "metadata": {},
     "output_type": "execute_result"
    }
   ],
   "source": [
    "# Determine how many missing values exist in the collection, in which case you can use .sum() chained onto is.na()\n",
    "null_values=df.isna().sum()\n",
    "null_values=pd.DataFrame(null_values,columns=['null'])\n",
    "sum_tot=len(df)\n",
    "null_values['percent']=null_values['null']/sum_tot*100\n",
    "round(null_values,3).sort_values('percent',ascending=False)"
   ]
  },
  {
   "cell_type": "code",
   "execution_count": 7,
   "id": "related-bishop",
   "metadata": {},
   "outputs": [
    {
     "data": {
      "text/plain": [
       "(1100, 2)"
      ]
     },
     "execution_count": 7,
     "metadata": {},
     "output_type": "execute_result"
    }
   ],
   "source": [
    "df= df.dropna()\n",
    "df.shape"
   ]
  },
  {
   "cell_type": "code",
   "execution_count": 8,
   "id": "minute-plymouth",
   "metadata": {},
   "outputs": [
    {
     "name": "stderr",
     "output_type": "stream",
     "text": [
      "[nltk_data] Downloading package stopwords to\n",
      "[nltk_data]     /home/nalinjindal/nltk_data...\n",
      "[nltk_data]   Package stopwords is already up-to-date!\n",
      "[nltk_data] Downloading package wordnet to\n",
      "[nltk_data]     /home/nalinjindal/nltk_data...\n",
      "[nltk_data]   Package wordnet is already up-to-date!\n",
      "[nltk_data] Downloading package punkt to\n",
      "[nltk_data]     /home/nalinjindal/nltk_data...\n",
      "[nltk_data]   Package punkt is already up-to-date!\n",
      "[nltk_data] Downloading package averaged_perceptron_tagger to\n",
      "[nltk_data]     /home/nalinjindal/nltk_data...\n",
      "[nltk_data]   Package averaged_perceptron_tagger is already up-to-\n",
      "[nltk_data]       date!\n"
     ]
    }
   ],
   "source": [
    "#pip install -q wordcloud\n",
    "import wordcloud\n",
    "from nltk.corpus import stopwords\n",
    "import nltk\n",
    "import string\n",
    "nltk.download('stopwords')\n",
    "nltk.download('wordnet')\n",
    "nltk.download('punkt')\n",
    "nltk.download('averaged_perceptron_tagger')\n",
    "stop = stopwords.words('english')"
   ]
  },
  {
   "cell_type": "code",
   "execution_count": 9,
   "id": "agreed-value",
   "metadata": {},
   "outputs": [
    {
     "data": {
      "text/html": [
       "<div>\n",
       "<style scoped>\n",
       "    .dataframe tbody tr th:only-of-type {\n",
       "        vertical-align: middle;\n",
       "    }\n",
       "\n",
       "    .dataframe tbody tr th {\n",
       "        vertical-align: top;\n",
       "    }\n",
       "\n",
       "    .dataframe thead th {\n",
       "        text-align: right;\n",
       "    }\n",
       "</style>\n",
       "<table border=\"1\" class=\"dataframe\">\n",
       "  <thead>\n",
       "    <tr style=\"text-align: right;\">\n",
       "      <th></th>\n",
       "      <th>comment</th>\n",
       "      <th>stopwords</th>\n",
       "    </tr>\n",
       "  </thead>\n",
       "  <tbody>\n",
       "    <tr>\n",
       "      <th>0</th>\n",
       "      <td>If you are an Android user who wants to move t...</td>\n",
       "      <td>50</td>\n",
       "    </tr>\n",
       "    <tr>\n",
       "      <th>1</th>\n",
       "      <td>After 3 years with iPhone 7 I finally decided ...</td>\n",
       "      <td>30</td>\n",
       "    </tr>\n",
       "    <tr>\n",
       "      <th>2</th>\n",
       "      <td>\\n\\n\\n\\n\\n\\n\\n\\n\\n\\n  \\n  \\n    \\n  Awesome ph...</td>\n",
       "      <td>17</td>\n",
       "    </tr>\n",
       "    <tr>\n",
       "      <th>3</th>\n",
       "      <td>Battery Life-Can't Complain much on this, pret...</td>\n",
       "      <td>71</td>\n",
       "    </tr>\n",
       "    <tr>\n",
       "      <th>4</th>\n",
       "      <td>\\n\\n\\n\\n\\n\\n\\n\\n\\n\\n  \\n  \\n    \\n  The apple ...</td>\n",
       "      <td>56</td>\n",
       "    </tr>\n",
       "  </tbody>\n",
       "</table>\n",
       "</div>"
      ],
      "text/plain": [
       "                                             comment  stopwords\n",
       "0  If you are an Android user who wants to move t...         50\n",
       "1  After 3 years with iPhone 7 I finally decided ...         30\n",
       "2  \\n\\n\\n\\n\\n\\n\\n\\n\\n\\n  \\n  \\n    \\n  Awesome ph...         17\n",
       "3  Battery Life-Can't Complain much on this, pret...         71\n",
       "4  \\n\\n\\n\\n\\n\\n\\n\\n\\n\\n  \\n  \\n    \\n  The apple ...         56"
      ]
     },
     "execution_count": 9,
     "metadata": {},
     "output_type": "execute_result"
    }
   ],
   "source": [
    "df['stopwords'] = df['comment'].apply(lambda x: len([x for x in x.split() if x in stop]))\n",
    "df[['comment','stopwords']].head()"
   ]
  },
  {
   "cell_type": "code",
   "execution_count": 10,
   "id": "center-digit",
   "metadata": {},
   "outputs": [],
   "source": [
    "def count_punct(text):\n",
    "    count = sum([1 for char in text if char in string.punctuation])\n",
    "    return count\n",
    "\n",
    "df['punctuation'] = df['comment'].apply(lambda x: count_punct(x))"
   ]
  },
  {
   "cell_type": "code",
   "execution_count": 11,
   "id": "written-evaluation",
   "metadata": {},
   "outputs": [
    {
     "data": {
      "text/html": [
       "<div>\n",
       "<style scoped>\n",
       "    .dataframe tbody tr th:only-of-type {\n",
       "        vertical-align: middle;\n",
       "    }\n",
       "\n",
       "    .dataframe tbody tr th {\n",
       "        vertical-align: top;\n",
       "    }\n",
       "\n",
       "    .dataframe thead th {\n",
       "        text-align: right;\n",
       "    }\n",
       "</style>\n",
       "<table border=\"1\" class=\"dataframe\">\n",
       "  <thead>\n",
       "    <tr style=\"text-align: right;\">\n",
       "      <th></th>\n",
       "      <th>comment</th>\n",
       "      <th>punctuation</th>\n",
       "    </tr>\n",
       "  </thead>\n",
       "  <tbody>\n",
       "    <tr>\n",
       "      <th>0</th>\n",
       "      <td>If you are an Android user who wants to move t...</td>\n",
       "      <td>14</td>\n",
       "    </tr>\n",
       "    <tr>\n",
       "      <th>1</th>\n",
       "      <td>After 3 years with iPhone 7 I finally decided ...</td>\n",
       "      <td>11</td>\n",
       "    </tr>\n",
       "    <tr>\n",
       "      <th>2</th>\n",
       "      <td>\\n\\n\\n\\n\\n\\n\\n\\n\\n\\n  \\n  \\n    \\n  Awesome ph...</td>\n",
       "      <td>9</td>\n",
       "    </tr>\n",
       "    <tr>\n",
       "      <th>3</th>\n",
       "      <td>Battery Life-Can't Complain much on this, pret...</td>\n",
       "      <td>27</td>\n",
       "    </tr>\n",
       "    <tr>\n",
       "      <th>4</th>\n",
       "      <td>\\n\\n\\n\\n\\n\\n\\n\\n\\n\\n  \\n  \\n    \\n  The apple ...</td>\n",
       "      <td>7</td>\n",
       "    </tr>\n",
       "  </tbody>\n",
       "</table>\n",
       "</div>"
      ],
      "text/plain": [
       "                                             comment  punctuation\n",
       "0  If you are an Android user who wants to move t...           14\n",
       "1  After 3 years with iPhone 7 I finally decided ...           11\n",
       "2  \\n\\n\\n\\n\\n\\n\\n\\n\\n\\n  \\n  \\n    \\n  Awesome ph...            9\n",
       "3  Battery Life-Can't Complain much on this, pret...           27\n",
       "4  \\n\\n\\n\\n\\n\\n\\n\\n\\n\\n  \\n  \\n    \\n  The apple ...            7"
      ]
     },
     "execution_count": 11,
     "metadata": {},
     "output_type": "execute_result"
    }
   ],
   "source": [
    "df[['comment','punctuation']].head()"
   ]
  },
  {
   "cell_type": "code",
   "execution_count": 12,
   "id": "antique-cincinnati",
   "metadata": {},
   "outputs": [
    {
     "data": {
      "text/html": [
       "<div>\n",
       "<style scoped>\n",
       "    .dataframe tbody tr th:only-of-type {\n",
       "        vertical-align: middle;\n",
       "    }\n",
       "\n",
       "    .dataframe tbody tr th {\n",
       "        vertical-align: top;\n",
       "    }\n",
       "\n",
       "    .dataframe thead th {\n",
       "        text-align: right;\n",
       "    }\n",
       "</style>\n",
       "<table border=\"1\" class=\"dataframe\">\n",
       "  <thead>\n",
       "    <tr style=\"text-align: right;\">\n",
       "      <th></th>\n",
       "      <th>comment</th>\n",
       "      <th>hastags</th>\n",
       "    </tr>\n",
       "  </thead>\n",
       "  <tbody>\n",
       "    <tr>\n",
       "      <th>0</th>\n",
       "      <td>If you are an Android user who wants to move t...</td>\n",
       "      <td>0</td>\n",
       "    </tr>\n",
       "    <tr>\n",
       "      <th>1</th>\n",
       "      <td>After 3 years with iPhone 7 I finally decided ...</td>\n",
       "      <td>0</td>\n",
       "    </tr>\n",
       "    <tr>\n",
       "      <th>2</th>\n",
       "      <td>\\n\\n\\n\\n\\n\\n\\n\\n\\n\\n  \\n  \\n    \\n  Awesome ph...</td>\n",
       "      <td>0</td>\n",
       "    </tr>\n",
       "    <tr>\n",
       "      <th>3</th>\n",
       "      <td>Battery Life-Can't Complain much on this, pret...</td>\n",
       "      <td>0</td>\n",
       "    </tr>\n",
       "    <tr>\n",
       "      <th>4</th>\n",
       "      <td>\\n\\n\\n\\n\\n\\n\\n\\n\\n\\n  \\n  \\n    \\n  The apple ...</td>\n",
       "      <td>0</td>\n",
       "    </tr>\n",
       "  </tbody>\n",
       "</table>\n",
       "</div>"
      ],
      "text/plain": [
       "                                             comment  hastags\n",
       "0  If you are an Android user who wants to move t...        0\n",
       "1  After 3 years with iPhone 7 I finally decided ...        0\n",
       "2  \\n\\n\\n\\n\\n\\n\\n\\n\\n\\n  \\n  \\n    \\n  Awesome ph...        0\n",
       "3  Battery Life-Can't Complain much on this, pret...        0\n",
       "4  \\n\\n\\n\\n\\n\\n\\n\\n\\n\\n  \\n  \\n    \\n  The apple ...        0"
      ]
     },
     "execution_count": 12,
     "metadata": {},
     "output_type": "execute_result"
    }
   ],
   "source": [
    "df['hastags'] = df['comment'].apply(lambda x: len([x for x in x.split() if x.startswith('#')]))\n",
    "df[['comment','hastags']].head()"
   ]
  },
  {
   "cell_type": "code",
   "execution_count": 13,
   "id": "heavy-impact",
   "metadata": {},
   "outputs": [
    {
     "data": {
      "text/plain": [
       "0"
      ]
     },
     "execution_count": 13,
     "metadata": {},
     "output_type": "execute_result"
    }
   ],
   "source": [
    "df.hastags.loc[df.hastags != 0].count()"
   ]
  },
  {
   "cell_type": "code",
   "execution_count": 14,
   "id": "resistant-laser",
   "metadata": {},
   "outputs": [
    {
     "data": {
      "text/html": [
       "<div>\n",
       "<style scoped>\n",
       "    .dataframe tbody tr th:only-of-type {\n",
       "        vertical-align: middle;\n",
       "    }\n",
       "\n",
       "    .dataframe tbody tr th {\n",
       "        vertical-align: top;\n",
       "    }\n",
       "\n",
       "    .dataframe thead th {\n",
       "        text-align: right;\n",
       "    }\n",
       "</style>\n",
       "<table border=\"1\" class=\"dataframe\">\n",
       "  <thead>\n",
       "    <tr style=\"text-align: right;\">\n",
       "      <th></th>\n",
       "      <th>comment</th>\n",
       "      <th>numerics</th>\n",
       "    </tr>\n",
       "  </thead>\n",
       "  <tbody>\n",
       "    <tr>\n",
       "      <th>0</th>\n",
       "      <td>If you are an Android user who wants to move t...</td>\n",
       "      <td>1</td>\n",
       "    </tr>\n",
       "    <tr>\n",
       "      <th>1</th>\n",
       "      <td>After 3 years with iPhone 7 I finally decided ...</td>\n",
       "      <td>3</td>\n",
       "    </tr>\n",
       "    <tr>\n",
       "      <th>2</th>\n",
       "      <td>\\n\\n\\n\\n\\n\\n\\n\\n\\n\\n  \\n  \\n    \\n  Awesome ph...</td>\n",
       "      <td>0</td>\n",
       "    </tr>\n",
       "    <tr>\n",
       "      <th>3</th>\n",
       "      <td>Battery Life-Can't Complain much on this, pret...</td>\n",
       "      <td>2</td>\n",
       "    </tr>\n",
       "    <tr>\n",
       "      <th>4</th>\n",
       "      <td>\\n\\n\\n\\n\\n\\n\\n\\n\\n\\n  \\n  \\n    \\n  The apple ...</td>\n",
       "      <td>0</td>\n",
       "    </tr>\n",
       "  </tbody>\n",
       "</table>\n",
       "</div>"
      ],
      "text/plain": [
       "                                             comment  numerics\n",
       "0  If you are an Android user who wants to move t...         1\n",
       "1  After 3 years with iPhone 7 I finally decided ...         3\n",
       "2  \\n\\n\\n\\n\\n\\n\\n\\n\\n\\n  \\n  \\n    \\n  Awesome ph...         0\n",
       "3  Battery Life-Can't Complain much on this, pret...         2\n",
       "4  \\n\\n\\n\\n\\n\\n\\n\\n\\n\\n  \\n  \\n    \\n  The apple ...         0"
      ]
     },
     "execution_count": 14,
     "metadata": {},
     "output_type": "execute_result"
    }
   ],
   "source": [
    "df['numerics'] = df['comment'].apply(lambda x: len([x for x in x.split() if x.isdigit()]))\n",
    "df[['comment','numerics']].head()"
   ]
  },
  {
   "cell_type": "code",
   "execution_count": 15,
   "id": "fossil-slave",
   "metadata": {},
   "outputs": [
    {
     "data": {
      "text/html": [
       "<div>\n",
       "<style scoped>\n",
       "    .dataframe tbody tr th:only-of-type {\n",
       "        vertical-align: middle;\n",
       "    }\n",
       "\n",
       "    .dataframe tbody tr th {\n",
       "        vertical-align: top;\n",
       "    }\n",
       "\n",
       "    .dataframe thead th {\n",
       "        text-align: right;\n",
       "    }\n",
       "</style>\n",
       "<table border=\"1\" class=\"dataframe\">\n",
       "  <thead>\n",
       "    <tr style=\"text-align: right;\">\n",
       "      <th></th>\n",
       "      <th>comment</th>\n",
       "      <th>upper</th>\n",
       "    </tr>\n",
       "  </thead>\n",
       "  <tbody>\n",
       "    <tr>\n",
       "      <th>0</th>\n",
       "      <td>If you are an Android user who wants to move t...</td>\n",
       "      <td>4</td>\n",
       "    </tr>\n",
       "    <tr>\n",
       "      <th>1</th>\n",
       "      <td>After 3 years with iPhone 7 I finally decided ...</td>\n",
       "      <td>2</td>\n",
       "    </tr>\n",
       "    <tr>\n",
       "      <th>2</th>\n",
       "      <td>\\n\\n\\n\\n\\n\\n\\n\\n\\n\\n  \\n  \\n    \\n  Awesome ph...</td>\n",
       "      <td>0</td>\n",
       "    </tr>\n",
       "    <tr>\n",
       "      <th>3</th>\n",
       "      <td>Battery Life-Can't Complain much on this, pret...</td>\n",
       "      <td>4</td>\n",
       "    </tr>\n",
       "    <tr>\n",
       "      <th>4</th>\n",
       "      <td>\\n\\n\\n\\n\\n\\n\\n\\n\\n\\n  \\n  \\n    \\n  The apple ...</td>\n",
       "      <td>4</td>\n",
       "    </tr>\n",
       "  </tbody>\n",
       "</table>\n",
       "</div>"
      ],
      "text/plain": [
       "                                             comment  upper\n",
       "0  If you are an Android user who wants to move t...      4\n",
       "1  After 3 years with iPhone 7 I finally decided ...      2\n",
       "2  \\n\\n\\n\\n\\n\\n\\n\\n\\n\\n  \\n  \\n    \\n  Awesome ph...      0\n",
       "3  Battery Life-Can't Complain much on this, pret...      4\n",
       "4  \\n\\n\\n\\n\\n\\n\\n\\n\\n\\n  \\n  \\n    \\n  The apple ...      4"
      ]
     },
     "execution_count": 15,
     "metadata": {},
     "output_type": "execute_result"
    }
   ],
   "source": [
    "df['upper'] = df['comment'].apply(lambda x: len([x for x in x.split() if x.isupper()]))\n",
    "df[['comment','upper']].head()"
   ]
  },
  {
   "cell_type": "code",
   "execution_count": 16,
   "id": "brave-nickel",
   "metadata": {},
   "outputs": [
    {
     "data": {
      "text/plain": [
       "0    if you are an android user who wants to move t...\n",
       "1    after 3 years with iphone 7 i finally decided ...\n",
       "2    awesome phone!! specially if you’re upgrading ...\n",
       "3    battery life-can't complain much on this, pret...\n",
       "4    the apple iphone is always best in class when ...\n",
       "Name: comment, dtype: object"
      ]
     },
     "execution_count": 16,
     "metadata": {},
     "output_type": "execute_result"
    }
   ],
   "source": [
    "df['comment'] = df['comment'].apply(lambda x: \" \".join(x.lower() for x in x.split()))\n",
    "df['comment'].head()"
   ]
  },
  {
   "cell_type": "code",
   "execution_count": 17,
   "id": "hybrid-florist",
   "metadata": {},
   "outputs": [
    {
     "name": "stderr",
     "output_type": "stream",
     "text": [
      "<ipython-input-17-66a30b7fedcd>:1: FutureWarning: The default value of regex will change from True to False in a future version.\n",
      "  df['comment'] = df['comment'].str.replace('[^\\w\\s]','')\n"
     ]
    },
    {
     "data": {
      "text/plain": [
       "0    if you are an android user who wants to move t...\n",
       "1    after 3 years with iphone 7 i finally decided ...\n",
       "2    awesome phone specially if youre upgrading fro...\n",
       "3    battery lifecant complain much on this pretty ...\n",
       "4    the apple iphone is always best in class when ...\n",
       "Name: comment, dtype: object"
      ]
     },
     "execution_count": 17,
     "metadata": {},
     "output_type": "execute_result"
    }
   ],
   "source": [
    "df['comment'] = df['comment'].str.replace('[^\\w\\s]','')\n",
    "df['comment'].head()"
   ]
  },
  {
   "cell_type": "code",
   "execution_count": 18,
   "id": "attached-mattress",
   "metadata": {},
   "outputs": [
    {
     "data": {
      "text/plain": [
       "407    read lot negative reviews regarding buying iph...\n",
       "203    battery lifecant complain much pretty decent 5...\n",
       "311    3 years iphone 7 finally decided take upgrade ...\n",
       "380    android user wants move ios best iphone get wi...\n",
       "880    android user wants move ios best iphone get wi...\n",
       "360    android user wants move ios best iphone get wi...\n",
       "209    first sceptical purchase shifting android ios ...\n",
       "75     great iphone looking long term usage durabilit...\n",
       "879    first sceptical purchase shifting android ios ...\n",
       "425    great iphone looking long term usage durabilit...\n",
       "Name: comment, dtype: object"
      ]
     },
     "execution_count": 18,
     "metadata": {},
     "output_type": "execute_result"
    }
   ],
   "source": [
    "from nltk.corpus import stopwords\n",
    "stop = stopwords.words('english')\n",
    "df['comment'] = df['comment'].apply(lambda x: \" \".join(x for x in x.split() if x not in stop))\n",
    "df['comment'].sample(10)"
   ]
  },
  {
   "cell_type": "code",
   "execution_count": 19,
   "id": "attempted-teens",
   "metadata": {},
   "outputs": [],
   "source": [
    "def remove_url(text):\n",
    "    url = re.compile(r'https?://\\S+|www\\.\\S+')\n",
    "    return url.sub(r'', text)"
   ]
  },
  {
   "cell_type": "code",
   "execution_count": 20,
   "id": "superb-advantage",
   "metadata": {},
   "outputs": [],
   "source": [
    "# remove all urls from df\n",
    "import re\n",
    "import string\n",
    "\n",
    "df['comment'] = df['comment'].apply(lambda x: remove_url(x))"
   ]
  },
  {
   "cell_type": "code",
   "execution_count": 21,
   "id": "everyday-reality",
   "metadata": {},
   "outputs": [],
   "source": [
    "def remove_html(text):\n",
    "    html=re.compile(r'<.*?>')\n",
    "    return html.sub(r'',text)"
   ]
  },
  {
   "cell_type": "code",
   "execution_count": 22,
   "id": "better-cambridge",
   "metadata": {},
   "outputs": [],
   "source": [
    "# remove all html tags from df\n",
    "df['comment'] = df['comment'].apply(lambda x: remove_html(x))"
   ]
  },
  {
   "cell_type": "code",
   "execution_count": 23,
   "id": "obvious-geography",
   "metadata": {},
   "outputs": [],
   "source": [
    "# Reference : https://gist.github.com/slowkow/7a7f61f495e3dbb7e3d767f97bd7304b\n",
    "def remove_emoji(text):\n",
    "    emoji_pattern = re.compile(\"[\"\n",
    "                           u\"\\U0001F600-\\U0001F64F\"  # emoticons\n",
    "                           u\"\\U0001F300-\\U0001F5FF\"  # symbols & pictographs\n",
    "                           u\"\\U0001F680-\\U0001F6FF\"  # transport & map symbols\n",
    "                           u\"\\U0001F1E0-\\U0001F1FF\"  # flags \n",
    "                           u\"\\U00002702-\\U000027B0\"\n",
    "                           u\"\\U000024C2-\\U0001F251\"\n",
    "                           \"]+\", flags=re.UNICODE)\n",
    "    return emoji_pattern.sub(r'', text)"
   ]
  },
  {
   "cell_type": "code",
   "execution_count": 24,
   "id": "boxed-yukon",
   "metadata": {},
   "outputs": [
    {
     "data": {
      "text/plain": [
       "'Omg another Earthquake '"
      ]
     },
     "execution_count": 24,
     "metadata": {},
     "output_type": "execute_result"
    }
   ],
   "source": [
    "#Example\n",
    "remove_emoji(\"Omg another Earthquake 😔😔\")"
   ]
  },
  {
   "cell_type": "code",
   "execution_count": 25,
   "id": "cathedral-jonathan",
   "metadata": {},
   "outputs": [],
   "source": [
    "# remove all emojis from df\n",
    "df['comment'] = df['comment'].apply(lambda x: remove_emoji(x))"
   ]
  },
  {
   "cell_type": "code",
   "execution_count": 26,
   "id": "intermediate-music",
   "metadata": {},
   "outputs": [
    {
     "name": "stdout",
     "output_type": "stream",
     "text": [
      "Defaulting to user installation because normal site-packages is not writeable\n",
      "Requirement already satisfied: emot in ./.local/lib/python3.8/site-packages (2.1)\n"
     ]
    }
   ],
   "source": [
    "!pip install emot"
   ]
  },
  {
   "cell_type": "code",
   "execution_count": 27,
   "id": "parliamentary-divide",
   "metadata": {},
   "outputs": [],
   "source": [
    "from emot.emo_unicode import UNICODE_EMO, EMOTICONS\n",
    "\n",
    "# Function for removing emoticons\n",
    "def remove_emoticons(text):\n",
    "    emoticon_pattern = re.compile(u'(' + u'|'.join(k for k in EMOTICONS) + u')')\n",
    "    return emoticon_pattern.sub(r'', text)"
   ]
  },
  {
   "cell_type": "code",
   "execution_count": 28,
   "id": "instrumental-migration",
   "metadata": {},
   "outputs": [
    {
     "data": {
      "text/plain": [
       "'Hello '"
      ]
     },
     "execution_count": 28,
     "metadata": {},
     "output_type": "execute_result"
    }
   ],
   "source": [
    "#Example\n",
    "remove_emoticons(\"Hello :-)\")"
   ]
  },
  {
   "cell_type": "code",
   "execution_count": 29,
   "id": "automotive-chrome",
   "metadata": {},
   "outputs": [],
   "source": [
    "df['comment'] = df['comment'].apply(lambda x: remove_emoticons(x))"
   ]
  },
  {
   "cell_type": "code",
   "execution_count": 30,
   "id": "silent-boost",
   "metadata": {},
   "outputs": [
    {
     "data": {
      "text/plain": [
       "0    andros user wants move is best phone get witho...\n",
       "1    3 years phone 7 finally decided take upgrade p...\n",
       "2    awesome phone specially your upbraiding older ...\n",
       "3    battery lifecant complain much pretty decent 5...\n",
       "4    apple phone always best class purchased dismou...\n",
       "Name: comment, dtype: object"
      ]
     },
     "execution_count": 30,
     "metadata": {},
     "output_type": "execute_result"
    }
   ],
   "source": [
    "from textblob import TextBlob\n",
    "df['comment'][:5].apply(lambda x: str(TextBlob(x).correct()))"
   ]
  },
  {
   "cell_type": "code",
   "execution_count": 31,
   "id": "incorrect-health",
   "metadata": {},
   "outputs": [],
   "source": [
    "# We could do some of the cleaning steps as a sum of opreation like this:\n",
    "\n",
    "# Apply a first round of text cleaning techniques\n",
    "import re\n",
    "import string\n",
    "\n",
    "def clean_text_round1(text):\n",
    "    '''Make text lowercase, remove text in square brackets, remove punctuation and remove words containing numbers.'''\n",
    "    text = text.lower()\n",
    "    text = re.sub('\\[.*?\\]', '', text)\n",
    "    text = re.sub('[%s]' % re.escape(string.punctuation), '', text)\n",
    "    text = re.sub('\\w*\\d\\w*', '', text)\n",
    "    return text\n",
    "\n",
    "round1 = lambda x: clean_text_round1(x)"
   ]
  },
  {
   "cell_type": "code",
   "execution_count": 32,
   "id": "living-advantage",
   "metadata": {},
   "outputs": [
    {
     "data": {
      "text/plain": [
       "0       android user wants move ios best iphone get wi...\n",
       "1        years iphone  finally decided take upgrade ip...\n",
       "2       awesome phone specially youre upgrading older ...\n",
       "3       battery lifecant complain much pretty decent  ...\n",
       "4       apple iphone always best class purchased disco...\n",
       "                              ...                        \n",
       "1095    great iphone looking long term usage durabilit...\n",
       "1096    honest feel like paid price brand iphone defin...\n",
       "1097    read lot negative reviews regarding buying iph...\n",
       "1098    u read review know many bad comments also intr...\n",
       "1099    first sceptical purchase shifting android ios ...\n",
       "Name: comment, Length: 1100, dtype: object"
      ]
     },
     "execution_count": 32,
     "metadata": {},
     "output_type": "execute_result"
    }
   ],
   "source": [
    "df['comment'] = df.comment.apply(round1)\n",
    "df.comment"
   ]
  },
  {
   "cell_type": "code",
   "execution_count": 33,
   "id": "aggregate-acoustic",
   "metadata": {},
   "outputs": [],
   "source": [
    "# Apply a second round of cleaning\n",
    "def clean_text_round2(text):\n",
    "    '''Get rid of some additional punctuation and non-sensical text that was missed the first time around.'''\n",
    "    text = re.sub('[‘’“”…]', '', text)\n",
    "    text = re.sub('\\n', '', text)\n",
    "    return text\n",
    "\n",
    "round2 = lambda x: clean_text_round2(x)"
   ]
  },
  {
   "cell_type": "code",
   "execution_count": 34,
   "id": "posted-quantity",
   "metadata": {},
   "outputs": [
    {
     "data": {
      "text/plain": [
       "0       android user wants move ios best iphone get wi...\n",
       "1        years iphone  finally decided take upgrade ip...\n",
       "2       awesome phone specially youre upgrading older ...\n",
       "3       battery lifecant complain much pretty decent  ...\n",
       "4       apple iphone always best class purchased disco...\n",
       "                              ...                        \n",
       "1095    great iphone looking long term usage durabilit...\n",
       "1096    honest feel like paid price brand iphone defin...\n",
       "1097    read lot negative reviews regarding buying iph...\n",
       "1098    u read review know many bad comments also intr...\n",
       "1099    first sceptical purchase shifting android ios ...\n",
       "Name: comment, Length: 1100, dtype: object"
      ]
     },
     "execution_count": 34,
     "metadata": {},
     "output_type": "execute_result"
    }
   ],
   "source": [
    "df['comment'] = df.comment.apply(round2)\n",
    "df.comment"
   ]
  },
  {
   "cell_type": "code",
   "execution_count": 35,
   "id": "irish-surgeon",
   "metadata": {},
   "outputs": [
    {
     "data": {
      "text/plain": [
       "iphone     1980\n",
       "android    1650\n",
       "phone      1430\n",
       "apple      1210\n",
       "value      1210\n",
       "money      1210\n",
       "also        990\n",
       "ios         990\n",
       "good        880\n",
       "use         880\n",
       "first       770\n",
       "battery     770\n",
       "buy         770\n",
       "get         770\n",
       "great       770\n",
       "using       770\n",
       "best        770\n",
       "time        660\n",
       "pro         660\n",
       "might       660\n",
       "dtype: int64"
      ]
     },
     "execution_count": 35,
     "metadata": {},
     "output_type": "execute_result"
    }
   ],
   "source": [
    "freq = pd.Series(' '.join(df['comment']).split()).value_counts()[:20]\n",
    "freq"
   ]
  },
  {
   "cell_type": "code",
   "execution_count": 36,
   "id": "critical-wallet",
   "metadata": {},
   "outputs": [
    {
     "data": {
      "text/html": [
       "<div>\n",
       "<style scoped>\n",
       "    .dataframe tbody tr th:only-of-type {\n",
       "        vertical-align: middle;\n",
       "    }\n",
       "\n",
       "    .dataframe tbody tr th {\n",
       "        vertical-align: top;\n",
       "    }\n",
       "\n",
       "    .dataframe thead th {\n",
       "        text-align: right;\n",
       "    }\n",
       "</style>\n",
       "<table border=\"1\" class=\"dataframe\">\n",
       "  <thead>\n",
       "    <tr style=\"text-align: right;\">\n",
       "      <th></th>\n",
       "      <th>comment</th>\n",
       "      <th>word_count</th>\n",
       "    </tr>\n",
       "  </thead>\n",
       "  <tbody>\n",
       "    <tr>\n",
       "      <th>0</th>\n",
       "      <td>android user wants move ios best iphone get wi...</td>\n",
       "      <td>53</td>\n",
       "    </tr>\n",
       "    <tr>\n",
       "      <th>1</th>\n",
       "      <td>years iphone  finally decided take upgrade ip...</td>\n",
       "      <td>47</td>\n",
       "    </tr>\n",
       "    <tr>\n",
       "      <th>2</th>\n",
       "      <td>awesome phone specially youre upgrading older ...</td>\n",
       "      <td>28</td>\n",
       "    </tr>\n",
       "    <tr>\n",
       "      <th>3</th>\n",
       "      <td>battery lifecant complain much pretty decent  ...</td>\n",
       "      <td>81</td>\n",
       "    </tr>\n",
       "    <tr>\n",
       "      <th>4</th>\n",
       "      <td>apple iphone always best class purchased disco...</td>\n",
       "      <td>75</td>\n",
       "    </tr>\n",
       "  </tbody>\n",
       "</table>\n",
       "</div>"
      ],
      "text/plain": [
       "                                             comment  word_count\n",
       "0  android user wants move ios best iphone get wi...          53\n",
       "1   years iphone  finally decided take upgrade ip...          47\n",
       "2  awesome phone specially youre upgrading older ...          28\n",
       "3  battery lifecant complain much pretty decent  ...          81\n",
       "4  apple iphone always best class purchased disco...          75"
      ]
     },
     "execution_count": 36,
     "metadata": {},
     "output_type": "execute_result"
    }
   ],
   "source": [
    "df['word_count'] = df['comment'].apply(lambda x: len(str(x).split(\" \")))\n",
    "df[['comment','word_count']].head()"
   ]
  },
  {
   "cell_type": "code",
   "execution_count": 37,
   "id": "lesbian-graduate",
   "metadata": {},
   "outputs": [
    {
     "data": {
      "text/html": [
       "<div>\n",
       "<style scoped>\n",
       "    .dataframe tbody tr th:only-of-type {\n",
       "        vertical-align: middle;\n",
       "    }\n",
       "\n",
       "    .dataframe tbody tr th {\n",
       "        vertical-align: top;\n",
       "    }\n",
       "\n",
       "    .dataframe thead th {\n",
       "        text-align: right;\n",
       "    }\n",
       "</style>\n",
       "<table border=\"1\" class=\"dataframe\">\n",
       "  <thead>\n",
       "    <tr style=\"text-align: right;\">\n",
       "      <th></th>\n",
       "      <th>null</th>\n",
       "      <th>percent</th>\n",
       "    </tr>\n",
       "  </thead>\n",
       "  <tbody>\n",
       "    <tr>\n",
       "      <th>stars</th>\n",
       "      <td>0</td>\n",
       "      <td>0.0</td>\n",
       "    </tr>\n",
       "    <tr>\n",
       "      <th>comment</th>\n",
       "      <td>0</td>\n",
       "      <td>0.0</td>\n",
       "    </tr>\n",
       "    <tr>\n",
       "      <th>stopwords</th>\n",
       "      <td>0</td>\n",
       "      <td>0.0</td>\n",
       "    </tr>\n",
       "    <tr>\n",
       "      <th>punctuation</th>\n",
       "      <td>0</td>\n",
       "      <td>0.0</td>\n",
       "    </tr>\n",
       "    <tr>\n",
       "      <th>hastags</th>\n",
       "      <td>0</td>\n",
       "      <td>0.0</td>\n",
       "    </tr>\n",
       "    <tr>\n",
       "      <th>numerics</th>\n",
       "      <td>0</td>\n",
       "      <td>0.0</td>\n",
       "    </tr>\n",
       "    <tr>\n",
       "      <th>upper</th>\n",
       "      <td>0</td>\n",
       "      <td>0.0</td>\n",
       "    </tr>\n",
       "    <tr>\n",
       "      <th>word_count</th>\n",
       "      <td>0</td>\n",
       "      <td>0.0</td>\n",
       "    </tr>\n",
       "  </tbody>\n",
       "</table>\n",
       "</div>"
      ],
      "text/plain": [
       "             null  percent\n",
       "stars           0      0.0\n",
       "comment         0      0.0\n",
       "stopwords       0      0.0\n",
       "punctuation     0      0.0\n",
       "hastags         0      0.0\n",
       "numerics        0      0.0\n",
       "upper           0      0.0\n",
       "word_count      0      0.0"
      ]
     },
     "execution_count": 37,
     "metadata": {},
     "output_type": "execute_result"
    }
   ],
   "source": [
    "null_values=df.isna().sum()\n",
    "null_values=pd.DataFrame(null_values,columns=['null'])\n",
    "sum_tot=len(df)\n",
    "null_values['percent']=null_values['null']/sum_tot*100\n",
    "round(null_values,3).sort_values('percent',ascending=False)"
   ]
  },
  {
   "cell_type": "code",
   "execution_count": 38,
   "id": "pleasant-delay",
   "metadata": {},
   "outputs": [
    {
     "data": {
      "text/html": [
       "<div>\n",
       "<style scoped>\n",
       "    .dataframe tbody tr th:only-of-type {\n",
       "        vertical-align: middle;\n",
       "    }\n",
       "\n",
       "    .dataframe tbody tr th {\n",
       "        vertical-align: top;\n",
       "    }\n",
       "\n",
       "    .dataframe thead th {\n",
       "        text-align: right;\n",
       "    }\n",
       "</style>\n",
       "<table border=\"1\" class=\"dataframe\">\n",
       "  <thead>\n",
       "    <tr style=\"text-align: right;\">\n",
       "      <th></th>\n",
       "      <th>comment</th>\n",
       "      <th>char_count</th>\n",
       "    </tr>\n",
       "  </thead>\n",
       "  <tbody>\n",
       "    <tr>\n",
       "      <th>0</th>\n",
       "      <td>android user wants move ios best iphone get wi...</td>\n",
       "      <td>339</td>\n",
       "    </tr>\n",
       "    <tr>\n",
       "      <th>1</th>\n",
       "      <td>years iphone  finally decided take upgrade ip...</td>\n",
       "      <td>276</td>\n",
       "    </tr>\n",
       "    <tr>\n",
       "      <th>2</th>\n",
       "      <td>awesome phone specially youre upgrading older ...</td>\n",
       "      <td>200</td>\n",
       "    </tr>\n",
       "    <tr>\n",
       "      <th>3</th>\n",
       "      <td>battery lifecant complain much pretty decent  ...</td>\n",
       "      <td>541</td>\n",
       "    </tr>\n",
       "    <tr>\n",
       "      <th>4</th>\n",
       "      <td>apple iphone always best class purchased disco...</td>\n",
       "      <td>532</td>\n",
       "    </tr>\n",
       "  </tbody>\n",
       "</table>\n",
       "</div>"
      ],
      "text/plain": [
       "                                             comment  char_count\n",
       "0  android user wants move ios best iphone get wi...         339\n",
       "1   years iphone  finally decided take upgrade ip...         276\n",
       "2  awesome phone specially youre upgrading older ...         200\n",
       "3  battery lifecant complain much pretty decent  ...         541\n",
       "4  apple iphone always best class purchased disco...         532"
      ]
     },
     "execution_count": 38,
     "metadata": {},
     "output_type": "execute_result"
    }
   ],
   "source": [
    "df['char_count'] = df['comment'].str.len() ## this also includes spaces\n",
    "df[['comment','char_count']].head()"
   ]
  },
  {
   "cell_type": "code",
   "execution_count": 39,
   "id": "medium-andorra",
   "metadata": {},
   "outputs": [],
   "source": [
    "def avg_word(sentence):\n",
    "  words = sentence.split()\n",
    "  return (sum(len(word) for word in words)/(len(words)+0.000001))"
   ]
  },
  {
   "cell_type": "code",
   "execution_count": 40,
   "id": "awful-bulgarian",
   "metadata": {},
   "outputs": [
    {
     "data": {
      "text/html": [
       "<div>\n",
       "<style scoped>\n",
       "    .dataframe tbody tr th:only-of-type {\n",
       "        vertical-align: middle;\n",
       "    }\n",
       "\n",
       "    .dataframe tbody tr th {\n",
       "        vertical-align: top;\n",
       "    }\n",
       "\n",
       "    .dataframe thead th {\n",
       "        text-align: right;\n",
       "    }\n",
       "</style>\n",
       "<table border=\"1\" class=\"dataframe\">\n",
       "  <thead>\n",
       "    <tr style=\"text-align: right;\">\n",
       "      <th></th>\n",
       "      <th>comment</th>\n",
       "      <th>avg_word</th>\n",
       "    </tr>\n",
       "  </thead>\n",
       "  <tbody>\n",
       "    <tr>\n",
       "      <th>0</th>\n",
       "      <td>android user wants move ios best iphone get wi...</td>\n",
       "      <td>5.6</td>\n",
       "    </tr>\n",
       "    <tr>\n",
       "      <th>1</th>\n",
       "      <td>years iphone  finally decided take upgrade ip...</td>\n",
       "      <td>5.6</td>\n",
       "    </tr>\n",
       "    <tr>\n",
       "      <th>2</th>\n",
       "      <td>awesome phone specially youre upgrading older ...</td>\n",
       "      <td>6.2</td>\n",
       "    </tr>\n",
       "    <tr>\n",
       "      <th>3</th>\n",
       "      <td>battery lifecant complain much pretty decent  ...</td>\n",
       "      <td>5.9</td>\n",
       "    </tr>\n",
       "    <tr>\n",
       "      <th>4</th>\n",
       "      <td>apple iphone always best class purchased disco...</td>\n",
       "      <td>6.1</td>\n",
       "    </tr>\n",
       "  </tbody>\n",
       "</table>\n",
       "</div>"
      ],
      "text/plain": [
       "                                             comment  avg_word\n",
       "0  android user wants move ios best iphone get wi...       5.6\n",
       "1   years iphone  finally decided take upgrade ip...       5.6\n",
       "2  awesome phone specially youre upgrading older ...       6.2\n",
       "3  battery lifecant complain much pretty decent  ...       5.9\n",
       "4  apple iphone always best class purchased disco...       6.1"
      ]
     },
     "execution_count": 40,
     "metadata": {},
     "output_type": "execute_result"
    }
   ],
   "source": [
    "df['avg_word'] = df['comment'].apply(lambda x: avg_word(x)).round(1)\n",
    "df[['comment','avg_word']].head()"
   ]
  },
  {
   "cell_type": "code",
   "execution_count": 41,
   "id": "liable-progressive",
   "metadata": {},
   "outputs": [
    {
     "data": {
      "text/html": [
       "<div>\n",
       "<style scoped>\n",
       "    .dataframe tbody tr th:only-of-type {\n",
       "        vertical-align: middle;\n",
       "    }\n",
       "\n",
       "    .dataframe tbody tr th {\n",
       "        vertical-align: top;\n",
       "    }\n",
       "\n",
       "    .dataframe thead th {\n",
       "        text-align: right;\n",
       "    }\n",
       "</style>\n",
       "<table border=\"1\" class=\"dataframe\">\n",
       "  <thead>\n",
       "    <tr style=\"text-align: right;\">\n",
       "      <th></th>\n",
       "      <th>stars</th>\n",
       "      <th>comment</th>\n",
       "      <th>stopwords</th>\n",
       "      <th>punctuation</th>\n",
       "      <th>hastags</th>\n",
       "      <th>numerics</th>\n",
       "      <th>upper</th>\n",
       "      <th>word_count</th>\n",
       "      <th>char_count</th>\n",
       "      <th>avg_word</th>\n",
       "    </tr>\n",
       "  </thead>\n",
       "  <tbody>\n",
       "    <tr>\n",
       "      <th>790</th>\n",
       "      <td>5</td>\n",
       "      <td>android user wants move ios best iphone get wi...</td>\n",
       "      <td>50</td>\n",
       "      <td>14</td>\n",
       "      <td>0</td>\n",
       "      <td>1</td>\n",
       "      <td>4</td>\n",
       "      <td>53</td>\n",
       "      <td>339</td>\n",
       "      <td>5.6</td>\n",
       "    </tr>\n",
       "    <tr>\n",
       "      <th>262</th>\n",
       "      <td>5</td>\n",
       "      <td>awesome phone specially youre upgrading older ...</td>\n",
       "      <td>17</td>\n",
       "      <td>9</td>\n",
       "      <td>0</td>\n",
       "      <td>0</td>\n",
       "      <td>0</td>\n",
       "      <td>28</td>\n",
       "      <td>200</td>\n",
       "      <td>6.2</td>\n",
       "    </tr>\n",
       "  </tbody>\n",
       "</table>\n",
       "</div>"
      ],
      "text/plain": [
       "     stars                                            comment  stopwords  \\\n",
       "790      5  android user wants move ios best iphone get wi...         50   \n",
       "262      5  awesome phone specially youre upgrading older ...         17   \n",
       "\n",
       "     punctuation  hastags  numerics  upper  word_count  char_count  avg_word  \n",
       "790           14        0         1      4          53         339       5.6  \n",
       "262            9        0         0      0          28         200       6.2  "
      ]
     },
     "execution_count": 41,
     "metadata": {},
     "output_type": "execute_result"
    }
   ],
   "source": [
    "df.sample(2)"
   ]
  },
  {
   "cell_type": "code",
   "execution_count": 42,
   "id": "quality-assurance",
   "metadata": {},
   "outputs": [],
   "source": [
    "#df['Time'] = pd.to_datetime(df['Time'],unit='s')"
   ]
  },
  {
   "cell_type": "code",
   "execution_count": 43,
   "id": "productive-bonus",
   "metadata": {},
   "outputs": [],
   "source": [
    "#df= df.drop('ProfileName', axis= 1)"
   ]
  },
  {
   "cell_type": "code",
   "execution_count": 44,
   "id": "infrared-instruction",
   "metadata": {},
   "outputs": [
    {
     "data": {
      "text/plain": [
       "['stars',\n",
       " 'comment',\n",
       " 'stopwords',\n",
       " 'punctuation',\n",
       " 'hastags',\n",
       " 'numerics',\n",
       " 'upper',\n",
       " 'word_count',\n",
       " 'char_count',\n",
       " 'avg_word']"
      ]
     },
     "execution_count": 44,
     "metadata": {},
     "output_type": "execute_result"
    }
   ],
   "source": [
    "list(df)"
   ]
  },
  {
   "cell_type": "code",
   "execution_count": 45,
   "id": "immediate-natural",
   "metadata": {},
   "outputs": [
    {
     "data": {
      "text/html": [
       "<div>\n",
       "<style scoped>\n",
       "    .dataframe tbody tr th:only-of-type {\n",
       "        vertical-align: middle;\n",
       "    }\n",
       "\n",
       "    .dataframe tbody tr th {\n",
       "        vertical-align: top;\n",
       "    }\n",
       "\n",
       "    .dataframe thead th {\n",
       "        text-align: right;\n",
       "    }\n",
       "</style>\n",
       "<table border=\"1\" class=\"dataframe\">\n",
       "  <thead>\n",
       "    <tr style=\"text-align: right;\">\n",
       "      <th></th>\n",
       "      <th>stars</th>\n",
       "      <th>comment</th>\n",
       "      <th>stopwords</th>\n",
       "      <th>punctuation</th>\n",
       "      <th>hastags</th>\n",
       "      <th>numerics</th>\n",
       "      <th>upper</th>\n",
       "      <th>word_count</th>\n",
       "      <th>char_count</th>\n",
       "      <th>avg_word</th>\n",
       "    </tr>\n",
       "  </thead>\n",
       "  <tbody>\n",
       "    <tr>\n",
       "      <th>807</th>\n",
       "      <td>4</td>\n",
       "      <td>read lot negative reviews regarding buying iph...</td>\n",
       "      <td>75</td>\n",
       "      <td>9</td>\n",
       "      <td>0</td>\n",
       "      <td>1</td>\n",
       "      <td>3</td>\n",
       "      <td>89</td>\n",
       "      <td>575</td>\n",
       "      <td>5.7</td>\n",
       "    </tr>\n",
       "    <tr>\n",
       "      <th>995</th>\n",
       "      <td>4</td>\n",
       "      <td>great iphone looking long term usage durabilit...</td>\n",
       "      <td>30</td>\n",
       "      <td>3</td>\n",
       "      <td>0</td>\n",
       "      <td>1</td>\n",
       "      <td>0</td>\n",
       "      <td>41</td>\n",
       "      <td>274</td>\n",
       "      <td>5.8</td>\n",
       "    </tr>\n",
       "    <tr>\n",
       "      <th>342</th>\n",
       "      <td>5</td>\n",
       "      <td>awesome phone specially youre upgrading older ...</td>\n",
       "      <td>17</td>\n",
       "      <td>9</td>\n",
       "      <td>0</td>\n",
       "      <td>0</td>\n",
       "      <td>0</td>\n",
       "      <td>28</td>\n",
       "      <td>200</td>\n",
       "      <td>6.2</td>\n",
       "    </tr>\n",
       "    <tr>\n",
       "      <th>885</th>\n",
       "      <td>5</td>\n",
       "      <td>apple iphone always best class purchased disco...</td>\n",
       "      <td>56</td>\n",
       "      <td>7</td>\n",
       "      <td>0</td>\n",
       "      <td>0</td>\n",
       "      <td>4</td>\n",
       "      <td>75</td>\n",
       "      <td>532</td>\n",
       "      <td>6.1</td>\n",
       "    </tr>\n",
       "    <tr>\n",
       "      <th>1025</th>\n",
       "      <td>4</td>\n",
       "      <td>great iphone looking long term usage durabilit...</td>\n",
       "      <td>30</td>\n",
       "      <td>3</td>\n",
       "      <td>0</td>\n",
       "      <td>1</td>\n",
       "      <td>0</td>\n",
       "      <td>41</td>\n",
       "      <td>274</td>\n",
       "      <td>5.8</td>\n",
       "    </tr>\n",
       "  </tbody>\n",
       "</table>\n",
       "</div>"
      ],
      "text/plain": [
       "      stars                                            comment  stopwords  \\\n",
       "807       4  read lot negative reviews regarding buying iph...         75   \n",
       "995       4  great iphone looking long term usage durabilit...         30   \n",
       "342       5  awesome phone specially youre upgrading older ...         17   \n",
       "885       5  apple iphone always best class purchased disco...         56   \n",
       "1025      4  great iphone looking long term usage durabilit...         30   \n",
       "\n",
       "      punctuation  hastags  numerics  upper  word_count  char_count  avg_word  \n",
       "807             9        0         1      3          89         575       5.7  \n",
       "995             3        0         1      0          41         274       5.8  \n",
       "342             9        0         0      0          28         200       6.2  \n",
       "885             7        0         0      4          75         532       6.1  \n",
       "1025            3        0         1      0          41         274       5.8  "
      ]
     },
     "execution_count": 45,
     "metadata": {},
     "output_type": "execute_result"
    }
   ],
   "source": [
    "df.sample(5)"
   ]
  },
  {
   "cell_type": "code",
   "execution_count": 46,
   "id": "manufactured-cisco",
   "metadata": {},
   "outputs": [],
   "source": [
    "add_words = [\"get\",     \n",
    "\"use\",     \n",
    "\"first\",      \n",
    "\"like\",\"u\",\"goes\"      \n",
    "]\n",
    "\n",
    "stop_words = set(stopwords.words(\"english\"))\n",
    "stop_added = stop_words.union(add_words)"
   ]
  },
  {
   "cell_type": "code",
   "execution_count": 47,
   "id": "white-scanning",
   "metadata": {},
   "outputs": [
    {
     "data": {
      "text/plain": [
       "780     android user wants move ios best iphone withou...\n",
       "965     great iphone looking long term usage durabilit...\n",
       "486     honest feel paid price brand iphone definitely...\n",
       "34      apple iphone always best class purchased disco...\n",
       "1074    apple iphone always best class purchased disco...\n",
       "177     read lot negative reviews regarding buying iph...\n",
       "297     read lot negative reviews regarding buying iph...\n",
       "234     apple iphone always best class purchased disco...\n",
       "53      battery lifecant complain much pretty decent w...\n",
       "661     years iphone finally decided take upgrade ipho...\n",
       "Name: comment, dtype: object"
      ]
     },
     "execution_count": 47,
     "metadata": {},
     "output_type": "execute_result"
    }
   ],
   "source": [
    "df['comment'] = df['comment'].apply(lambda x: \" \".join(x for x in x.split() if x not in stop_added))\n",
    "df['comment'].sample(10)"
   ]
  },
  {
   "cell_type": "code",
   "execution_count": 48,
   "id": "prescription-baptist",
   "metadata": {},
   "outputs": [],
   "source": [
    "df1= df"
   ]
  },
  {
   "cell_type": "code",
   "execution_count": 49,
   "id": "immune-finance",
   "metadata": {},
   "outputs": [],
   "source": [
    "mask = df1.comment.str.endswith('br') \n",
    "df1.loc[mask, 'comment'] = df1.loc[mask, 'comment'].str[:-2]"
   ]
  },
  {
   "cell_type": "code",
   "execution_count": 50,
   "id": "direct-richardson",
   "metadata": {},
   "outputs": [],
   "source": [
    "df1['comment'] = df1['comment'].str.rstrip('tty')"
   ]
  },
  {
   "cell_type": "code",
   "execution_count": 51,
   "id": "possible-basketball",
   "metadata": {},
   "outputs": [
    {
     "data": {
      "text/plain": [
       "0       android user wants move ios best iphone withou...\n",
       "1       years iphone finally decided take upgrade ipho...\n",
       "2       awesome phone specially youre upgrading older ...\n",
       "3       battery lifecant complain much pretty decent w...\n",
       "4       apple iphone always best class purchased disco...\n",
       "                              ...                        \n",
       "1095    great iphone looking long term usage durabilit...\n",
       "1096    honest feel paid price brand iphone definitely...\n",
       "1097    read lot negative reviews regarding buying iph...\n",
       "1098    read review know many bad comments also intrig...\n",
       "1099    sceptical purchase shifting android ios line s...\n",
       "Name: comment, Length: 1100, dtype: object"
      ]
     },
     "execution_count": 51,
     "metadata": {},
     "output_type": "execute_result"
    }
   ],
   "source": [
    "df1['comment'].apply(lambda x: x[:-2] if x.endswith('tty') else x)"
   ]
  },
  {
   "cell_type": "code",
   "execution_count": 52,
   "id": "corresponding-identity",
   "metadata": {},
   "outputs": [
    {
     "data": {
      "text/plain": [
       "Series([], Name: comment, dtype: object)"
      ]
     },
     "execution_count": 52,
     "metadata": {},
     "output_type": "execute_result"
    }
   ],
   "source": [
    "df1.loc[df1.comment.str.endswith('br'), 'comment']\n"
   ]
  },
  {
   "cell_type": "code",
   "execution_count": 53,
   "id": "distant-myanmar",
   "metadata": {},
   "outputs": [
    {
     "data": {
      "text/plain": [
       "[]"
      ]
     },
     "execution_count": 53,
     "metadata": {},
     "output_type": "execute_result"
    }
   ],
   "source": [
    "df1.loc[df1.punctuation >= 1000].comment.tolist()"
   ]
  },
  {
   "cell_type": "code",
   "execution_count": 54,
   "id": "atlantic-representative",
   "metadata": {},
   "outputs": [
    {
     "data": {
      "text/plain": [
       "[]"
      ]
     },
     "execution_count": 54,
     "metadata": {},
     "output_type": "execute_result"
    }
   ],
   "source": [
    "df.loc[df.punctuation >= 1000].comment.tolist()\n"
   ]
  },
  {
   "cell_type": "code",
   "execution_count": 55,
   "id": "interesting-rogers",
   "metadata": {},
   "outputs": [
    {
     "data": {
      "text/plain": [
       "iphone        1980\n",
       "android       1650\n",
       "phone         1430\n",
       "value         1210\n",
       "money         1210\n",
       "apple         1210\n",
       "also           990\n",
       "ios            990\n",
       "good           880\n",
       "best           770\n",
       "battery        770\n",
       "buy            770\n",
       "great          770\n",
       "using          770\n",
       "pro            660\n",
       "amazon         660\n",
       "time           660\n",
       "dont           660\n",
       "might          660\n",
       "price          550\n",
       "long           550\n",
       "small          550\n",
       "charger        550\n",
       "want           550\n",
       "easy           550\n",
       "life           550\n",
       "experience     550\n",
       "lot            550\n",
       "always         550\n",
       "takes          550\n",
       "one            440\n",
       "brand          440\n",
       "way            440\n",
       "camera         440\n",
       "away           440\n",
       "would          440\n",
       "quality        440\n",
       "usage          440\n",
       "wont           440\n",
       "many           440\n",
       "even           440\n",
       "display        440\n",
       "bill           440\n",
       "makes          440\n",
       "oneplus        330\n",
       "features       330\n",
       "heavy          330\n",
       "heating        330\n",
       "go             330\n",
       "cover          330\n",
       "dtype: int64"
      ]
     },
     "execution_count": 55,
     "metadata": {},
     "output_type": "execute_result"
    }
   ],
   "source": [
    "freq = pd.Series(' '.join(df['comment']).split()).value_counts()[:50]\n",
    "freq"
   ]
  },
  {
   "cell_type": "code",
   "execution_count": 56,
   "id": "junior-aberdeen",
   "metadata": {},
   "outputs": [],
   "source": [
    "df.to_csv('iphonevaluemoney2.csv', index=False)"
   ]
  },
  {
   "cell_type": "code",
   "execution_count": null,
   "id": "biblical-dressing",
   "metadata": {},
   "outputs": [],
   "source": []
  }
 ],
 "metadata": {
  "kernelspec": {
   "display_name": "Python 3",
   "language": "python",
   "name": "python3"
  },
  "language_info": {
   "codemirror_mode": {
    "name": "ipython",
    "version": 3
   },
   "file_extension": ".py",
   "mimetype": "text/x-python",
   "name": "python",
   "nbconvert_exporter": "python",
   "pygments_lexer": "ipython3",
   "version": "3.8.6"
  }
 },
 "nbformat": 4,
 "nbformat_minor": 5
}
